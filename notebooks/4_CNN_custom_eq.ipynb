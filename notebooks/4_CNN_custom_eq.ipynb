{
 "cells": [
  {
   "cell_type": "code",
   "execution_count": 1,
   "id": "f9ec556a",
   "metadata": {},
   "outputs": [],
   "source": [
    "%load_ext autoreload\n",
    "%autoreload 2"
   ]
  },
  {
   "cell_type": "code",
   "execution_count": 2,
   "id": "c9a888db",
   "metadata": {},
   "outputs": [],
   "source": [
    "BASE_PATH=\"/mnt/Archivos/dataset-xray\""
   ]
  },
  {
   "cell_type": "code",
   "execution_count": 3,
   "id": "1566b209",
   "metadata": {},
   "outputs": [],
   "source": [
    "from pathlib import Path\n",
    "from covidframe.tools.load import load_database_from_hdf"
   ]
  },
  {
   "cell_type": "code",
   "execution_count": 4,
   "id": "9d69b92e",
   "metadata": {},
   "outputs": [],
   "source": [
    "base_dir = Path(BASE_PATH)\n",
    "DEFAULT_DATABASE_NAME_TRAIN = \"database_balanced_train.h5\"\n",
    "DEFAULT_DATABASE_NAME_TEST = \"database_balanced_test.h5\""
   ]
  },
  {
   "cell_type": "code",
   "execution_count": 5,
   "id": "b0931efc",
   "metadata": {},
   "outputs": [],
   "source": [
    "df_train = load_database_from_hdf(filename= base_dir / DEFAULT_DATABASE_NAME_TRAIN)"
   ]
  },
  {
   "cell_type": "code",
   "execution_count": 6,
   "id": "6e9f48b1",
   "metadata": {},
   "outputs": [
    {
     "data": {
      "text/html": [
       "<div>\n",
       "<style scoped>\n",
       "    .dataframe tbody tr th:only-of-type {\n",
       "        vertical-align: middle;\n",
       "    }\n",
       "\n",
       "    .dataframe tbody tr th {\n",
       "        vertical-align: top;\n",
       "    }\n",
       "\n",
       "    .dataframe thead th {\n",
       "        text-align: right;\n",
       "    }\n",
       "</style>\n",
       "<table border=\"1\" class=\"dataframe\">\n",
       "  <thead>\n",
       "    <tr style=\"text-align: right;\">\n",
       "      <th></th>\n",
       "      <th>image_path</th>\n",
       "      <th>image_name</th>\n",
       "      <th>original_category</th>\n",
       "      <th>id</th>\n",
       "      <th>type</th>\n",
       "      <th>source</th>\n",
       "      <th>folder_name</th>\n",
       "      <th>cv_hash</th>\n",
       "      <th>im_hash</th>\n",
       "      <th>original_image_path</th>\n",
       "      <th>original_image_name</th>\n",
       "      <th>category</th>\n",
       "      <th>size</th>\n",
       "      <th>is_squared</th>\n",
       "      <th>aspect_ratio</th>\n",
       "      <th>resized</th>\n",
       "      <th>new_size</th>\n",
       "    </tr>\n",
       "  </thead>\n",
       "  <tbody>\n",
       "    <tr>\n",
       "      <th>0</th>\n",
       "      <td>/mnt/Archivos/dataset-xray/database_clean/COVI...</td>\n",
       "      <td>COVID-19_Radiography_Dataset_COVID-2966.png</td>\n",
       "      <td>COVID</td>\n",
       "      <td>COVID-2966</td>\n",
       "      <td>folders-metadata</td>\n",
       "      <td>kaggle</td>\n",
       "      <td>COVID-19_Radiography_Dataset</td>\n",
       "      <td>2525194807696518223</td>\n",
       "      <td>e5c2d8279f7ba482dfc3fab7049fd9290be29f89edad1d...</td>\n",
       "      <td>/mnt/Archivos/dataset-xray/COVID-19_Radiograph...</td>\n",
       "      <td>COVID-2966.png</td>\n",
       "      <td>covid-19</td>\n",
       "      <td>(299, 299)</td>\n",
       "      <td>True</td>\n",
       "      <td>1.0</td>\n",
       "      <td>[[58, 74, 67, 51, 35, 21, 15, 10, 8, 9, 9, 7, ...</td>\n",
       "      <td>(299, 299)</td>\n",
       "    </tr>\n",
       "    <tr>\n",
       "      <th>1</th>\n",
       "      <td>/mnt/Archivos/dataset-xray/database_clean/COVI...</td>\n",
       "      <td>COVID-19_Radiography_Dataset_Lung_Opacity-2667...</td>\n",
       "      <td>Lung_Opacity</td>\n",
       "      <td>Lung_Opacity-2667</td>\n",
       "      <td>folders-metadata</td>\n",
       "      <td>kaggle</td>\n",
       "      <td>COVID-19_Radiography_Dataset</td>\n",
       "      <td>1085137777431229004</td>\n",
       "      <td>7fb1a436ffccd49f8c21821317dad08899d01f70981ed8...</td>\n",
       "      <td>/mnt/Archivos/dataset-xray/COVID-19_Radiograph...</td>\n",
       "      <td>Lung_Opacity-2667.png</td>\n",
       "      <td>pneumonia</td>\n",
       "      <td>(299, 299)</td>\n",
       "      <td>True</td>\n",
       "      <td>1.0</td>\n",
       "      <td>[[11, 25, 27, 26, 26, 27, 27, 26, 26, 26, 26, ...</td>\n",
       "      <td>(299, 299)</td>\n",
       "    </tr>\n",
       "    <tr>\n",
       "      <th>2</th>\n",
       "      <td>/mnt/Archivos/dataset-xray/database_clean/COVI...</td>\n",
       "      <td>COVID-19_Radiography_Dataset_Lung_Opacity-5383...</td>\n",
       "      <td>Lung_Opacity</td>\n",
       "      <td>Lung_Opacity-5383</td>\n",
       "      <td>folders-metadata</td>\n",
       "      <td>kaggle</td>\n",
       "      <td>COVID-19_Radiography_Dataset</td>\n",
       "      <td>1082842259636424524</td>\n",
       "      <td>fc2d0e2eea7b55c37a2a9535d4bcc713c1b3b1c21b4068...</td>\n",
       "      <td>/mnt/Archivos/dataset-xray/COVID-19_Radiograph...</td>\n",
       "      <td>Lung_Opacity-5383.png</td>\n",
       "      <td>pneumonia</td>\n",
       "      <td>(299, 299)</td>\n",
       "      <td>True</td>\n",
       "      <td>1.0</td>\n",
       "      <td>[[165, 157, 148, 142, 136, 130, 125, 120, 118,...</td>\n",
       "      <td>(299, 299)</td>\n",
       "    </tr>\n",
       "    <tr>\n",
       "      <th>3</th>\n",
       "      <td>/mnt/Archivos/dataset-xray/database_clean/COVI...</td>\n",
       "      <td>COVID-19_Radiography_Dataset_COVID-2346.png</td>\n",
       "      <td>COVID</td>\n",
       "      <td>COVID-2346</td>\n",
       "      <td>folders-metadata</td>\n",
       "      <td>kaggle</td>\n",
       "      <td>COVID-19_Radiography_Dataset</td>\n",
       "      <td>2167979743500276055</td>\n",
       "      <td>bfc280a462368db1679ce543ae8bbc7adefce20cc2a0d2...</td>\n",
       "      <td>/mnt/Archivos/dataset-xray/COVID-19_Radiograph...</td>\n",
       "      <td>COVID-2346.png</td>\n",
       "      <td>covid-19</td>\n",
       "      <td>(299, 299)</td>\n",
       "      <td>True</td>\n",
       "      <td>1.0</td>\n",
       "      <td>[[99, 86, 72, 59, 48, 39, 33, 28, 26, 28, 32, ...</td>\n",
       "      <td>(299, 299)</td>\n",
       "    </tr>\n",
       "    <tr>\n",
       "      <th>4</th>\n",
       "      <td>/mnt/Archivos/dataset-xray/database_clean/COVI...</td>\n",
       "      <td>COVID-19_Radiography_Dataset_COVID-281.png</td>\n",
       "      <td>COVID</td>\n",
       "      <td>COVID-281</td>\n",
       "      <td>folders-metadata</td>\n",
       "      <td>kaggle</td>\n",
       "      <td>COVID-19_Radiography_Dataset</td>\n",
       "      <td>508639633549896718</td>\n",
       "      <td>d5d8833251de76f38f09fc8dd1dcace5bfdf2e13a79a45...</td>\n",
       "      <td>/mnt/Archivos/dataset-xray/COVID-19_Radiograph...</td>\n",
       "      <td>COVID-281.png</td>\n",
       "      <td>covid-19</td>\n",
       "      <td>(299, 299)</td>\n",
       "      <td>True</td>\n",
       "      <td>1.0</td>\n",
       "      <td>[[217, 216, 215, 215, 217, 219, 218, 217, 218,...</td>\n",
       "      <td>(299, 299)</td>\n",
       "    </tr>\n",
       "  </tbody>\n",
       "</table>\n",
       "</div>"
      ],
      "text/plain": [
       "                                          image_path  \\\n",
       "0  /mnt/Archivos/dataset-xray/database_clean/COVI...   \n",
       "1  /mnt/Archivos/dataset-xray/database_clean/COVI...   \n",
       "2  /mnt/Archivos/dataset-xray/database_clean/COVI...   \n",
       "3  /mnt/Archivos/dataset-xray/database_clean/COVI...   \n",
       "4  /mnt/Archivos/dataset-xray/database_clean/COVI...   \n",
       "\n",
       "                                          image_name original_category  \\\n",
       "0        COVID-19_Radiography_Dataset_COVID-2966.png             COVID   \n",
       "1  COVID-19_Radiography_Dataset_Lung_Opacity-2667...      Lung_Opacity   \n",
       "2  COVID-19_Radiography_Dataset_Lung_Opacity-5383...      Lung_Opacity   \n",
       "3        COVID-19_Radiography_Dataset_COVID-2346.png             COVID   \n",
       "4         COVID-19_Radiography_Dataset_COVID-281.png             COVID   \n",
       "\n",
       "                  id              type  source                   folder_name  \\\n",
       "0         COVID-2966  folders-metadata  kaggle  COVID-19_Radiography_Dataset   \n",
       "1  Lung_Opacity-2667  folders-metadata  kaggle  COVID-19_Radiography_Dataset   \n",
       "2  Lung_Opacity-5383  folders-metadata  kaggle  COVID-19_Radiography_Dataset   \n",
       "3         COVID-2346  folders-metadata  kaggle  COVID-19_Radiography_Dataset   \n",
       "4          COVID-281  folders-metadata  kaggle  COVID-19_Radiography_Dataset   \n",
       "\n",
       "               cv_hash                                            im_hash  \\\n",
       "0  2525194807696518223  e5c2d8279f7ba482dfc3fab7049fd9290be29f89edad1d...   \n",
       "1  1085137777431229004  7fb1a436ffccd49f8c21821317dad08899d01f70981ed8...   \n",
       "2  1082842259636424524  fc2d0e2eea7b55c37a2a9535d4bcc713c1b3b1c21b4068...   \n",
       "3  2167979743500276055  bfc280a462368db1679ce543ae8bbc7adefce20cc2a0d2...   \n",
       "4   508639633549896718  d5d8833251de76f38f09fc8dd1dcace5bfdf2e13a79a45...   \n",
       "\n",
       "                                 original_image_path    original_image_name  \\\n",
       "0  /mnt/Archivos/dataset-xray/COVID-19_Radiograph...         COVID-2966.png   \n",
       "1  /mnt/Archivos/dataset-xray/COVID-19_Radiograph...  Lung_Opacity-2667.png   \n",
       "2  /mnt/Archivos/dataset-xray/COVID-19_Radiograph...  Lung_Opacity-5383.png   \n",
       "3  /mnt/Archivos/dataset-xray/COVID-19_Radiograph...         COVID-2346.png   \n",
       "4  /mnt/Archivos/dataset-xray/COVID-19_Radiograph...          COVID-281.png   \n",
       "\n",
       "    category        size  is_squared  aspect_ratio  \\\n",
       "0   covid-19  (299, 299)        True           1.0   \n",
       "1  pneumonia  (299, 299)        True           1.0   \n",
       "2  pneumonia  (299, 299)        True           1.0   \n",
       "3   covid-19  (299, 299)        True           1.0   \n",
       "4   covid-19  (299, 299)        True           1.0   \n",
       "\n",
       "                                             resized    new_size  \n",
       "0  [[58, 74, 67, 51, 35, 21, 15, 10, 8, 9, 9, 7, ...  (299, 299)  \n",
       "1  [[11, 25, 27, 26, 26, 27, 27, 26, 26, 26, 26, ...  (299, 299)  \n",
       "2  [[165, 157, 148, 142, 136, 130, 125, 120, 118,...  (299, 299)  \n",
       "3  [[99, 86, 72, 59, 48, 39, 33, 28, 26, 28, 32, ...  (299, 299)  \n",
       "4  [[217, 216, 215, 215, 217, 219, 218, 217, 218,...  (299, 299)  "
      ]
     },
     "execution_count": 6,
     "metadata": {},
     "output_type": "execute_result"
    }
   ],
   "source": [
    "df_train.head()"
   ]
  },
  {
   "cell_type": "code",
   "execution_count": 7,
   "id": "99c6342d",
   "metadata": {},
   "outputs": [],
   "source": [
    "import numpy as np"
   ]
  },
  {
   "cell_type": "code",
   "execution_count": 8,
   "id": "98d13227",
   "metadata": {},
   "outputs": [],
   "source": [
    "X = df_train[\"resized\"]"
   ]
  },
  {
   "cell_type": "code",
   "execution_count": 9,
   "id": "5288671e",
   "metadata": {},
   "outputs": [
    {
     "data": {
      "text/plain": [
       "(9732,)"
      ]
     },
     "execution_count": 9,
     "metadata": {},
     "output_type": "execute_result"
    }
   ],
   "source": [
    "X.shape"
   ]
  },
  {
   "cell_type": "code",
   "execution_count": 10,
   "id": "37da2803",
   "metadata": {},
   "outputs": [],
   "source": [
    "category_mappings = {\n",
    "    \"normal\":0,\n",
    "    \"pneumonia\":1,\n",
    "    \"covid-19\":2\n",
    "}"
   ]
  },
  {
   "cell_type": "code",
   "execution_count": 11,
   "id": "594ba2b6",
   "metadata": {},
   "outputs": [],
   "source": [
    "y = df_train[\"category\"].map(category_mappings)"
   ]
  },
  {
   "cell_type": "code",
   "execution_count": 12,
   "id": "66f5b763",
   "metadata": {},
   "outputs": [
    {
     "data": {
      "text/plain": [
       "0       2\n",
       "1       1\n",
       "2       1\n",
       "3       2\n",
       "4       2\n",
       "       ..\n",
       "9727    1\n",
       "9728    2\n",
       "9729    2\n",
       "9730    0\n",
       "9731    0\n",
       "Name: category, Length: 9732, dtype: int64"
      ]
     },
     "execution_count": 12,
     "metadata": {},
     "output_type": "execute_result"
    }
   ],
   "source": [
    "y"
   ]
  },
  {
   "cell_type": "code",
   "execution_count": 13,
   "id": "65ba4532",
   "metadata": {},
   "outputs": [
    {
     "data": {
      "text/plain": [
       "0"
      ]
     },
     "execution_count": 13,
     "metadata": {},
     "output_type": "execute_result"
    }
   ],
   "source": [
    "import gc\n",
    "del df_train\n",
    "gc.collect()"
   ]
  },
  {
   "cell_type": "code",
   "execution_count": 14,
   "id": "93f8c645",
   "metadata": {},
   "outputs": [],
   "source": [
    "from covidframe.preprocess.equalization import apply_equalization"
   ]
  },
  {
   "cell_type": "code",
   "execution_count": 15,
   "id": "14793151",
   "metadata": {},
   "outputs": [],
   "source": [
    "X_eq_simple = X.apply(lambda x: apply_equalization(x, \"simple\"))"
   ]
  },
  {
   "cell_type": "code",
   "execution_count": 17,
   "id": "094c4c3a",
   "metadata": {},
   "outputs": [],
   "source": [
    "X_eq_clahe = X.apply(lambda x: apply_equalization(x))"
   ]
  },
  {
   "cell_type": "code",
   "execution_count": 23,
   "id": "d247255c",
   "metadata": {},
   "outputs": [],
   "source": [
    "X_eq_simple = np.stack(X_eq_simple)"
   ]
  },
  {
   "cell_type": "code",
   "execution_count": 24,
   "id": "a6b6e9b2",
   "metadata": {},
   "outputs": [],
   "source": [
    "from sklearn.model_selection import train_test_split"
   ]
  },
  {
   "cell_type": "code",
   "execution_count": 25,
   "id": "f0e1f83d",
   "metadata": {},
   "outputs": [],
   "source": [
    "X_train, X_val, y_train, y_val = train_test_split(X_eq_simple, y, test_size=0.25, random_state=100)"
   ]
  },
  {
   "cell_type": "code",
   "execution_count": 26,
   "id": "2341024c",
   "metadata": {},
   "outputs": [],
   "source": [
    "X_train = X_train.reshape((-1, 299, 299, 1))\n",
    "X_val = X_val.reshape((-1, 299, 299, 1))"
   ]
  },
  {
   "cell_type": "code",
   "execution_count": 27,
   "id": "eb1137dc",
   "metadata": {},
   "outputs": [
    {
     "data": {
      "text/plain": [
       "(7299, 299, 299, 1)"
      ]
     },
     "execution_count": 27,
     "metadata": {},
     "output_type": "execute_result"
    }
   ],
   "source": [
    "X_train.shape"
   ]
  },
  {
   "cell_type": "code",
   "execution_count": 28,
   "id": "dcc98976",
   "metadata": {},
   "outputs": [
    {
     "data": {
      "text/plain": [
       "(2433, 299, 299, 1)"
      ]
     },
     "execution_count": 28,
     "metadata": {},
     "output_type": "execute_result"
    }
   ],
   "source": [
    "X_val.shape"
   ]
  },
  {
   "cell_type": "code",
   "execution_count": 33,
   "id": "cd0ea15a",
   "metadata": {},
   "outputs": [],
   "source": [
    "IMG_SIZE=(299,299)\n",
    "batch_size=10"
   ]
  },
  {
   "cell_type": "code",
   "execution_count": 34,
   "id": "39006475",
   "metadata": {},
   "outputs": [],
   "source": [
    "import tensorflow as tf"
   ]
  },
  {
   "cell_type": "code",
   "execution_count": 35,
   "id": "96e200f6",
   "metadata": {},
   "outputs": [
    {
     "name": "stderr",
     "output_type": "stream",
     "text": [
      "2021-12-14 21:55:28.867855: W tensorflow/core/framework/cpu_allocator_impl.cc:82] Allocation of 652537899 exceeds 10% of free system memory.\n"
     ]
    }
   ],
   "source": [
    "dataset_train = tf.data.Dataset.from_tensor_slices((X_train, y_train))\n",
    "dataset_train = dataset_train.shuffle(len(X_train))\n",
    "#dataset_train = dataset_train.map(parse_function, num_parallel_calls=4)\n",
    "dataset_train = dataset_train.batch(batch_size)\n",
    "dataset_train = dataset_train.prefetch(1)"
   ]
  },
  {
   "cell_type": "code",
   "execution_count": 36,
   "id": "f7308c82",
   "metadata": {},
   "outputs": [
    {
     "name": "stderr",
     "output_type": "stream",
     "text": [
      "2021-12-14 21:55:32.273036: W tensorflow/core/framework/cpu_allocator_impl.cc:82] Allocation of 217512633 exceeds 10% of free system memory.\n"
     ]
    }
   ],
   "source": [
    "dataset_val = tf.data.Dataset.from_tensor_slices((X_val, y_val))\n",
    "dataset_val = dataset_val.shuffle(len(X_val))\n",
    "#dataset_val = dataset_val.map(parse_function, num_parallel_calls=4)\n",
    "dataset_val = dataset_val.batch(batch_size)\n",
    "dataset_val = dataset_val.prefetch(1)"
   ]
  },
  {
   "cell_type": "code",
   "execution_count": 37,
   "id": "c74b72df",
   "metadata": {},
   "outputs": [],
   "source": [
    "from tensorflow.keras import backend as K\n",
    "import tensorflow as tf\n",
    "\n",
    "tf.random.set_seed(0)"
   ]
  },
  {
   "cell_type": "code",
   "execution_count": 38,
   "id": "87867367",
   "metadata": {},
   "outputs": [],
   "source": [
    "from tensorflow.keras.models import Model\n",
    "from tensorflow.keras.layers import Input, Conv2D, MaxPool2D, ReLU, Flatten, Dense, Rescaling\n",
    "from tensorflow.keras.optimizers import SGD\n",
    "\n",
    "def create_model():\n",
    "    K.clear_session()\n",
    "\n",
    "    input_layer = Input(shape=(IMG_SIZE[0], IMG_SIZE[1], 1))\n",
    "    rescaling_layer = Rescaling(scale=1 / 127.5, offset=-1)(input_layer)\n",
    "    convolutional_1 = Conv2D(16, kernel_size=3, padding=\"same\")(rescaling_layer)\n",
    "    max_pooling_1 = MaxPool2D(2)(convolutional_1)\n",
    "    relu_1 = ReLU()(max_pooling_1)\n",
    "    convolutional_2 = Conv2D(32, kernel_size=3, padding=\"same\")(relu_1)\n",
    "    max_pooling_2 = MaxPool2D(2)(convolutional_2)\n",
    "    relu_2 = ReLU()(max_pooling_2)\n",
    "    convolutional_3 = Conv2D(64, kernel_size=3)(relu_2)\n",
    "    relu_3 = ReLU()(convolutional_3)\n",
    "    flatten = Flatten()(relu_3)\n",
    "    dense = Dense(256, activation=\"relu\")(flatten)\n",
    "    output_layer = Dense(3, activation=\"softmax\")(dense)\n",
    "\n",
    "    model = Model(inputs=input_layer, outputs=output_layer)\n",
    "\n",
    "    return model"
   ]
  },
  {
   "cell_type": "code",
   "execution_count": 39,
   "id": "f4ece732",
   "metadata": {},
   "outputs": [
    {
     "name": "stderr",
     "output_type": "stream",
     "text": [
      "2021-12-14 21:55:46.768048: W tensorflow/core/framework/cpu_allocator_impl.cc:82] Allocation of 217512633 exceeds 10% of free system memory.\n"
     ]
    },
    {
     "data": {
      "text/plain": [
       "(<tf.Tensor: shape=(10, 299, 299, 1), dtype=uint8, numpy=\n",
       " array([[[[  4],\n",
       "          [  4],\n",
       "          [  4],\n",
       "          ...,\n",
       "          [  4],\n",
       "          [  4],\n",
       "          [  4]],\n",
       " \n",
       "         [[  4],\n",
       "          [  4],\n",
       "          [  4],\n",
       "          ...,\n",
       "          [  4],\n",
       "          [  4],\n",
       "          [  4]],\n",
       " \n",
       "         [[  4],\n",
       "          [  4],\n",
       "          [  4],\n",
       "          ...,\n",
       "          [  4],\n",
       "          [  4],\n",
       "          [  4]],\n",
       " \n",
       "         ...,\n",
       " \n",
       "         [[ 11],\n",
       "          [ 17],\n",
       "          [ 23],\n",
       "          ...,\n",
       "          [ 77],\n",
       "          [138],\n",
       "          [188]],\n",
       " \n",
       "         [[ 18],\n",
       "          [ 25],\n",
       "          [ 24],\n",
       "          ...,\n",
       "          [ 80],\n",
       "          [143],\n",
       "          [191]],\n",
       " \n",
       "         [[ 23],\n",
       "          [ 17],\n",
       "          [ 13],\n",
       "          ...,\n",
       "          [ 82],\n",
       "          [147],\n",
       "          [197]]],\n",
       " \n",
       " \n",
       "        [[[248],\n",
       "          [242],\n",
       "          [239],\n",
       "          ...,\n",
       "          [146],\n",
       "          [145],\n",
       "          [137]],\n",
       " \n",
       "         [[236],\n",
       "          [233],\n",
       "          [220],\n",
       "          ...,\n",
       "          [ 37],\n",
       "          [ 36],\n",
       "          [ 30]],\n",
       " \n",
       "         [[223],\n",
       "          [203],\n",
       "          [168],\n",
       "          ...,\n",
       "          [ 15],\n",
       "          [ 15],\n",
       "          [  3]],\n",
       " \n",
       "         ...,\n",
       " \n",
       "         [[ 61],\n",
       "          [ 26],\n",
       "          [ 18],\n",
       "          ...,\n",
       "          [ 12],\n",
       "          [ 12],\n",
       "          [  3]],\n",
       " \n",
       "         [[ 61],\n",
       "          [ 26],\n",
       "          [ 18],\n",
       "          ...,\n",
       "          [ 12],\n",
       "          [ 12],\n",
       "          [  3]],\n",
       " \n",
       "         [[ 64],\n",
       "          [ 28],\n",
       "          [ 19],\n",
       "          ...,\n",
       "          [ 12],\n",
       "          [ 12],\n",
       "          [  3]]],\n",
       " \n",
       " \n",
       "        [[[123],\n",
       "          [ 73],\n",
       "          [ 48],\n",
       "          ...,\n",
       "          [200],\n",
       "          [197],\n",
       "          [197]],\n",
       " \n",
       "         [[ 76],\n",
       "          [ 46],\n",
       "          [ 37],\n",
       "          ...,\n",
       "          [202],\n",
       "          [197],\n",
       "          [194]],\n",
       " \n",
       "         [[ 66],\n",
       "          [ 41],\n",
       "          [ 36],\n",
       "          ...,\n",
       "          [205],\n",
       "          [197],\n",
       "          [194]],\n",
       " \n",
       "         ...,\n",
       " \n",
       "         [[ 28],\n",
       "          [ 28],\n",
       "          [ 28],\n",
       "          ...,\n",
       "          [186],\n",
       "          [180],\n",
       "          [183]],\n",
       " \n",
       "         [[ 29],\n",
       "          [ 29],\n",
       "          [ 29],\n",
       "          ...,\n",
       "          [186],\n",
       "          [183],\n",
       "          [186]],\n",
       " \n",
       "         [[ 30],\n",
       "          [ 30],\n",
       "          [ 30],\n",
       "          ...,\n",
       "          [186],\n",
       "          [186],\n",
       "          [183]]],\n",
       " \n",
       " \n",
       "        ...,\n",
       " \n",
       " \n",
       "        [[[ 12],\n",
       "          [ 12],\n",
       "          [ 11],\n",
       "          ...,\n",
       "          [109],\n",
       "          [104],\n",
       "          [ 96]],\n",
       " \n",
       "         [[ 14],\n",
       "          [ 16],\n",
       "          [ 15],\n",
       "          ...,\n",
       "          [105],\n",
       "          [ 99],\n",
       "          [ 89]],\n",
       " \n",
       "         [[ 18],\n",
       "          [ 20],\n",
       "          [ 19],\n",
       "          ...,\n",
       "          [ 93],\n",
       "          [ 85],\n",
       "          [ 77]],\n",
       " \n",
       "         ...,\n",
       " \n",
       "         [[  0],\n",
       "          [  0],\n",
       "          [  0],\n",
       "          ...,\n",
       "          [  0],\n",
       "          [  0],\n",
       "          [  0]],\n",
       " \n",
       "         [[  0],\n",
       "          [  0],\n",
       "          [  0],\n",
       "          ...,\n",
       "          [  0],\n",
       "          [  0],\n",
       "          [  0]],\n",
       " \n",
       "         [[  0],\n",
       "          [  0],\n",
       "          [  0],\n",
       "          ...,\n",
       "          [  0],\n",
       "          [  0],\n",
       "          [  0]]],\n",
       " \n",
       " \n",
       "        [[[ 67],\n",
       "          [ 74],\n",
       "          [ 75],\n",
       "          ...,\n",
       "          [ 46],\n",
       "          [ 48],\n",
       "          [ 49]],\n",
       " \n",
       "         [[ 97],\n",
       "          [ 96],\n",
       "          [ 87],\n",
       "          ...,\n",
       "          [ 61],\n",
       "          [ 70],\n",
       "          [ 64]],\n",
       " \n",
       "         [[ 81],\n",
       "          [ 81],\n",
       "          [ 85],\n",
       "          ...,\n",
       "          [ 72],\n",
       "          [ 75],\n",
       "          [ 67]],\n",
       " \n",
       "         ...,\n",
       " \n",
       "         [[  0],\n",
       "          [  0],\n",
       "          [  0],\n",
       "          ...,\n",
       "          [102],\n",
       "          [101],\n",
       "          [101]],\n",
       " \n",
       "         [[  0],\n",
       "          [  0],\n",
       "          [  0],\n",
       "          ...,\n",
       "          [108],\n",
       "          [ 97],\n",
       "          [102]],\n",
       " \n",
       "         [[  0],\n",
       "          [  0],\n",
       "          [  0],\n",
       "          ...,\n",
       "          [104],\n",
       "          [ 97],\n",
       "          [102]]],\n",
       " \n",
       " \n",
       "        [[[255],\n",
       "          [255],\n",
       "          [254],\n",
       "          ...,\n",
       "          [255],\n",
       "          [255],\n",
       "          [239]],\n",
       " \n",
       "         [[254],\n",
       "          [253],\n",
       "          [251],\n",
       "          ...,\n",
       "          [254],\n",
       "          [254],\n",
       "          [228]],\n",
       " \n",
       "         [[248],\n",
       "          [241],\n",
       "          [237],\n",
       "          ...,\n",
       "          [252],\n",
       "          [250],\n",
       "          [220]],\n",
       " \n",
       "         ...,\n",
       " \n",
       "         [[  3],\n",
       "          [  3],\n",
       "          [  3],\n",
       "          ...,\n",
       "          [  1],\n",
       "          [  1],\n",
       "          [  1]],\n",
       " \n",
       "         [[  3],\n",
       "          [  3],\n",
       "          [  3],\n",
       "          ...,\n",
       "          [  1],\n",
       "          [  1],\n",
       "          [  1]],\n",
       " \n",
       "         [[  3],\n",
       "          [  3],\n",
       "          [  3],\n",
       "          ...,\n",
       "          [  1],\n",
       "          [  1],\n",
       "          [  1]]]], dtype=uint8)>,\n",
       " <tf.Tensor: shape=(10,), dtype=int64, numpy=array([1, 1, 1, 0, 0, 1, 2, 0, 0, 0])>)"
      ]
     },
     "execution_count": 39,
     "metadata": {},
     "output_type": "execute_result"
    }
   ],
   "source": [
    "next(iter(dataset_val))"
   ]
  },
  {
   "cell_type": "code",
   "execution_count": 40,
   "id": "bd26660f",
   "metadata": {},
   "outputs": [
    {
     "name": "stderr",
     "output_type": "stream",
     "text": [
      "2021-12-14 21:56:14.173839: W tensorflow/core/framework/cpu_allocator_impl.cc:82] Allocation of 339738624 exceeds 10% of free system memory.\n"
     ]
    }
   ],
   "source": [
    "lr = 0.001\n",
    "momentum = 0.9\n",
    "\n",
    "model = create_model()"
   ]
  },
  {
   "cell_type": "code",
   "execution_count": 41,
   "id": "2f4eeebb",
   "metadata": {},
   "outputs": [],
   "source": [
    "model.compile(optimizer=SGD(learning_rate=lr, momentum=momentum), loss='sparse_categorical_crossentropy', metrics=['accuracy'])"
   ]
  },
  {
   "cell_type": "code",
   "execution_count": 42,
   "id": "4542fb73",
   "metadata": {},
   "outputs": [
    {
     "name": "stdout",
     "output_type": "stream",
     "text": [
      "Model: \"model\"\n",
      "_________________________________________________________________\n",
      " Layer (type)                Output Shape              Param #   \n",
      "=================================================================\n",
      " input_1 (InputLayer)        [(None, 299, 299, 1)]     0         \n",
      "                                                                 \n",
      " rescaling (Rescaling)       (None, 299, 299, 1)       0         \n",
      "                                                                 \n",
      " conv2d (Conv2D)             (None, 299, 299, 16)      160       \n",
      "                                                                 \n",
      " max_pooling2d (MaxPooling2D  (None, 149, 149, 16)     0         \n",
      " )                                                               \n",
      "                                                                 \n",
      " re_lu (ReLU)                (None, 149, 149, 16)      0         \n",
      "                                                                 \n",
      " conv2d_1 (Conv2D)           (None, 149, 149, 32)      4640      \n",
      "                                                                 \n",
      " max_pooling2d_1 (MaxPooling  (None, 74, 74, 32)       0         \n",
      " 2D)                                                             \n",
      "                                                                 \n",
      " re_lu_1 (ReLU)              (None, 74, 74, 32)        0         \n",
      "                                                                 \n",
      " conv2d_2 (Conv2D)           (None, 72, 72, 64)        18496     \n",
      "                                                                 \n",
      " re_lu_2 (ReLU)              (None, 72, 72, 64)        0         \n",
      "                                                                 \n",
      " flatten (Flatten)           (None, 331776)            0         \n",
      "                                                                 \n",
      " dense (Dense)               (None, 256)               84934912  \n",
      "                                                                 \n",
      " dense_1 (Dense)             (None, 3)                 771       \n",
      "                                                                 \n",
      "=================================================================\n",
      "Total params: 84,958,979\n",
      "Trainable params: 84,958,979\n",
      "Non-trainable params: 0\n",
      "_________________________________________________________________\n"
     ]
    }
   ],
   "source": [
    "model.summary()"
   ]
  },
  {
   "cell_type": "code",
   "execution_count": 45,
   "id": "bfaf1d79",
   "metadata": {},
   "outputs": [],
   "source": [
    "from tensorflow.keras.callbacks import ModelCheckpoint\n",
    "\n",
    "checkpoint_path = \"my_model_eq_simple/model\"\n",
    "\n",
    "monitor = \"val_accuracy\"\n",
    "\n",
    "mode = \"max\"\n",
    "\n",
    "model_checkpoint = ModelCheckpoint(checkpoint_path, monitor=monitor, verbose=1, save_best_only=True, save_weights_only=True, mode=mode)"
   ]
  },
  {
   "cell_type": "code",
   "execution_count": 46,
   "id": "9dd144b1",
   "metadata": {},
   "outputs": [
    {
     "data": {
      "text/plain": [
       "10"
      ]
     },
     "execution_count": 46,
     "metadata": {},
     "output_type": "execute_result"
    }
   ],
   "source": [
    "batch_size"
   ]
  },
  {
   "cell_type": "code",
   "execution_count": 47,
   "id": "c146338c",
   "metadata": {},
   "outputs": [
    {
     "name": "stdout",
     "output_type": "stream",
     "text": [
      "Epoch 1/5\n",
      "730/730 [==============================] - ETA: 0s - loss: 0.8181 - accuracy: 0.6384\n",
      "Epoch 00001: val_accuracy improved from -inf to 0.72585, saving model to my_model_eq_simple/model\n",
      "730/730 [==============================] - 369s 501ms/step - loss: 0.8181 - accuracy: 0.6384 - val_loss: 0.6863 - val_accuracy: 0.7259\n",
      "Epoch 2/5\n",
      "730/730 [==============================] - ETA: 0s - loss: 0.6177 - accuracy: 0.7561\n",
      "Epoch 00002: val_accuracy improved from 0.72585 to 0.77600, saving model to my_model_eq_simple/model\n",
      "730/730 [==============================] - 393s 538ms/step - loss: 0.6177 - accuracy: 0.7561 - val_loss: 0.5692 - val_accuracy: 0.7760\n",
      "Epoch 3/5\n",
      "730/730 [==============================] - ETA: 0s - loss: 0.5017 - accuracy: 0.8000\n",
      "Epoch 00003: val_accuracy did not improve from 0.77600\n",
      "730/730 [==============================] - 378s 517ms/step - loss: 0.5017 - accuracy: 0.8000 - val_loss: 0.6241 - val_accuracy: 0.7645\n",
      "Epoch 4/5\n",
      "730/730 [==============================] - ETA: 0s - loss: 0.4245 - accuracy: 0.8386\n",
      "Epoch 00004: val_accuracy improved from 0.77600 to 0.80271, saving model to my_model_eq_simple/model\n",
      "730/730 [==============================] - 382s 523ms/step - loss: 0.4245 - accuracy: 0.8386 - val_loss: 0.4990 - val_accuracy: 0.8027\n",
      "Epoch 5/5\n",
      "730/730 [==============================] - ETA: 0s - loss: 0.3345 - accuracy: 0.8693\n",
      "Epoch 00005: val_accuracy did not improve from 0.80271\n",
      "730/730 [==============================] - 377s 516ms/step - loss: 0.3345 - accuracy: 0.8693 - val_loss: 0.5162 - val_accuracy: 0.8011\n"
     ]
    }
   ],
   "source": [
    "epochs = 5\n",
    "\n",
    "history = model.fit(dataset_train, batch_size=batch_size, epochs=epochs, validation_data=dataset_val, callbacks=[model_checkpoint])"
   ]
  },
  {
   "cell_type": "code",
   "execution_count": 48,
   "id": "9b53cffe",
   "metadata": {},
   "outputs": [],
   "source": [
    "import matplotlib.pyplot as plt"
   ]
  },
  {
   "cell_type": "code",
   "execution_count": 49,
   "id": "a9bc3486",
   "metadata": {},
   "outputs": [],
   "source": [
    "def show_results(log):\n",
    "    val_loss = log.history['val_loss']\n",
    "    val_acc = log.history['val_accuracy']\n",
    "      \n",
    "    fig, axes = plt.subplots(1, 2, figsize=(14,4))\n",
    "    ax1, ax2 = axes\n",
    "    ax1.plot(log.history['loss'], label='train')\n",
    "    ax1.plot(val_loss, label='test')\n",
    "    ax1.set_xlabel('epoch'); ax1.set_ylabel('loss')\n",
    "    ax2.plot(log.history['accuracy'], label='train')\n",
    "    ax2.plot(val_acc, label='test')\n",
    "    ax2.set_xlabel('epoch'); ax2.set_ylabel('accuracy')\n",
    "    for ax in axes: ax.legend()"
   ]
  },
  {
   "cell_type": "code",
   "execution_count": 50,
   "id": "4be26803",
   "metadata": {},
   "outputs": [
    {
     "data": {
      "image/png": "[encoded data removed]",
      "text/plain": [
       "<Figure size 1008x288 with 2 Axes>"
      ]
     },
     "metadata": {
      "needs_background": "light"
     },
     "output_type": "display_data"
    }
   ],
   "source": [
    "show_results(history)"
   ]
  },
  {
   "cell_type": "code",
   "execution_count": 51,
   "id": "1ad1956e",
   "metadata": {},
   "outputs": [],
   "source": [
    "model = create_model()\n",
    "\n",
    "model.compile(optimizer=SGD(learning_rate=lr, momentum=momentum), loss='sparse_categorical_crossentropy', metrics=['accuracy'])"
   ]
  },
  {
   "cell_type": "code",
   "execution_count": 52,
   "id": "b86b0435",
   "metadata": {},
   "outputs": [
    {
     "data": {
      "text/plain": [
       "<tensorflow.python.training.tracking.util.CheckpointLoadStatus at 0x7f1a5775ebe0>"
      ]
     },
     "execution_count": 52,
     "metadata": {},
     "output_type": "execute_result"
    }
   ],
   "source": [
    "model.load_weights(checkpoint_path)"
   ]
  },
  {
   "cell_type": "code",
   "execution_count": 54,
   "id": "50daf5cf",
   "metadata": {},
   "outputs": [],
   "source": [
    "from tensorflow.keras.callbacks import ModelCheckpoint\n",
    "\n",
    "checkpoint_path = \"my_model_eq_simple/model\"\n",
    "\n",
    "monitor = \"val_accuracy\"\n",
    "\n",
    "mode = \"max\"\n",
    "\n",
    "model_checkpoint = ModelCheckpoint(checkpoint_path, monitor=monitor, verbose=1, save_best_only=True, save_weights_only=True, mode=mode)"
   ]
  },
  {
   "cell_type": "code",
   "execution_count": 55,
   "id": "6ab26e66",
   "metadata": {},
   "outputs": [
    {
     "name": "stdout",
     "output_type": "stream",
     "text": [
      "Epoch 1/20\n",
      "730/730 [==============================] - ETA: 0s - loss: 0.3321 - accuracy: 0.8771\n",
      "Epoch 00001: val_accuracy improved from -inf to 0.81874, saving model to my_model_eq_simple/model\n",
      "730/730 [==============================] - 386s 525ms/step - loss: 0.3321 - accuracy: 0.8771 - val_loss: 0.5020 - val_accuracy: 0.8187\n",
      "Epoch 2/20\n",
      "730/730 [==============================] - ETA: 0s - loss: 0.2469 - accuracy: 0.9082\n",
      "Epoch 00002: val_accuracy did not improve from 0.81874\n",
      "730/730 [==============================] - 378s 517ms/step - loss: 0.2469 - accuracy: 0.9082 - val_loss: 0.5967 - val_accuracy: 0.8015\n",
      "Epoch 3/20\n",
      "730/730 [==============================] - ETA: 0s - loss: 0.1773 - accuracy: 0.9340\n",
      "Epoch 00003: val_accuracy improved from 0.81874 to 0.82450, saving model to my_model_eq_simple/model\n",
      "730/730 [==============================] - 393s 538ms/step - loss: 0.1773 - accuracy: 0.9340 - val_loss: 0.5477 - val_accuracy: 0.8245\n",
      "Epoch 4/20\n",
      "730/730 [==============================] - ETA: 0s - loss: 0.1209 - accuracy: 0.9586\n",
      "Epoch 00004: val_accuracy did not improve from 0.82450\n",
      "730/730 [==============================] - 379s 518ms/step - loss: 0.1209 - accuracy: 0.9586 - val_loss: 0.6812 - val_accuracy: 0.8200\n",
      "Epoch 5/20\n",
      "730/730 [==============================] - ETA: 0s - loss: 0.0745 - accuracy: 0.9751\n",
      "Epoch 00005: val_accuracy improved from 0.82450 to 0.82491, saving model to my_model_eq_simple/model\n",
      "730/730 [==============================] - 377s 515ms/step - loss: 0.0745 - accuracy: 0.9751 - val_loss: 0.7759 - val_accuracy: 0.8249\n",
      "Epoch 6/20\n",
      "730/730 [==============================] - ETA: 0s - loss: 0.0542 - accuracy: 0.9840\n",
      "Epoch 00006: val_accuracy did not improve from 0.82491\n",
      "730/730 [==============================] - 375s 513ms/step - loss: 0.0542 - accuracy: 0.9840 - val_loss: 0.6670 - val_accuracy: 0.8105\n",
      "Epoch 7/20\n",
      "730/730 [==============================] - ETA: 0s - loss: 0.0413 - accuracy: 0.9886\n",
      "Epoch 00007: val_accuracy did not improve from 0.82491\n",
      "730/730 [==============================] - 372s 510ms/step - loss: 0.0413 - accuracy: 0.9886 - val_loss: 0.8469 - val_accuracy: 0.8167\n",
      "Epoch 8/20\n",
      "730/730 [==============================] - ETA: 0s - loss: 0.0300 - accuracy: 0.9940\n",
      "Epoch 00008: val_accuracy did not improve from 0.82491\n",
      "730/730 [==============================] - 374s 512ms/step - loss: 0.0300 - accuracy: 0.9940 - val_loss: 0.7268 - val_accuracy: 0.8167\n",
      "Epoch 9/20\n",
      "730/730 [==============================] - ETA: 0s - loss: 0.0128 - accuracy: 0.9977\n",
      "Epoch 00009: val_accuracy did not improve from 0.82491\n",
      "730/730 [==============================] - 366s 502ms/step - loss: 0.0128 - accuracy: 0.9977 - val_loss: 0.8167 - val_accuracy: 0.8241\n",
      "Epoch 10/20\n",
      "730/730 [==============================] - ETA: 0s - loss: 0.0138 - accuracy: 0.9979\n",
      "Epoch 00010: val_accuracy improved from 0.82491 to 0.83436, saving model to my_model_eq_simple/model\n",
      "730/730 [==============================] - 387s 530ms/step - loss: 0.0138 - accuracy: 0.9979 - val_loss: 0.8794 - val_accuracy: 0.8344\n",
      "Epoch 11/20\n",
      "730/730 [==============================] - ETA: 0s - loss: 0.0113 - accuracy: 0.9975\n",
      "Epoch 00011: val_accuracy did not improve from 0.83436\n",
      "730/730 [==============================] - 391s 531ms/step - loss: 0.0113 - accuracy: 0.9975 - val_loss: 0.8408 - val_accuracy: 0.8155\n",
      "Epoch 12/20\n",
      "730/730 [==============================] - ETA: 0s - loss: 0.0151 - accuracy: 0.9970\n",
      "Epoch 00012: val_accuracy did not improve from 0.83436\n",
      "730/730 [==============================] - 366s 501ms/step - loss: 0.0151 - accuracy: 0.9970 - val_loss: 0.8466 - val_accuracy: 0.8261\n",
      "Epoch 13/20\n",
      "730/730 [==============================] - ETA: 0s - loss: 0.0066 - accuracy: 0.9985\n",
      "Epoch 00013: val_accuracy did not improve from 0.83436\n",
      "730/730 [==============================] - 357s 489ms/step - loss: 0.0066 - accuracy: 0.9985 - val_loss: 0.9168 - val_accuracy: 0.8237\n",
      "Epoch 14/20\n",
      "730/730 [==============================] - ETA: 0s - loss: 0.0101 - accuracy: 0.9985\n",
      "Epoch 00014: val_accuracy did not improve from 0.83436\n",
      "730/730 [==============================] - 351s 480ms/step - loss: 0.0101 - accuracy: 0.9985 - val_loss: 0.9036 - val_accuracy: 0.8229\n",
      "Epoch 15/20\n",
      "730/730 [==============================] - ETA: 0s - loss: 0.0045 - accuracy: 0.9988\n",
      "Epoch 00015: val_accuracy did not improve from 0.83436\n",
      "730/730 [==============================] - 356s 487ms/step - loss: 0.0045 - accuracy: 0.9988 - val_loss: 0.9425 - val_accuracy: 0.8212\n",
      "Epoch 16/20\n",
      "730/730 [==============================] - ETA: 0s - loss: 0.0065 - accuracy: 0.9985\n",
      "Epoch 00016: val_accuracy did not improve from 0.83436\n",
      "730/730 [==============================] - 393s 525ms/step - loss: 0.0065 - accuracy: 0.9985 - val_loss: 0.9269 - val_accuracy: 0.8278\n",
      "Epoch 17/20\n",
      "730/730 [==============================] - ETA: 0s - loss: 0.0034 - accuracy: 0.9992\n",
      "Epoch 00017: val_accuracy did not improve from 0.83436\n",
      "730/730 [==============================] - 380s 521ms/step - loss: 0.0034 - accuracy: 0.9992 - val_loss: 0.9737 - val_accuracy: 0.8257\n",
      "Epoch 18/20\n",
      "730/730 [==============================] - ETA: 0s - loss: 0.0041 - accuracy: 0.9989\n",
      "Epoch 00018: val_accuracy did not improve from 0.83436\n",
      "730/730 [==============================] - 397s 543ms/step - loss: 0.0041 - accuracy: 0.9989 - val_loss: 0.9705 - val_accuracy: 0.8270\n",
      "Epoch 19/20\n",
      "730/730 [==============================] - ETA: 0s - loss: 0.0042 - accuracy: 0.9985\n",
      "Epoch 00019: val_accuracy did not improve from 0.83436\n",
      "730/730 [==============================] - 380s 521ms/step - loss: 0.0042 - accuracy: 0.9985 - val_loss: 0.9620 - val_accuracy: 0.8241\n",
      "Epoch 20/20\n",
      "730/730 [==============================] - ETA: 0s - loss: 0.0029 - accuracy: 0.9988\n",
      "Epoch 00020: val_accuracy did not improve from 0.83436\n",
      "730/730 [==============================] - 373s 508ms/step - loss: 0.0029 - accuracy: 0.9988 - val_loss: 0.9928 - val_accuracy: 0.8282\n"
     ]
    }
   ],
   "source": [
    "epochs = 20\n",
    "\n",
    "history = model.fit(dataset_train, batch_size=batch_size, epochs=epochs, validation_data=dataset_val, callbacks=[model_checkpoint])"
   ]
  },
  {
   "cell_type": "code",
   "execution_count": 56,
   "id": "848d7c6a",
   "metadata": {},
   "outputs": [
    {
     "data": {
      "image/png": "[encoded data removed]",
      "text/plain": [
       "<Figure size 1008x288 with 2 Axes>"
      ]
     },
     "metadata": {
      "needs_background": "light"
     },
     "output_type": "display_data"
    }
   ],
   "source": [
    "show_results(history)"
   ]
  },
  {
   "cell_type": "markdown",
   "id": "3668c7f6",
   "metadata": {},
   "source": [
    "## Metrics"
   ]
  },
  {
   "cell_type": "code",
   "execution_count": 57,
   "id": "af967330",
   "metadata": {},
   "outputs": [],
   "source": [
    "df_test = load_database_from_hdf(filename= base_dir / DEFAULT_DATABASE_NAME_TEST)"
   ]
  },
  {
   "cell_type": "code",
   "execution_count": 74,
   "id": "37fc704f",
   "metadata": {},
   "outputs": [],
   "source": [
    "X_test = df_test[\"resized\"]"
   ]
  },
  {
   "cell_type": "code",
   "execution_count": 75,
   "id": "544e939e",
   "metadata": {},
   "outputs": [],
   "source": [
    "X_test_eq_simple = X_test.apply(lambda x: apply_equalization(x, \"simple\"))"
   ]
  },
  {
   "cell_type": "code",
   "execution_count": 76,
   "id": "21597435",
   "metadata": {},
   "outputs": [],
   "source": [
    "X_test_eq_simple=np.stack(X_test_eq_simple)"
   ]
  },
  {
   "cell_type": "code",
   "execution_count": 59,
   "id": "37b337d5",
   "metadata": {},
   "outputs": [],
   "source": [
    "y_test = df_test[\"category\"].map(category_mappings)"
   ]
  },
  {
   "cell_type": "code",
   "execution_count": 77,
   "id": "c89dc88a",
   "metadata": {},
   "outputs": [
    {
     "data": {
      "text/plain": [
       "array([[[  3,   3,   2, ..., 175, 224, 255],\n",
       "        [  2,   1,   1, ...,  88, 137, 253],\n",
       "        [  2,   1,   0, ...,  33,  88, 202],\n",
       "        ...,\n",
       "        [  1,   1,   0, ..., 104, 144, 173],\n",
       "        [  1,   1,   1, ..., 107, 150, 175],\n",
       "        [  2,   2,   2, ..., 110, 155, 175]],\n",
       "\n",
       "       [[143, 132, 119, ..., 252, 252, 226],\n",
       "        [ 55,  45,  35, ..., 231, 235, 201],\n",
       "        [ 21,  17,  10, ..., 199, 209, 187],\n",
       "        ...,\n",
       "        [ 28,  36,  43, ...,  61, 115, 149],\n",
       "        [ 35,  43,  48, ...,  61, 118, 152],\n",
       "        [ 43,  50,  56, ...,  60, 121, 153]],\n",
       "\n",
       "       [[  7,   6,   6, ..., 231, 221, 166],\n",
       "        [  8,   7,   9, ..., 226, 219, 188],\n",
       "        [  7,   7,   8, ..., 224, 213, 184],\n",
       "        ...,\n",
       "        [226, 237, 239, ..., 195, 153, 108],\n",
       "        [239, 246, 243, ..., 199, 166, 108],\n",
       "        [248, 249, 249, ..., 184, 137, 103]],\n",
       "\n",
       "       ...,\n",
       "\n",
       "       [[  0,   0,   0, ...,   0,   0,   0],\n",
       "        [  0,   0,   0, ...,   2,   2,   4],\n",
       "        [  2,   2,   2, ...,   4,   4,   5],\n",
       "        ...,\n",
       "        [238, 238, 238, ..., 119, 103,  85],\n",
       "        [236, 236, 238, ..., 115,  97,  79],\n",
       "        [241, 242, 242, ..., 112,  92,  74]],\n",
       "\n",
       "       [[  2,   1,   1, ...,   0,   1,   1],\n",
       "        [  1,   1,   0, ...,   0,   1,   1],\n",
       "        [  1,   1,   0, ...,   0,   1,   1],\n",
       "        ...,\n",
       "        [  5,   4,   3, ..., 216,  95,  77],\n",
       "        [  8,   5,   4, ...,  65,  61,  51],\n",
       "        [  5,   4,   4, ...,  47,  52,  26]],\n",
       "\n",
       "       [[  0,   0,   0, ...,   7,   6,   5],\n",
       "        [  0,   0,   0, ...,   7,   6,   5],\n",
       "        [  0,   0,   0, ...,   6,   6,   5],\n",
       "        ...,\n",
       "        [  0,   0,   0, ...,   1,   1,   0],\n",
       "        [  0,   0,   0, ...,   0,   0,   0],\n",
       "        [  0,   0,   0, ...,   0,   0,   0]]], dtype=uint8)"
      ]
     },
     "execution_count": 77,
     "metadata": {},
     "output_type": "execute_result"
    }
   ],
   "source": [
    "X_test_eq_simple"
   ]
  },
  {
   "cell_type": "code",
   "execution_count": 61,
   "id": "43fb1cfb",
   "metadata": {},
   "outputs": [
    {
     "data": {
      "text/plain": [
       "0       0\n",
       "1       1\n",
       "2       2\n",
       "3       2\n",
       "4       2\n",
       "       ..\n",
       "2428    2\n",
       "2429    0\n",
       "2430    2\n",
       "2431    2\n",
       "2432    1\n",
       "Name: category, Length: 2433, dtype: int64"
      ]
     },
     "execution_count": 61,
     "metadata": {},
     "output_type": "execute_result"
    }
   ],
   "source": [
    "y_test"
   ]
  },
  {
   "cell_type": "code",
   "execution_count": 78,
   "id": "546ee7d1",
   "metadata": {},
   "outputs": [],
   "source": [
    "y_pred = model.predict(X_test_eq_simple)"
   ]
  },
  {
   "cell_type": "code",
   "execution_count": 79,
   "id": "f6311026",
   "metadata": {},
   "outputs": [
    {
     "data": {
      "text/plain": [
       "(2433, 3)"
      ]
     },
     "execution_count": 79,
     "metadata": {},
     "output_type": "execute_result"
    }
   ],
   "source": [
    "y_pred.shape"
   ]
  },
  {
   "cell_type": "code",
   "execution_count": 80,
   "id": "bf0d28de",
   "metadata": {},
   "outputs": [],
   "source": [
    "y_pred_classes = np.argmax(y_pred, axis = 1)"
   ]
  },
  {
   "cell_type": "code",
   "execution_count": 81,
   "id": "9be8e1bb",
   "metadata": {},
   "outputs": [
    {
     "data": {
      "text/plain": [
       "array([0, 2, 2, ..., 2, 0, 1])"
      ]
     },
     "execution_count": 81,
     "metadata": {},
     "output_type": "execute_result"
    }
   ],
   "source": [
    "y_pred_classes"
   ]
  },
  {
   "cell_type": "code",
   "execution_count": 82,
   "id": "f4ad529d",
   "metadata": {},
   "outputs": [],
   "source": [
    "from sklearn.metrics import confusion_matrix"
   ]
  },
  {
   "cell_type": "code",
   "execution_count": 83,
   "id": "9130a1ab",
   "metadata": {},
   "outputs": [],
   "source": [
    "matrix = confusion_matrix(y_test, y_pred_classes)"
   ]
  },
  {
   "cell_type": "code",
   "execution_count": 84,
   "id": "d51754eb",
   "metadata": {},
   "outputs": [
    {
     "data": {
      "text/plain": [
       "array([[674,  82,  55],\n",
       "       [110, 641,  60],\n",
       "       [ 44,  35, 732]])"
      ]
     },
     "execution_count": 84,
     "metadata": {},
     "output_type": "execute_result"
    }
   ],
   "source": [
    "matrix"
   ]
  },
  {
   "cell_type": "code",
   "execution_count": 85,
   "id": "41696f63",
   "metadata": {},
   "outputs": [],
   "source": [
    "from sklearn.metrics import accuracy_score, roc_curve, roc_auc_score, confusion_matrix, classification_report"
   ]
  },
  {
   "cell_type": "code",
   "execution_count": 86,
   "id": "b1ea848a",
   "metadata": {},
   "outputs": [],
   "source": [
    "from sklearn.metrics import ConfusionMatrixDisplay\n",
    "import matplotlib.pyplot as plt"
   ]
  },
  {
   "cell_type": "code",
   "execution_count": 87,
   "id": "143857d9",
   "metadata": {},
   "outputs": [
    {
     "data": {
      "text/plain": [
       "<sklearn.metrics._plot.confusion_matrix.ConfusionMatrixDisplay at 0x7f1a3eba2c70>"
      ]
     },
     "execution_count": 87,
     "metadata": {},
     "output_type": "execute_result"
    },
    {
     "data": {
      "image/png": "[encoded data removed]",
      "text/plain": [
       "<Figure size 432x288 with 2 Axes>"
      ]
     },
     "metadata": {
      "needs_background": "light"
     },
     "output_type": "display_data"
    }
   ],
   "source": [
    "#requires scikit-learn 1.0\n",
    "#otherwise use plot_confusion_matrix\n",
    "ConfusionMatrixDisplay.from_predictions(y_test, y_pred_classes, cmap=plt.cm.Blues)"
   ]
  },
  {
   "cell_type": "code",
   "execution_count": 88,
   "id": "ef55753e",
   "metadata": {},
   "outputs": [
    {
     "name": "stdout",
     "output_type": "stream",
     "text": [
      "[[674.  82.  55.]\n",
      " [110. 641.  60.]\n",
      " [ 44.  35. 732.]]\n"
     ]
    },
    {
     "data": {
      "text/plain": [
       "[0.8310727496917386, 0.7903822441430333, 0.9025893958076449]"
      ]
     },
     "execution_count": 88,
     "metadata": {},
     "output_type": "execute_result"
    }
   ],
   "source": [
    "matrix = confusion_matrix(y_test, y_pred_classes)\n",
    "matrix = matrix.astype('float')\n",
    "print(matrix)\n",
    "\n",
    "class_acc = [matrix[i,i]/np.sum(matrix[i,:]) if np.sum(matrix[i,:]) else 0 for i in range(len(matrix))]\n",
    "class_acc"
   ]
  },
  {
   "cell_type": "markdown",
   "id": "756cb538",
   "metadata": {},
   "source": [
    "## Training with CLAHE"
   ]
  },
  {
   "cell_type": "code",
   "execution_count": 37,
   "id": "0e49fe7a",
   "metadata": {},
   "outputs": [],
   "source": [
    "from covidframe.ml.simple_model import create_model, compile_model, train_model\n",
    "from covidframe.ml.checkpoint import create_checkpoint\n",
    "from covidframe.ml.dataset import get_dataset_from_slices"
   ]
  },
  {
   "cell_type": "code",
   "execution_count": 22,
   "id": "763da33e",
   "metadata": {},
   "outputs": [],
   "source": [
    "from sklearn.model_selection import train_test_split"
   ]
  },
  {
   "cell_type": "code",
   "execution_count": 19,
   "id": "2d7349b4",
   "metadata": {},
   "outputs": [
    {
     "data": {
      "text/plain": [
       "(9732,)"
      ]
     },
     "execution_count": 19,
     "metadata": {},
     "output_type": "execute_result"
    }
   ],
   "source": [
    "X_eq_cahe.shape"
   ]
  },
  {
   "cell_type": "code",
   "execution_count": 20,
   "id": "09a61103",
   "metadata": {},
   "outputs": [],
   "source": [
    "X_eq_cahe = np.stack(X_eq_cahe)"
   ]
  },
  {
   "cell_type": "code",
   "execution_count": 23,
   "id": "1d4ac802",
   "metadata": {},
   "outputs": [],
   "source": [
    "X_train, X_val, y_train, y_val = train_test_split(X_eq_cahe, y, test_size=0.25, random_state=100)"
   ]
  },
  {
   "cell_type": "code",
   "execution_count": 24,
   "id": "2a2d8050",
   "metadata": {},
   "outputs": [],
   "source": [
    "X_train = X_train.reshape((-1, 299, 299, 1))\n",
    "X_val = X_val.reshape((-1, 299, 299, 1))"
   ]
  },
  {
   "cell_type": "code",
   "execution_count": 25,
   "id": "9833c26e",
   "metadata": {},
   "outputs": [
    {
     "name": "stderr",
     "output_type": "stream",
     "text": [
      "2021-12-15 11:19:13.197146: E tensorflow/stream_executor/cuda/cuda_driver.cc:271] failed call to cuInit: CUDA_ERROR_NO_DEVICE: no CUDA-capable device is detected\n",
      "2021-12-15 11:19:13.197199: I tensorflow/stream_executor/cuda/cuda_diagnostics.cc:156] kernel driver does not appear to be running on this host (luighiv): /proc/driver/nvidia/version does not exist\n",
      "2021-12-15 11:19:13.212305: I tensorflow/core/platform/cpu_feature_guard.cc:151] This TensorFlow binary is optimized with oneAPI Deep Neural Network Library (oneDNN) to use the following CPU instructions in performance-critical operations:  AVX2 FMA\n",
      "To enable them in other operations, rebuild TensorFlow with the appropriate compiler flags.\n",
      "2021-12-15 11:19:13.291782: W tensorflow/core/framework/cpu_allocator_impl.cc:82] Allocation of 652537899 exceeds 10% of free system memory.\n"
     ]
    }
   ],
   "source": [
    "dataset_train = get_dataset_from_slices(X_train, y_train,10)"
   ]
  },
  {
   "cell_type": "code",
   "execution_count": 26,
   "id": "1a17653e",
   "metadata": {},
   "outputs": [
    {
     "name": "stderr",
     "output_type": "stream",
     "text": [
      "2021-12-15 11:19:14.372726: W tensorflow/core/framework/cpu_allocator_impl.cc:82] Allocation of 217512633 exceeds 10% of free system memory.\n"
     ]
    }
   ],
   "source": [
    "dataset_val = get_dataset_from_slices(X_val, y_val,10)"
   ]
  },
  {
   "cell_type": "code",
   "execution_count": 28,
   "id": "50b4bcb6",
   "metadata": {},
   "outputs": [],
   "source": [
    "model = create_model()\n",
    "model = compile_model(model, 0.001, 0.009)\n",
    "checkpoint = create_checkpoint(checkpoint_path=\"my_model_eq_clahe/model\")"
   ]
  },
  {
   "cell_type": "code",
   "execution_count": 30,
   "id": "6e3a4113",
   "metadata": {},
   "outputs": [
    {
     "name": "stdout",
     "output_type": "stream",
     "text": [
      "Epoch 1/5\n",
      "730/730 [==============================] - ETA: 0s - loss: 0.8809 - accuracy: 0.6028\n",
      "Epoch 00001: val_accuracy improved from -inf to 0.68434, saving model to my_model_eq_clahe/model\n",
      "730/730 [==============================] - 413s 561ms/step - loss: 0.8809 - accuracy: 0.6028 - val_loss: 0.7663 - val_accuracy: 0.6843\n",
      "Epoch 2/5\n",
      "730/730 [==============================] - ETA: 0s - loss: 0.7602 - accuracy: 0.6805\n",
      "Epoch 00002: val_accuracy improved from 0.68434 to 0.69749, saving model to my_model_eq_clahe/model\n",
      "730/730 [==============================] - 401s 549ms/step - loss: 0.7602 - accuracy: 0.6805 - val_loss: 0.7435 - val_accuracy: 0.6975\n",
      "Epoch 3/5\n",
      "730/730 [==============================] - ETA: 0s - loss: 0.7094 - accuracy: 0.7002\n",
      "Epoch 00003: val_accuracy improved from 0.69749 to 0.71476, saving model to my_model_eq_clahe/model\n",
      "730/730 [==============================] - 398s 545ms/step - loss: 0.7094 - accuracy: 0.7002 - val_loss: 0.7100 - val_accuracy: 0.7148\n",
      "Epoch 4/5\n",
      "730/730 [==============================] - ETA: 0s - loss: 0.6697 - accuracy: 0.7245\n",
      "Epoch 00004: val_accuracy improved from 0.71476 to 0.73284, saving model to my_model_eq_clahe/model\n",
      "730/730 [==============================] - 408s 558ms/step - loss: 0.6697 - accuracy: 0.7245 - val_loss: 0.6600 - val_accuracy: 0.7328\n",
      "Epoch 5/5\n",
      "730/730 [==============================] - ETA: 0s - loss: 0.6284 - accuracy: 0.7441\n",
      "Epoch 00005: val_accuracy improved from 0.73284 to 0.74640, saving model to my_model_eq_clahe/model\n",
      "730/730 [==============================] - 390s 534ms/step - loss: 0.6284 - accuracy: 0.7441 - val_loss: 0.6413 - val_accuracy: 0.7464\n"
     ]
    }
   ],
   "source": [
    "history = train_model(model, dataset_train, dataset_val,model_checkpoint=checkpoint)"
   ]
  },
  {
   "cell_type": "code",
   "execution_count": 32,
   "id": "cb8ea988",
   "metadata": {},
   "outputs": [],
   "source": [
    "from covidframe.plot.metrics import show_results_from_history"
   ]
  },
  {
   "cell_type": "code",
   "execution_count": 33,
   "id": "c7817860",
   "metadata": {},
   "outputs": [
    {
     "data": {
      "text/plain": [
       "(array([<AxesSubplot:xlabel='epoch', ylabel='loss'>,\n",
       "        <AxesSubplot:xlabel='epoch', ylabel='accuracy'>], dtype=object),\n",
       " <Figure size 1008x288 with 2 Axes>)"
      ]
     },
     "execution_count": 33,
     "metadata": {},
     "output_type": "execute_result"
    },
    {
     "data": {
      "image/png": "[encoded data removed]",
      "text/plain": [
       "<Figure size 1008x288 with 2 Axes>"
      ]
     },
     "metadata": {
      "needs_background": "light"
     },
     "output_type": "display_data"
    }
   ],
   "source": [
    "show_results_from_history(history)"
   ]
  },
  {
   "cell_type": "code",
   "execution_count": 43,
   "id": "b8a7a361",
   "metadata": {},
   "outputs": [],
   "source": [
    "from covidframe.ml.simple_model import load_weights\n",
    "from tensorflow.keras.optimizers import SGD"
   ]
  },
  {
   "cell_type": "code",
   "execution_count": 45,
   "id": "1002371e",
   "metadata": {},
   "outputs": [],
   "source": [
    "lr=0.001\n",
    "momentum = 0.9\n",
    "model = create_model()\n",
    "\n",
    "model.compile(optimizer=SGD(learning_rate=lr, momentum=momentum), loss='sparse_categorical_crossentropy', metrics=['accuracy'])"
   ]
  },
  {
   "cell_type": "code",
   "execution_count": 46,
   "id": "bf64df0a",
   "metadata": {},
   "outputs": [
    {
     "data": {
      "text/plain": [
       "<tensorflow.python.training.tracking.util.CheckpointLoadStatus at 0x7fc4ce943a90>"
      ]
     },
     "execution_count": 46,
     "metadata": {},
     "output_type": "execute_result"
    }
   ],
   "source": [
    "model.load_weights(\"my_model_eq_clahe/model\")"
   ]
  },
  {
   "cell_type": "code",
   "execution_count": 47,
   "id": "60ba0363",
   "metadata": {},
   "outputs": [
    {
     "name": "stdout",
     "output_type": "stream",
     "text": [
      "Epoch 1/20\n",
      "730/730 [==============================] - 432s 546ms/step - loss: 0.5962 - accuracy: 0.7626 - val_loss: 0.6064 - val_accuracy: 0.7550\n",
      "Epoch 2/20\n",
      "730/730 [==============================] - 376s 512ms/step - loss: 0.5686 - accuracy: 0.7734 - val_loss: 0.5977 - val_accuracy: 0.7591\n",
      "Epoch 3/20\n",
      "730/730 [==============================] - 375s 513ms/step - loss: 0.5383 - accuracy: 0.7850 - val_loss: 0.6417 - val_accuracy: 0.7427\n",
      "Epoch 4/20\n",
      "730/730 [==============================] - 402s 547ms/step - loss: 0.5187 - accuracy: 0.7926 - val_loss: 0.6025 - val_accuracy: 0.7616\n",
      "Epoch 5/20\n",
      "730/730 [==============================] - 404s 553ms/step - loss: 0.4948 - accuracy: 0.8035 - val_loss: 0.5720 - val_accuracy: 0.7772\n",
      "Epoch 6/20\n",
      "730/730 [==============================] - 402s 550ms/step - loss: 0.4681 - accuracy: 0.8164 - val_loss: 0.5583 - val_accuracy: 0.7879\n",
      "Epoch 7/20\n",
      "730/730 [==============================] - 375s 513ms/step - loss: 0.4471 - accuracy: 0.8260 - val_loss: 0.6196 - val_accuracy: 0.7674\n",
      "Epoch 8/20\n",
      "730/730 [==============================] - 377s 516ms/step - loss: 0.4294 - accuracy: 0.8313 - val_loss: 0.6139 - val_accuracy: 0.7472\n",
      "Epoch 9/20\n",
      "730/730 [==============================] - 395s 540ms/step - loss: 0.4074 - accuracy: 0.8403 - val_loss: 0.6178 - val_accuracy: 0.7670\n",
      "Epoch 10/20\n",
      "730/730 [==============================] - 398s 545ms/step - loss: 0.3892 - accuracy: 0.8535 - val_loss: 0.5346 - val_accuracy: 0.7990\n",
      "Epoch 11/20\n",
      "730/730 [==============================] - 398s 545ms/step - loss: 0.3699 - accuracy: 0.8614 - val_loss: 0.6049 - val_accuracy: 0.7776\n",
      "Epoch 12/20\n",
      "730/730 [==============================] - 419s 573ms/step - loss: 0.3503 - accuracy: 0.8677 - val_loss: 0.5291 - val_accuracy: 0.8039\n",
      "Epoch 13/20\n",
      "730/730 [==============================] - ETA: 0s - loss: 0.3315 - accuracy: 0.8766"
     ]
    },
    {
     "name": "stderr",
     "output_type": "stream",
     "text": [
      "2021-12-15 13:49:31.600779: I tensorflow/core/kernels/data/shuffle_dataset_op.cc:380] Filling up shuffle buffer (this may take a while): 315 of 2433\n",
      "2021-12-15 13:49:41.701345: I tensorflow/core/kernels/data/shuffle_dataset_op.cc:380] Filling up shuffle buffer (this may take a while): 683 of 2433\n",
      "2021-12-15 13:49:51.557915: I tensorflow/core/kernels/data/shuffle_dataset_op.cc:380] Filling up shuffle buffer (this may take a while): 1166 of 2433\n",
      "2021-12-15 13:50:01.503176: I tensorflow/core/kernels/data/shuffle_dataset_op.cc:380] Filling up shuffle buffer (this may take a while): 1611 of 2433\n",
      "2021-12-15 13:50:09.281923: I tensorflow/core/kernels/data/shuffle_dataset_op.cc:405] Shuffle buffer filled.\n"
     ]
    },
    {
     "name": "stdout",
     "output_type": "stream",
     "text": [
      "730/730 [==============================] - 464s 636ms/step - loss: 0.3315 - accuracy: 0.8766 - val_loss: 0.7085 - val_accuracy: 0.7497\n",
      "Epoch 14/20\n",
      "730/730 [==============================] - 407s 557ms/step - loss: 0.3085 - accuracy: 0.8871 - val_loss: 0.6249 - val_accuracy: 0.7764\n",
      "Epoch 15/20\n",
      "730/730 [==============================] - 385s 527ms/step - loss: 0.2965 - accuracy: 0.8868 - val_loss: 0.5131 - val_accuracy: 0.8118\n",
      "Epoch 16/20\n",
      "730/730 [==============================] - 401s 549ms/step - loss: 0.2733 - accuracy: 0.8975 - val_loss: 0.5753 - val_accuracy: 0.7970\n",
      "Epoch 17/20\n",
      "730/730 [==============================] - 407s 556ms/step - loss: 0.2613 - accuracy: 0.9022 - val_loss: 0.5387 - val_accuracy: 0.8035\n",
      "Epoch 18/20\n",
      "730/730 [==============================] - 408s 559ms/step - loss: 0.2400 - accuracy: 0.9104 - val_loss: 0.6336 - val_accuracy: 0.7818\n",
      "Epoch 19/20\n",
      "730/730 [==============================] - 388s 531ms/step - loss: 0.2192 - accuracy: 0.9197 - val_loss: 0.6250 - val_accuracy: 0.7949\n",
      "Epoch 20/20\n",
      "730/730 [==============================] - 369s 506ms/step - loss: 0.2058 - accuracy: 0.9262 - val_loss: 0.5596 - val_accuracy: 0.8089\n"
     ]
    }
   ],
   "source": [
    "history = train_model(model, dataset_train, dataset_val, epochs=20)"
   ]
  },
  {
   "cell_type": "code",
   "execution_count": 48,
   "id": "41d983dd",
   "metadata": {},
   "outputs": [
    {
     "data": {
      "text/plain": [
       "(array([<AxesSubplot:xlabel='epoch', ylabel='loss'>,\n",
       "        <AxesSubplot:xlabel='epoch', ylabel='accuracy'>], dtype=object),\n",
       " <Figure size 1008x288 with 2 Axes>)"
      ]
     },
     "execution_count": 48,
     "metadata": {},
     "output_type": "execute_result"
    },
    {
     "data": {
      "image/png": "[encoded data removed]",
      "text/plain": [
       "<Figure size 1008x288 with 2 Axes>"
      ]
     },
     "metadata": {
      "needs_background": "light"
     },
     "output_type": "display_data"
    }
   ],
   "source": [
    "show_results_from_history(history)"
   ]
  },
  {
   "cell_type": "code",
   "execution_count": 49,
   "id": "deedb6a9",
   "metadata": {},
   "outputs": [
    {
     "name": "stdout",
     "output_type": "stream",
     "text": [
      "Epoch 1/10\n",
      "730/730 [==============================] - 412s 562ms/step - loss: 0.1875 - accuracy: 0.9326 - val_loss: 0.5732 - val_accuracy: 0.8085\n",
      "Epoch 2/10\n",
      "730/730 [==============================] - 405s 555ms/step - loss: 0.1696 - accuracy: 0.9404 - val_loss: 0.5765 - val_accuracy: 0.8109\n",
      "Epoch 3/10\n",
      "730/730 [==============================] - 387s 530ms/step - loss: 0.1463 - accuracy: 0.9499 - val_loss: 0.6303 - val_accuracy: 0.8109\n",
      "Epoch 4/10\n",
      "730/730 [==============================] - 392s 536ms/step - loss: 0.1446 - accuracy: 0.9503 - val_loss: 1.0748 - val_accuracy: 0.7205\n",
      "Epoch 5/10\n",
      "730/730 [==============================] - 375s 513ms/step - loss: 0.1165 - accuracy: 0.9585 - val_loss: 0.7067 - val_accuracy: 0.8002\n",
      "Epoch 6/10\n",
      "730/730 [==============================] - 385s 522ms/step - loss: 0.1111 - accuracy: 0.9651 - val_loss: 0.6418 - val_accuracy: 0.8068\n",
      "Epoch 7/10\n",
      "730/730 [==============================] - 387s 529ms/step - loss: 0.0926 - accuracy: 0.9715 - val_loss: 0.7048 - val_accuracy: 0.8023\n",
      "Epoch 8/10\n",
      "730/730 [==============================] - 389s 533ms/step - loss: 0.0881 - accuracy: 0.9733 - val_loss: 0.6861 - val_accuracy: 0.8089\n",
      "Epoch 9/10\n",
      "730/730 [==============================] - 392s 536ms/step - loss: 0.0632 - accuracy: 0.9814 - val_loss: 0.7057 - val_accuracy: 0.8072\n",
      "Epoch 10/10\n",
      "730/730 [==============================] - 393s 538ms/step - loss: 0.0689 - accuracy: 0.9768 - val_loss: 0.7596 - val_accuracy: 0.8035\n"
     ]
    }
   ],
   "source": [
    "history2 = train_model(model, dataset_train, dataset_val, epochs=10)"
   ]
  },
  {
   "cell_type": "code",
   "execution_count": 64,
   "id": "1736eee2",
   "metadata": {},
   "outputs": [
    {
     "data": {
      "text/plain": [
       "(array([<AxesSubplot:xlabel='epoch', ylabel='loss'>,\n",
       "        <AxesSubplot:xlabel='epoch', ylabel='accuracy'>], dtype=object),\n",
       " <Figure size 1008x288 with 2 Axes>)"
      ]
     },
     "execution_count": 64,
     "metadata": {},
     "output_type": "execute_result"
    },
    {
     "data": {
      "image/png": "[encoded data removed]",
      "text/plain": [
       "<Figure size 1008x288 with 2 Axes>"
      ]
     },
     "metadata": {
      "needs_background": "light"
     },
     "output_type": "display_data"
    }
   ],
   "source": [
    "show_results_from_history(history2)"
   ]
  },
  {
   "cell_type": "code",
   "execution_count": 51,
   "id": "25db10bd",
   "metadata": {},
   "outputs": [],
   "source": [
    "df_test = load_database_from_hdf(filename= base_dir / DEFAULT_DATABASE_NAME_TEST)\n",
    "X_test = df_test[\"resized\"]\n",
    "X_test_eq_clahe = X_test.apply(lambda x: apply_equalization(x))\n",
    "y_test = df_test[\"category\"].map(category_mappings)"
   ]
  },
  {
   "cell_type": "code",
   "execution_count": 54,
   "id": "76bd4e15",
   "metadata": {},
   "outputs": [],
   "source": [
    "X_test_eq_clahe=np.stack(X_test_eq_clahe)"
   ]
  },
  {
   "cell_type": "code",
   "execution_count": 55,
   "id": "c5ccc381",
   "metadata": {},
   "outputs": [],
   "source": [
    "y_pred = model.predict(X_test_eq_clahe)\n",
    "y_pred_classes = np.argmax(y_pred, axis = 1)"
   ]
  },
  {
   "cell_type": "code",
   "execution_count": 56,
   "id": "8236184a",
   "metadata": {},
   "outputs": [],
   "source": [
    "from sklearn.metrics import confusion_matrix"
   ]
  },
  {
   "cell_type": "code",
   "execution_count": 57,
   "id": "b0cba013",
   "metadata": {},
   "outputs": [
    {
     "data": {
      "text/plain": [
       "array([[670, 102,  39],\n",
       "       [ 79, 675,  57],\n",
       "       [ 91,  88, 632]])"
      ]
     },
     "execution_count": 57,
     "metadata": {},
     "output_type": "execute_result"
    }
   ],
   "source": [
    "matrix = confusion_matrix(y_test, y_pred_classes)\n",
    "matrix"
   ]
  },
  {
   "cell_type": "code",
   "execution_count": 58,
   "id": "05d545a1",
   "metadata": {},
   "outputs": [],
   "source": [
    "import seaborn as sns"
   ]
  },
  {
   "cell_type": "code",
   "execution_count": 60,
   "id": "06212357",
   "metadata": {},
   "outputs": [
    {
     "data": {
      "image/png": "[encoded data removed]",
      "text/plain": [
       "<Figure size 432x288 with 2 Axes>"
      ]
     },
     "metadata": {
      "needs_background": "light"
     },
     "output_type": "display_data"
    }
   ],
   "source": [
    "f = sns.heatmap(matrix, annot=True, fmt='d', cmap=\"Blues\")"
   ]
  },
  {
   "cell_type": "code",
   "execution_count": 61,
   "id": "a8f634ce",
   "metadata": {},
   "outputs": [
    {
     "data": {
      "text/plain": [
       "[0.8261405672009864, 0.8323057953144266, 0.7792848335388409]"
      ]
     },
     "execution_count": 61,
     "metadata": {},
     "output_type": "execute_result"
    }
   ],
   "source": [
    "class_acc = [matrix[i,i]/np.sum(matrix[i,:]) if np.sum(matrix[i,:]) else 0 for i in range(len(matrix))]\n",
    "class_acc"
   ]
  },
  {
   "cell_type": "code",
   "execution_count": 62,
   "id": "59752b4f",
   "metadata": {},
   "outputs": [],
   "source": [
    "from sklearn.metrics import ConfusionMatrixDisplay\n",
    "import matplotlib.pyplot as plt"
   ]
  },
  {
   "cell_type": "code",
   "execution_count": 63,
   "id": "2b56f2b7",
   "metadata": {},
   "outputs": [
    {
     "data": {
      "text/plain": [
       "<sklearn.metrics._plot.confusion_matrix.ConfusionMatrixDisplay at 0x7fc4ce9ed2b0>"
      ]
     },
     "execution_count": 63,
     "metadata": {},
     "output_type": "execute_result"
    },
    {
     "data": {
      "image/png": "[encoded data removed]",
      "text/plain": [
       "<Figure size 432x288 with 2 Axes>"
      ]
     },
     "metadata": {
      "needs_background": "light"
     },
     "output_type": "display_data"
    }
   ],
   "source": [
    "ConfusionMatrixDisplay.from_predictions(y_test, y_pred_classes, cmap=plt.cm.Blues)"
   ]
  },
  {
   "cell_type": "code",
   "execution_count": null,
   "id": "44bfb673",
   "metadata": {},
   "outputs": [],
   "source": []
  }
 ],
 "metadata": {
  "kernelspec": {
   "display_name": "Python 3 (ipykernel)",
   "language": "python",
   "name": "python3"
  },
  "language_info": {
   "codemirror_mode": {
    "name": "ipython",
    "version": 3
   },
   "file_extension": ".py",
   "mimetype": "text/x-python",
   "name": "python",
   "nbconvert_exporter": "python",
   "pygments_lexer": "ipython3",
   "version": "3.9.7"
  }
 },
 "nbformat": 4,
 "nbformat_minor": 5
}
