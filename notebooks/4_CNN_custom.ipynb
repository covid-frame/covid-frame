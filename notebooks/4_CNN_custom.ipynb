{
 "cells": [
  {
   "cell_type": "code",
   "execution_count": 1,
   "id": "f9ec556a",
   "metadata": {},
   "outputs": [],
   "source": [
    "%load_ext autoreload\n",
    "%autoreload 2"
   ]
  },
  {
   "cell_type": "code",
   "execution_count": 2,
   "id": "c9a888db",
   "metadata": {},
   "outputs": [],
   "source": [
    "BASE_PATH=\"/mnt/Archivos/dataset-xray\""
   ]
  },
  {
   "cell_type": "code",
   "execution_count": 3,
   "id": "1566b209",
   "metadata": {},
   "outputs": [],
   "source": [
    "from pathlib import Path\n",
    "from covidframe.tools.load import load_database_from_hdf"
   ]
  },
  {
   "cell_type": "code",
   "execution_count": 4,
   "id": "9d69b92e",
   "metadata": {},
   "outputs": [],
   "source": [
    "base_dir = Path(BASE_PATH)\n",
    "DEFAULT_DATABASE_NAME_TRAIN = \"database_balanced_train.h5\"\n",
    "DEFAULT_DATABASE_NAME_TEST = \"database_balanced_test.h5\""
   ]
  },
  {
   "cell_type": "code",
   "execution_count": 5,
   "id": "b0931efc",
   "metadata": {},
   "outputs": [],
   "source": [
    "df_train = load_database_from_hdf(filename= base_dir / DEFAULT_DATABASE_NAME_TRAIN)"
   ]
  },
  {
   "cell_type": "code",
   "execution_count": 6,
   "id": "6e9f48b1",
   "metadata": {},
   "outputs": [
    {
     "data": {
      "text/html": [
       "<div>\n",
       "<style scoped>\n",
       "    .dataframe tbody tr th:only-of-type {\n",
       "        vertical-align: middle;\n",
       "    }\n",
       "\n",
       "    .dataframe tbody tr th {\n",
       "        vertical-align: top;\n",
       "    }\n",
       "\n",
       "    .dataframe thead th {\n",
       "        text-align: right;\n",
       "    }\n",
       "</style>\n",
       "<table border=\"1\" class=\"dataframe\">\n",
       "  <thead>\n",
       "    <tr style=\"text-align: right;\">\n",
       "      <th></th>\n",
       "      <th>image_path</th>\n",
       "      <th>image_name</th>\n",
       "      <th>original_category</th>\n",
       "      <th>id</th>\n",
       "      <th>type</th>\n",
       "      <th>source</th>\n",
       "      <th>folder_name</th>\n",
       "      <th>cv_hash</th>\n",
       "      <th>im_hash</th>\n",
       "      <th>original_image_path</th>\n",
       "      <th>original_image_name</th>\n",
       "      <th>category</th>\n",
       "      <th>size</th>\n",
       "      <th>is_squared</th>\n",
       "      <th>aspect_ratio</th>\n",
       "      <th>resized</th>\n",
       "      <th>new_size</th>\n",
       "    </tr>\n",
       "  </thead>\n",
       "  <tbody>\n",
       "    <tr>\n",
       "      <th>0</th>\n",
       "      <td>/mnt/Archivos/dataset-xray/database_clean/COVI...</td>\n",
       "      <td>COVID-19_Radiography_Dataset_COVID-2966.png</td>\n",
       "      <td>COVID</td>\n",
       "      <td>COVID-2966</td>\n",
       "      <td>folders-metadata</td>\n",
       "      <td>kaggle</td>\n",
       "      <td>COVID-19_Radiography_Dataset</td>\n",
       "      <td>2525194807696518223</td>\n",
       "      <td>e5c2d8279f7ba482dfc3fab7049fd9290be29f89edad1d...</td>\n",
       "      <td>/mnt/Archivos/dataset-xray/COVID-19_Radiograph...</td>\n",
       "      <td>COVID-2966.png</td>\n",
       "      <td>covid-19</td>\n",
       "      <td>(299, 299)</td>\n",
       "      <td>True</td>\n",
       "      <td>1.0</td>\n",
       "      <td>[[58, 74, 67, 51, 35, 21, 15, 10, 8, 9, 9, 7, ...</td>\n",
       "      <td>(299, 299)</td>\n",
       "    </tr>\n",
       "    <tr>\n",
       "      <th>1</th>\n",
       "      <td>/mnt/Archivos/dataset-xray/database_clean/COVI...</td>\n",
       "      <td>COVID-19_Radiography_Dataset_Lung_Opacity-2667...</td>\n",
       "      <td>Lung_Opacity</td>\n",
       "      <td>Lung_Opacity-2667</td>\n",
       "      <td>folders-metadata</td>\n",
       "      <td>kaggle</td>\n",
       "      <td>COVID-19_Radiography_Dataset</td>\n",
       "      <td>1085137777431229004</td>\n",
       "      <td>7fb1a436ffccd49f8c21821317dad08899d01f70981ed8...</td>\n",
       "      <td>/mnt/Archivos/dataset-xray/COVID-19_Radiograph...</td>\n",
       "      <td>Lung_Opacity-2667.png</td>\n",
       "      <td>pneumonia</td>\n",
       "      <td>(299, 299)</td>\n",
       "      <td>True</td>\n",
       "      <td>1.0</td>\n",
       "      <td>[[11, 25, 27, 26, 26, 27, 27, 26, 26, 26, 26, ...</td>\n",
       "      <td>(299, 299)</td>\n",
       "    </tr>\n",
       "    <tr>\n",
       "      <th>2</th>\n",
       "      <td>/mnt/Archivos/dataset-xray/database_clean/COVI...</td>\n",
       "      <td>COVID-19_Radiography_Dataset_Lung_Opacity-5383...</td>\n",
       "      <td>Lung_Opacity</td>\n",
       "      <td>Lung_Opacity-5383</td>\n",
       "      <td>folders-metadata</td>\n",
       "      <td>kaggle</td>\n",
       "      <td>COVID-19_Radiography_Dataset</td>\n",
       "      <td>1082842259636424524</td>\n",
       "      <td>fc2d0e2eea7b55c37a2a9535d4bcc713c1b3b1c21b4068...</td>\n",
       "      <td>/mnt/Archivos/dataset-xray/COVID-19_Radiograph...</td>\n",
       "      <td>Lung_Opacity-5383.png</td>\n",
       "      <td>pneumonia</td>\n",
       "      <td>(299, 299)</td>\n",
       "      <td>True</td>\n",
       "      <td>1.0</td>\n",
       "      <td>[[165, 157, 148, 142, 136, 130, 125, 120, 118,...</td>\n",
       "      <td>(299, 299)</td>\n",
       "    </tr>\n",
       "    <tr>\n",
       "      <th>3</th>\n",
       "      <td>/mnt/Archivos/dataset-xray/database_clean/COVI...</td>\n",
       "      <td>COVID-19_Radiography_Dataset_COVID-2346.png</td>\n",
       "      <td>COVID</td>\n",
       "      <td>COVID-2346</td>\n",
       "      <td>folders-metadata</td>\n",
       "      <td>kaggle</td>\n",
       "      <td>COVID-19_Radiography_Dataset</td>\n",
       "      <td>2167979743500276055</td>\n",
       "      <td>bfc280a462368db1679ce543ae8bbc7adefce20cc2a0d2...</td>\n",
       "      <td>/mnt/Archivos/dataset-xray/COVID-19_Radiograph...</td>\n",
       "      <td>COVID-2346.png</td>\n",
       "      <td>covid-19</td>\n",
       "      <td>(299, 299)</td>\n",
       "      <td>True</td>\n",
       "      <td>1.0</td>\n",
       "      <td>[[99, 86, 72, 59, 48, 39, 33, 28, 26, 28, 32, ...</td>\n",
       "      <td>(299, 299)</td>\n",
       "    </tr>\n",
       "    <tr>\n",
       "      <th>4</th>\n",
       "      <td>/mnt/Archivos/dataset-xray/database_clean/COVI...</td>\n",
       "      <td>COVID-19_Radiography_Dataset_COVID-281.png</td>\n",
       "      <td>COVID</td>\n",
       "      <td>COVID-281</td>\n",
       "      <td>folders-metadata</td>\n",
       "      <td>kaggle</td>\n",
       "      <td>COVID-19_Radiography_Dataset</td>\n",
       "      <td>508639633549896718</td>\n",
       "      <td>d5d8833251de76f38f09fc8dd1dcace5bfdf2e13a79a45...</td>\n",
       "      <td>/mnt/Archivos/dataset-xray/COVID-19_Radiograph...</td>\n",
       "      <td>COVID-281.png</td>\n",
       "      <td>covid-19</td>\n",
       "      <td>(299, 299)</td>\n",
       "      <td>True</td>\n",
       "      <td>1.0</td>\n",
       "      <td>[[217, 216, 215, 215, 217, 219, 218, 217, 218,...</td>\n",
       "      <td>(299, 299)</td>\n",
       "    </tr>\n",
       "  </tbody>\n",
       "</table>\n",
       "</div>"
      ],
      "text/plain": [
       "                                          image_path  \\\n",
       "0  /mnt/Archivos/dataset-xray/database_clean/COVI...   \n",
       "1  /mnt/Archivos/dataset-xray/database_clean/COVI...   \n",
       "2  /mnt/Archivos/dataset-xray/database_clean/COVI...   \n",
       "3  /mnt/Archivos/dataset-xray/database_clean/COVI...   \n",
       "4  /mnt/Archivos/dataset-xray/database_clean/COVI...   \n",
       "\n",
       "                                          image_name original_category  \\\n",
       "0        COVID-19_Radiography_Dataset_COVID-2966.png             COVID   \n",
       "1  COVID-19_Radiography_Dataset_Lung_Opacity-2667...      Lung_Opacity   \n",
       "2  COVID-19_Radiography_Dataset_Lung_Opacity-5383...      Lung_Opacity   \n",
       "3        COVID-19_Radiography_Dataset_COVID-2346.png             COVID   \n",
       "4         COVID-19_Radiography_Dataset_COVID-281.png             COVID   \n",
       "\n",
       "                  id              type  source                   folder_name  \\\n",
       "0         COVID-2966  folders-metadata  kaggle  COVID-19_Radiography_Dataset   \n",
       "1  Lung_Opacity-2667  folders-metadata  kaggle  COVID-19_Radiography_Dataset   \n",
       "2  Lung_Opacity-5383  folders-metadata  kaggle  COVID-19_Radiography_Dataset   \n",
       "3         COVID-2346  folders-metadata  kaggle  COVID-19_Radiography_Dataset   \n",
       "4          COVID-281  folders-metadata  kaggle  COVID-19_Radiography_Dataset   \n",
       "\n",
       "               cv_hash                                            im_hash  \\\n",
       "0  2525194807696518223  e5c2d8279f7ba482dfc3fab7049fd9290be29f89edad1d...   \n",
       "1  1085137777431229004  7fb1a436ffccd49f8c21821317dad08899d01f70981ed8...   \n",
       "2  1082842259636424524  fc2d0e2eea7b55c37a2a9535d4bcc713c1b3b1c21b4068...   \n",
       "3  2167979743500276055  bfc280a462368db1679ce543ae8bbc7adefce20cc2a0d2...   \n",
       "4   508639633549896718  d5d8833251de76f38f09fc8dd1dcace5bfdf2e13a79a45...   \n",
       "\n",
       "                                 original_image_path    original_image_name  \\\n",
       "0  /mnt/Archivos/dataset-xray/COVID-19_Radiograph...         COVID-2966.png   \n",
       "1  /mnt/Archivos/dataset-xray/COVID-19_Radiograph...  Lung_Opacity-2667.png   \n",
       "2  /mnt/Archivos/dataset-xray/COVID-19_Radiograph...  Lung_Opacity-5383.png   \n",
       "3  /mnt/Archivos/dataset-xray/COVID-19_Radiograph...         COVID-2346.png   \n",
       "4  /mnt/Archivos/dataset-xray/COVID-19_Radiograph...          COVID-281.png   \n",
       "\n",
       "    category        size  is_squared  aspect_ratio  \\\n",
       "0   covid-19  (299, 299)        True           1.0   \n",
       "1  pneumonia  (299, 299)        True           1.0   \n",
       "2  pneumonia  (299, 299)        True           1.0   \n",
       "3   covid-19  (299, 299)        True           1.0   \n",
       "4   covid-19  (299, 299)        True           1.0   \n",
       "\n",
       "                                             resized    new_size  \n",
       "0  [[58, 74, 67, 51, 35, 21, 15, 10, 8, 9, 9, 7, ...  (299, 299)  \n",
       "1  [[11, 25, 27, 26, 26, 27, 27, 26, 26, 26, 26, ...  (299, 299)  \n",
       "2  [[165, 157, 148, 142, 136, 130, 125, 120, 118,...  (299, 299)  \n",
       "3  [[99, 86, 72, 59, 48, 39, 33, 28, 26, 28, 32, ...  (299, 299)  \n",
       "4  [[217, 216, 215, 215, 217, 219, 218, 217, 218,...  (299, 299)  "
      ]
     },
     "execution_count": 6,
     "metadata": {},
     "output_type": "execute_result"
    }
   ],
   "source": [
    "df_train.head()"
   ]
  },
  {
   "cell_type": "code",
   "execution_count": 7,
   "id": "af967330",
   "metadata": {},
   "outputs": [],
   "source": [
    "df_test = load_database_from_hdf(filename= base_dir / DEFAULT_DATABASE_NAME_TEST)"
   ]
  },
  {
   "cell_type": "code",
   "execution_count": 8,
   "id": "99c6342d",
   "metadata": {},
   "outputs": [],
   "source": [
    "import numpy as np"
   ]
  },
  {
   "cell_type": "code",
   "execution_count": 9,
   "id": "98d13227",
   "metadata": {},
   "outputs": [],
   "source": [
    "X = np.stack(df_train[\"resized\"])"
   ]
  },
  {
   "cell_type": "code",
   "execution_count": 10,
   "id": "5288671e",
   "metadata": {},
   "outputs": [
    {
     "data": {
      "text/plain": [
       "(9732, 299, 299)"
      ]
     },
     "execution_count": 10,
     "metadata": {},
     "output_type": "execute_result"
    }
   ],
   "source": [
    "X.shape"
   ]
  },
  {
   "cell_type": "code",
   "execution_count": 11,
   "id": "37da2803",
   "metadata": {},
   "outputs": [],
   "source": [
    "category_mappings = {\n",
    "    \"normal\":0,\n",
    "    \"pneumonia\":1,\n",
    "    \"covid-19\":2\n",
    "}"
   ]
  },
  {
   "cell_type": "code",
   "execution_count": 12,
   "id": "594ba2b6",
   "metadata": {},
   "outputs": [],
   "source": [
    "y = df_train[\"category\"].map(category_mappings)"
   ]
  },
  {
   "cell_type": "code",
   "execution_count": 13,
   "id": "66f5b763",
   "metadata": {},
   "outputs": [
    {
     "data": {
      "text/plain": [
       "0       2\n",
       "1       1\n",
       "2       1\n",
       "3       2\n",
       "4       2\n",
       "       ..\n",
       "9727    1\n",
       "9728    2\n",
       "9729    2\n",
       "9730    0\n",
       "9731    0\n",
       "Name: category, Length: 9732, dtype: int64"
      ]
     },
     "execution_count": 13,
     "metadata": {},
     "output_type": "execute_result"
    }
   ],
   "source": [
    "y"
   ]
  },
  {
   "cell_type": "code",
   "execution_count": 14,
   "id": "65ba4532",
   "metadata": {},
   "outputs": [],
   "source": [
    "del df_train"
   ]
  },
  {
   "cell_type": "code",
   "execution_count": 15,
   "id": "a6b6e9b2",
   "metadata": {},
   "outputs": [],
   "source": [
    "from sklearn.model_selection import train_test_split"
   ]
  },
  {
   "cell_type": "code",
   "execution_count": 16,
   "id": "f0e1f83d",
   "metadata": {},
   "outputs": [],
   "source": [
    "X_train, X_val, y_train, y_val = train_test_split(X, y, test_size=0.25, random_state=100)"
   ]
  },
  {
   "cell_type": "code",
   "execution_count": 17,
   "id": "2341024c",
   "metadata": {},
   "outputs": [],
   "source": [
    "X_train = X_train.reshape((-1, 299, 299, 1))\n",
    "X_val = X_val.reshape((-1, 299, 299, 1))"
   ]
  },
  {
   "cell_type": "code",
   "execution_count": 18,
   "id": "eb1137dc",
   "metadata": {},
   "outputs": [
    {
     "data": {
      "text/plain": [
       "(7299, 299, 299, 1)"
      ]
     },
     "execution_count": 18,
     "metadata": {},
     "output_type": "execute_result"
    }
   ],
   "source": [
    "X_train.shape"
   ]
  },
  {
   "cell_type": "code",
   "execution_count": null,
   "id": "dcc98976",
   "metadata": {},
   "outputs": [],
   "source": [
    "X_val.shape"
   ]
  },
  {
   "cell_type": "markdown",
   "id": "b3951ea1",
   "metadata": {},
   "source": [
    "## Using TF functions"
   ]
  },
  {
   "cell_type": "code",
   "execution_count": 29,
   "id": "d5628d8b",
   "metadata": {},
   "outputs": [],
   "source": [
    "from covidframe.tools.load import load_database"
   ]
  },
  {
   "cell_type": "code",
   "execution_count": 30,
   "id": "4d68c8cd",
   "metadata": {},
   "outputs": [],
   "source": [
    "DEFAULT_DATABASE_NAME_TRAIN = \"database_clean_balanced_train.metadata.csv\""
   ]
  },
  {
   "cell_type": "code",
   "execution_count": 31,
   "id": "531ac5b7",
   "metadata": {},
   "outputs": [],
   "source": [
    "df_train = load_database(base_dir / DEFAULT_DATABASE_NAME_TRAIN)"
   ]
  },
  {
   "cell_type": "code",
   "execution_count": 33,
   "id": "308c4f15",
   "metadata": {},
   "outputs": [
    {
     "data": {
      "text/html": [
       "<div>\n",
       "<style scoped>\n",
       "    .dataframe tbody tr th:only-of-type {\n",
       "        vertical-align: middle;\n",
       "    }\n",
       "\n",
       "    .dataframe tbody tr th {\n",
       "        vertical-align: top;\n",
       "    }\n",
       "\n",
       "    .dataframe thead th {\n",
       "        text-align: right;\n",
       "    }\n",
       "</style>\n",
       "<table border=\"1\" class=\"dataframe\">\n",
       "  <thead>\n",
       "    <tr style=\"text-align: right;\">\n",
       "      <th></th>\n",
       "      <th>image_path</th>\n",
       "      <th>image_name</th>\n",
       "      <th>original_category</th>\n",
       "      <th>id</th>\n",
       "      <th>type</th>\n",
       "      <th>source</th>\n",
       "      <th>folder_name</th>\n",
       "      <th>cv_hash</th>\n",
       "      <th>im_hash</th>\n",
       "      <th>original_image_path</th>\n",
       "      <th>original_image_name</th>\n",
       "      <th>category</th>\n",
       "    </tr>\n",
       "  </thead>\n",
       "  <tbody>\n",
       "    <tr>\n",
       "      <th>0</th>\n",
       "      <td>/mnt/Archivos/dataset-xray/database_clean/COVI...</td>\n",
       "      <td>COVID-19_Radiography_Dataset_COVID-2966.png</td>\n",
       "      <td>COVID</td>\n",
       "      <td>COVID-2966</td>\n",
       "      <td>folders-metadata</td>\n",
       "      <td>kaggle</td>\n",
       "      <td>COVID-19_Radiography_Dataset</td>\n",
       "      <td>2525194807696518223</td>\n",
       "      <td>e5c2d8279f7ba482dfc3fab7049fd9290be29f89edad1d...</td>\n",
       "      <td>/mnt/Archivos/dataset-xray/COVID-19_Radiograph...</td>\n",
       "      <td>COVID-2966.png</td>\n",
       "      <td>covid-19</td>\n",
       "    </tr>\n",
       "    <tr>\n",
       "      <th>1</th>\n",
       "      <td>/mnt/Archivos/dataset-xray/database_clean/COVI...</td>\n",
       "      <td>COVID-19_Radiography_Dataset_Lung_Opacity-2667...</td>\n",
       "      <td>Lung_Opacity</td>\n",
       "      <td>Lung_Opacity-2667</td>\n",
       "      <td>folders-metadata</td>\n",
       "      <td>kaggle</td>\n",
       "      <td>COVID-19_Radiography_Dataset</td>\n",
       "      <td>1085137777431229004</td>\n",
       "      <td>7fb1a436ffccd49f8c21821317dad08899d01f70981ed8...</td>\n",
       "      <td>/mnt/Archivos/dataset-xray/COVID-19_Radiograph...</td>\n",
       "      <td>Lung_Opacity-2667.png</td>\n",
       "      <td>pneumonia</td>\n",
       "    </tr>\n",
       "    <tr>\n",
       "      <th>2</th>\n",
       "      <td>/mnt/Archivos/dataset-xray/database_clean/COVI...</td>\n",
       "      <td>COVID-19_Radiography_Dataset_Lung_Opacity-5383...</td>\n",
       "      <td>Lung_Opacity</td>\n",
       "      <td>Lung_Opacity-5383</td>\n",
       "      <td>folders-metadata</td>\n",
       "      <td>kaggle</td>\n",
       "      <td>COVID-19_Radiography_Dataset</td>\n",
       "      <td>1082842259636424524</td>\n",
       "      <td>fc2d0e2eea7b55c37a2a9535d4bcc713c1b3b1c21b4068...</td>\n",
       "      <td>/mnt/Archivos/dataset-xray/COVID-19_Radiograph...</td>\n",
       "      <td>Lung_Opacity-5383.png</td>\n",
       "      <td>pneumonia</td>\n",
       "    </tr>\n",
       "    <tr>\n",
       "      <th>3</th>\n",
       "      <td>/mnt/Archivos/dataset-xray/database_clean/COVI...</td>\n",
       "      <td>COVID-19_Radiography_Dataset_COVID-2346.png</td>\n",
       "      <td>COVID</td>\n",
       "      <td>COVID-2346</td>\n",
       "      <td>folders-metadata</td>\n",
       "      <td>kaggle</td>\n",
       "      <td>COVID-19_Radiography_Dataset</td>\n",
       "      <td>2167979743500276055</td>\n",
       "      <td>bfc280a462368db1679ce543ae8bbc7adefce20cc2a0d2...</td>\n",
       "      <td>/mnt/Archivos/dataset-xray/COVID-19_Radiograph...</td>\n",
       "      <td>COVID-2346.png</td>\n",
       "      <td>covid-19</td>\n",
       "    </tr>\n",
       "    <tr>\n",
       "      <th>4</th>\n",
       "      <td>/mnt/Archivos/dataset-xray/database_clean/COVI...</td>\n",
       "      <td>COVID-19_Radiography_Dataset_COVID-281.png</td>\n",
       "      <td>COVID</td>\n",
       "      <td>COVID-281</td>\n",
       "      <td>folders-metadata</td>\n",
       "      <td>kaggle</td>\n",
       "      <td>COVID-19_Radiography_Dataset</td>\n",
       "      <td>508639633549896718</td>\n",
       "      <td>d5d8833251de76f38f09fc8dd1dcace5bfdf2e13a79a45...</td>\n",
       "      <td>/mnt/Archivos/dataset-xray/COVID-19_Radiograph...</td>\n",
       "      <td>COVID-281.png</td>\n",
       "      <td>covid-19</td>\n",
       "    </tr>\n",
       "  </tbody>\n",
       "</table>\n",
       "</div>"
      ],
      "text/plain": [
       "                                          image_path  \\\n",
       "0  /mnt/Archivos/dataset-xray/database_clean/COVI...   \n",
       "1  /mnt/Archivos/dataset-xray/database_clean/COVI...   \n",
       "2  /mnt/Archivos/dataset-xray/database_clean/COVI...   \n",
       "3  /mnt/Archivos/dataset-xray/database_clean/COVI...   \n",
       "4  /mnt/Archivos/dataset-xray/database_clean/COVI...   \n",
       "\n",
       "                                          image_name original_category  \\\n",
       "0        COVID-19_Radiography_Dataset_COVID-2966.png             COVID   \n",
       "1  COVID-19_Radiography_Dataset_Lung_Opacity-2667...      Lung_Opacity   \n",
       "2  COVID-19_Radiography_Dataset_Lung_Opacity-5383...      Lung_Opacity   \n",
       "3        COVID-19_Radiography_Dataset_COVID-2346.png             COVID   \n",
       "4         COVID-19_Radiography_Dataset_COVID-281.png             COVID   \n",
       "\n",
       "                  id              type  source                   folder_name  \\\n",
       "0         COVID-2966  folders-metadata  kaggle  COVID-19_Radiography_Dataset   \n",
       "1  Lung_Opacity-2667  folders-metadata  kaggle  COVID-19_Radiography_Dataset   \n",
       "2  Lung_Opacity-5383  folders-metadata  kaggle  COVID-19_Radiography_Dataset   \n",
       "3         COVID-2346  folders-metadata  kaggle  COVID-19_Radiography_Dataset   \n",
       "4          COVID-281  folders-metadata  kaggle  COVID-19_Radiography_Dataset   \n",
       "\n",
       "               cv_hash                                            im_hash  \\\n",
       "0  2525194807696518223  e5c2d8279f7ba482dfc3fab7049fd9290be29f89edad1d...   \n",
       "1  1085137777431229004  7fb1a436ffccd49f8c21821317dad08899d01f70981ed8...   \n",
       "2  1082842259636424524  fc2d0e2eea7b55c37a2a9535d4bcc713c1b3b1c21b4068...   \n",
       "3  2167979743500276055  bfc280a462368db1679ce543ae8bbc7adefce20cc2a0d2...   \n",
       "4   508639633549896718  d5d8833251de76f38f09fc8dd1dcace5bfdf2e13a79a45...   \n",
       "\n",
       "                                 original_image_path    original_image_name  \\\n",
       "0  /mnt/Archivos/dataset-xray/COVID-19_Radiograph...         COVID-2966.png   \n",
       "1  /mnt/Archivos/dataset-xray/COVID-19_Radiograph...  Lung_Opacity-2667.png   \n",
       "2  /mnt/Archivos/dataset-xray/COVID-19_Radiograph...  Lung_Opacity-5383.png   \n",
       "3  /mnt/Archivos/dataset-xray/COVID-19_Radiograph...         COVID-2346.png   \n",
       "4  /mnt/Archivos/dataset-xray/COVID-19_Radiograph...          COVID-281.png   \n",
       "\n",
       "    category  \n",
       "0   covid-19  \n",
       "1  pneumonia  \n",
       "2  pneumonia  \n",
       "3   covid-19  \n",
       "4   covid-19  "
      ]
     },
     "execution_count": 33,
     "metadata": {},
     "output_type": "execute_result"
    }
   ],
   "source": [
    "df_train.head()"
   ]
  },
  {
   "cell_type": "code",
   "execution_count": 34,
   "id": "883f4b86",
   "metadata": {},
   "outputs": [],
   "source": [
    "image_paths = df_train[\"image_path\"]"
   ]
  },
  {
   "cell_type": "code",
   "execution_count": 39,
   "id": "4db7ae67",
   "metadata": {},
   "outputs": [],
   "source": [
    "from covidframe.tools.image import load_image, to_equal_aspect_ratio, resize_image"
   ]
  },
  {
   "cell_type": "code",
   "execution_count": 85,
   "id": "7860612f",
   "metadata": {},
   "outputs": [],
   "source": [
    "def process_image_file(filename, size):\n",
    "    image = load_image(filename)\n",
    "    image = to_equal_aspect_ratio(image)\n",
    "    return resize_image(image,size)"
   ]
  },
  {
   "cell_type": "code",
   "execution_count": 86,
   "id": "72277e3e",
   "metadata": {},
   "outputs": [],
   "source": [
    "images = [process_image_file(image, IMG_SIZE) for image in image_paths]"
   ]
  },
  {
   "cell_type": "code",
   "execution_count": 35,
   "id": "ee9fafb0",
   "metadata": {},
   "outputs": [],
   "source": [
    "y = df_train[\"category\"].map(category_mappings)"
   ]
  },
  {
   "cell_type": "code",
   "execution_count": 87,
   "id": "35565a4b",
   "metadata": {},
   "outputs": [],
   "source": [
    "X_train, X_val, y_train, y_val = train_test_split(images, y, test_size=0.25, random_state=100)"
   ]
  },
  {
   "cell_type": "code",
   "execution_count": 20,
   "id": "cd0ea15a",
   "metadata": {},
   "outputs": [],
   "source": [
    "IMG_SIZE=(299,299)"
   ]
  },
  {
   "cell_type": "code",
   "execution_count": 52,
   "id": "4b5fcbe6",
   "metadata": {},
   "outputs": [],
   "source": [
    "#From https://cs230.stanford.edu/blog/datapipeline/\n",
    "#till now it doesn't work \n",
    "#presents an inconsistent dimension between batch and tensor https://github.com/tensorflow/tensorflow/issues/40919\n",
    "def parse_function(filename, label):\n",
    "    image = tf.io.read_file(filename)\n",
    "    image = tf.io.decode_jpeg(image)\n",
    "    image = tf.image.convert_image_dtype(image, tf.float32)\n",
    "    resized_image = tf.image.resize(image,list(IMG_SIZE))\n",
    "    return resized_image, label"
   ]
  },
  {
   "cell_type": "code",
   "execution_count": 88,
   "id": "96e200f6",
   "metadata": {},
   "outputs": [],
   "source": [
    "dataset_train = tf.data.Dataset.from_tensor_slices((X_train, y_train))\n",
    "dataset_train = dataset_train.shuffle(len(X_train))\n",
    "#dataset_train = dataset_train.map(parse_function, num_parallel_calls=4)\n",
    "dataset_train = dataset_train.batch(batch_size)\n",
    "dataset_train = dataset_train.prefetch(1)"
   ]
  },
  {
   "cell_type": "code",
   "execution_count": 89,
   "id": "f7308c82",
   "metadata": {},
   "outputs": [],
   "source": [
    "dataset_val = tf.data.Dataset.from_tensor_slices((X_val, y_val))\n",
    "dataset_val = dataset_val.shuffle(len(X_val))\n",
    "#dataset_val = dataset_val.map(parse_function, num_parallel_calls=4)\n",
    "dataset_val = dataset_val.batch(batch_size)\n",
    "dataset_val = dataset_val.prefetch(1)"
   ]
  },
  {
   "cell_type": "code",
   "execution_count": 59,
   "id": "c74b72df",
   "metadata": {},
   "outputs": [],
   "source": [
    "from tensorflow.keras import backend as K\n",
    "import tensorflow as tf\n",
    "\n",
    "tf.random.set_seed(0)"
   ]
  },
  {
   "cell_type": "code",
   "execution_count": 76,
   "id": "87867367",
   "metadata": {},
   "outputs": [],
   "source": [
    "from tensorflow.keras.models import Model\n",
    "from tensorflow.keras.layers import Input, Conv2D, MaxPool2D, ReLU, Flatten, Dense, Rescaling\n",
    "from tensorflow.keras.optimizers import SGD\n",
    "\n",
    "def create_model():\n",
    "    K.clear_session()\n",
    "\n",
    "    input_layer = Input(shape=(IMG_SIZE[0], IMG_SIZE[1], 1))\n",
    "    rescaling_layer = Rescaling(scale=1 / 127.5, offset=-1)(input_layer)\n",
    "    convolutional_1 = Conv2D(16, kernel_size=3, padding=\"same\")(rescaling_layer)\n",
    "    max_pooling_1 = MaxPool2D(2)(convolutional_1)\n",
    "    relu_1 = ReLU()(max_pooling_1)\n",
    "    convolutional_2 = Conv2D(32, kernel_size=3, padding=\"same\")(relu_1)\n",
    "    max_pooling_2 = MaxPool2D(2)(convolutional_2)\n",
    "    relu_2 = ReLU()(max_pooling_2)\n",
    "    convolutional_3 = Conv2D(64, kernel_size=3)(relu_2)\n",
    "    relu_3 = ReLU()(convolutional_3)\n",
    "    flatten = Flatten()(relu_3)\n",
    "    dense = Dense(256, activation=\"relu\")(flatten)\n",
    "    output_layer = Dense(3, activation=\"softmax\")(dense)\n",
    "\n",
    "    model = Model(inputs=input_layer, outputs=output_layer)\n",
    "\n",
    "    return model"
   ]
  },
  {
   "cell_type": "code",
   "execution_count": 78,
   "id": "f4ece732",
   "metadata": {},
   "outputs": [
    {
     "data": {
      "text/plain": [
       "(<tf.Tensor: shape=(10, 299, 299, 1), dtype=float32, numpy=\n",
       " array([[[[0.96470594],\n",
       "          [0.9607844 ],\n",
       "          [0.9568628 ],\n",
       "          ...,\n",
       "          [0.91372555],\n",
       "          [0.9058824 ],\n",
       "          [0.8431373 ]],\n",
       " \n",
       "         [[0.96470594],\n",
       "          [0.9568628 ],\n",
       "          [0.95294124],\n",
       "          ...,\n",
       "          [0.909804  ],\n",
       "          [0.90196085],\n",
       "          [0.83921576]],\n",
       " \n",
       "         [[0.9568628 ],\n",
       "          [0.9490197 ],\n",
       "          [0.9450981 ],\n",
       "          ...,\n",
       "          [0.91372555],\n",
       "          [0.9058824 ],\n",
       "          [0.83921576]],\n",
       " \n",
       "         ...,\n",
       " \n",
       "         [[0.85098046],\n",
       "          [0.7176471 ],\n",
       "          [0.62352943],\n",
       "          ...,\n",
       "          [0.9607844 ],\n",
       "          [0.9686275 ],\n",
       "          [0.8705883 ]],\n",
       " \n",
       "         [[0.89019614],\n",
       "          [0.78823537],\n",
       "          [0.69803923],\n",
       "          ...,\n",
       "          [0.97647065],\n",
       "          [0.9803922 ],\n",
       "          [0.8745099 ]],\n",
       " \n",
       "         [[0.94117653],\n",
       "          [0.86274517],\n",
       "          [0.79215693],\n",
       "          ...,\n",
       "          [0.9803922 ],\n",
       "          [0.9843138 ],\n",
       "          [0.87843144]]],\n",
       " \n",
       " \n",
       "        [[[0.08627451],\n",
       "          [0.08627451],\n",
       "          [0.08627451],\n",
       "          ...,\n",
       "          [0.08627451],\n",
       "          [0.08627451],\n",
       "          [0.08627451]],\n",
       " \n",
       "         [[0.01568628],\n",
       "          [0.01568628],\n",
       "          [0.01568628],\n",
       "          ...,\n",
       "          [0.01568628],\n",
       "          [0.01568628],\n",
       "          [0.01568628]],\n",
       " \n",
       "         [[0.        ],\n",
       "          [0.        ],\n",
       "          [0.        ],\n",
       "          ...,\n",
       "          [0.        ],\n",
       "          [0.        ],\n",
       "          [0.        ]],\n",
       " \n",
       "         ...,\n",
       " \n",
       "         [[0.        ],\n",
       "          [0.        ],\n",
       "          [0.        ],\n",
       "          ...,\n",
       "          [0.        ],\n",
       "          [0.        ],\n",
       "          [0.        ]],\n",
       " \n",
       "         [[0.01568628],\n",
       "          [0.01568628],\n",
       "          [0.01568628],\n",
       "          ...,\n",
       "          [0.01568628],\n",
       "          [0.01568628],\n",
       "          [0.01568628]],\n",
       " \n",
       "         [[0.08627451],\n",
       "          [0.08627451],\n",
       "          [0.08627451],\n",
       "          ...,\n",
       "          [0.08627451],\n",
       "          [0.08627451],\n",
       "          [0.08627451]]],\n",
       " \n",
       " \n",
       "        [[[0.        ],\n",
       "          [0.        ],\n",
       "          [0.        ],\n",
       "          ...,\n",
       "          [0.23137257],\n",
       "          [0.33333334],\n",
       "          [0.4431373 ]],\n",
       " \n",
       "         [[0.        ],\n",
       "          [0.        ],\n",
       "          [0.        ],\n",
       "          ...,\n",
       "          [0.24705884],\n",
       "          [0.36078432],\n",
       "          [0.48627454]],\n",
       " \n",
       "         [[0.        ],\n",
       "          [0.        ],\n",
       "          [0.        ],\n",
       "          ...,\n",
       "          [0.2509804 ],\n",
       "          [0.3647059 ],\n",
       "          [0.49803925]],\n",
       " \n",
       "         ...,\n",
       " \n",
       "         [[0.        ],\n",
       "          [0.        ],\n",
       "          [0.        ],\n",
       "          ...,\n",
       "          [0.98823535],\n",
       "          [0.9921569 ],\n",
       "          [0.9843138 ]],\n",
       " \n",
       "         [[0.        ],\n",
       "          [0.        ],\n",
       "          [0.        ],\n",
       "          ...,\n",
       "          [0.9450981 ],\n",
       "          [0.9450981 ],\n",
       "          [0.9450981 ]],\n",
       " \n",
       "         [[0.        ],\n",
       "          [0.        ],\n",
       "          [0.        ],\n",
       "          ...,\n",
       "          [0.6784314 ],\n",
       "          [0.6784314 ],\n",
       "          [0.6784314 ]]],\n",
       " \n",
       " \n",
       "        ...,\n",
       " \n",
       " \n",
       "        [[[0.        ],\n",
       "          [0.        ],\n",
       "          [0.        ],\n",
       "          ...,\n",
       "          [0.01176471],\n",
       "          [0.00784314],\n",
       "          [0.00784314]],\n",
       " \n",
       "         [[0.        ],\n",
       "          [0.        ],\n",
       "          [0.        ],\n",
       "          ...,\n",
       "          [0.01176471],\n",
       "          [0.01176471],\n",
       "          [0.01176471]],\n",
       " \n",
       "         [[0.        ],\n",
       "          [0.        ],\n",
       "          [0.        ],\n",
       "          ...,\n",
       "          [0.01568628],\n",
       "          [0.01176471],\n",
       "          [0.01176471]],\n",
       " \n",
       "         ...,\n",
       " \n",
       "         [[0.        ],\n",
       "          [0.        ],\n",
       "          [0.        ],\n",
       "          ...,\n",
       "          [0.01568628],\n",
       "          [0.01568628],\n",
       "          [0.01568628]],\n",
       " \n",
       "         [[0.        ],\n",
       "          [0.        ],\n",
       "          [0.        ],\n",
       "          ...,\n",
       "          [0.01568628],\n",
       "          [0.01960784],\n",
       "          [0.01960784]],\n",
       " \n",
       "         [[0.        ],\n",
       "          [0.        ],\n",
       "          [0.        ],\n",
       "          ...,\n",
       "          [0.00784314],\n",
       "          [0.00784314],\n",
       "          [0.00784314]]],\n",
       " \n",
       " \n",
       "        [[[0.00784314],\n",
       "          [0.00392157],\n",
       "          [0.00392157],\n",
       "          ...,\n",
       "          [0.00392157],\n",
       "          [0.00392157],\n",
       "          [0.        ]],\n",
       " \n",
       "         [[0.00784314],\n",
       "          [0.00392157],\n",
       "          [0.00392157],\n",
       "          ...,\n",
       "          [0.00392157],\n",
       "          [0.00392157],\n",
       "          [0.00392157]],\n",
       " \n",
       "         [[0.00784314],\n",
       "          [0.00392157],\n",
       "          [0.00392157],\n",
       "          ...,\n",
       "          [0.00392157],\n",
       "          [0.00392157],\n",
       "          [0.        ]],\n",
       " \n",
       "         ...,\n",
       " \n",
       "         [[0.00392157],\n",
       "          [0.        ],\n",
       "          [0.        ],\n",
       "          ...,\n",
       "          [0.        ],\n",
       "          [0.        ],\n",
       "          [0.        ]],\n",
       " \n",
       "         [[0.00392157],\n",
       "          [0.        ],\n",
       "          [0.        ],\n",
       "          ...,\n",
       "          [0.        ],\n",
       "          [0.        ],\n",
       "          [0.        ]],\n",
       " \n",
       "         [[0.00392157],\n",
       "          [0.        ],\n",
       "          [0.        ],\n",
       "          ...,\n",
       "          [0.        ],\n",
       "          [0.        ],\n",
       "          [0.        ]]],\n",
       " \n",
       " \n",
       "        [[[0.13725491],\n",
       "          [0.14509805],\n",
       "          [0.14117648],\n",
       "          ...,\n",
       "          [0.1137255 ],\n",
       "          [0.12156864],\n",
       "          [0.12156864]],\n",
       " \n",
       "         [[0.13725491],\n",
       "          [0.14117648],\n",
       "          [0.14117648],\n",
       "          ...,\n",
       "          [0.07450981],\n",
       "          [0.08235294],\n",
       "          [0.08235294]],\n",
       " \n",
       "         [[0.13725491],\n",
       "          [0.14509805],\n",
       "          [0.14901961],\n",
       "          ...,\n",
       "          [0.05882353],\n",
       "          [0.05490196],\n",
       "          [0.0509804 ]],\n",
       " \n",
       "         ...,\n",
       " \n",
       "         [[0.07058824],\n",
       "          [0.14117648],\n",
       "          [0.18431373],\n",
       "          ...,\n",
       "          [0.27450982],\n",
       "          [0.28627452],\n",
       "          [0.29411766]],\n",
       " \n",
       "         [[0.07450981],\n",
       "          [0.14509805],\n",
       "          [0.18039216],\n",
       "          ...,\n",
       "          [0.27450982],\n",
       "          [0.28627452],\n",
       "          [0.2901961 ]],\n",
       " \n",
       "         [[0.07843138],\n",
       "          [0.14901961],\n",
       "          [0.18039216],\n",
       "          ...,\n",
       "          [0.27450982],\n",
       "          [0.2784314 ],\n",
       "          [0.28627452]]]], dtype=float32)>,\n",
       " <tf.Tensor: shape=(10,), dtype=int64, numpy=array([0, 2, 0, 0, 0, 2, 0, 1, 2, 1])>)"
      ]
     },
     "execution_count": 78,
     "metadata": {},
     "output_type": "execute_result"
    }
   ],
   "source": [
    "next(iter(dataset_val))"
   ]
  },
  {
   "cell_type": "code",
   "execution_count": 90,
   "id": "bd26660f",
   "metadata": {},
   "outputs": [],
   "source": [
    "lr = 0.001\n",
    "momentum = 0.9\n",
    "\n",
    "model = create_model()"
   ]
  },
  {
   "cell_type": "code",
   "execution_count": 95,
   "id": "2f4eeebb",
   "metadata": {},
   "outputs": [],
   "source": [
    "model.compile(optimizer=SGD(learning_rate=lr, momentum=momentum), loss='sparse_categorical_crossentropy', metrics=['accuracy'])"
   ]
  },
  {
   "cell_type": "code",
   "execution_count": 91,
   "id": "4542fb73",
   "metadata": {},
   "outputs": [
    {
     "name": "stdout",
     "output_type": "stream",
     "text": [
      "Model: \"model\"\n",
      "_________________________________________________________________\n",
      " Layer (type)                Output Shape              Param #   \n",
      "=================================================================\n",
      " input_1 (InputLayer)        [(None, 299, 299, 1)]     0         \n",
      "                                                                 \n",
      " rescaling (Rescaling)       (None, 299, 299, 1)       0         \n",
      "                                                                 \n",
      " conv2d (Conv2D)             (None, 299, 299, 16)      160       \n",
      "                                                                 \n",
      " max_pooling2d (MaxPooling2D  (None, 149, 149, 16)     0         \n",
      " )                                                               \n",
      "                                                                 \n",
      " re_lu (ReLU)                (None, 149, 149, 16)      0         \n",
      "                                                                 \n",
      " conv2d_1 (Conv2D)           (None, 149, 149, 32)      4640      \n",
      "                                                                 \n",
      " max_pooling2d_1 (MaxPooling  (None, 74, 74, 32)       0         \n",
      " 2D)                                                             \n",
      "                                                                 \n",
      " re_lu_1 (ReLU)              (None, 74, 74, 32)        0         \n",
      "                                                                 \n",
      " conv2d_2 (Conv2D)           (None, 72, 72, 64)        18496     \n",
      "                                                                 \n",
      " re_lu_2 (ReLU)              (None, 72, 72, 64)        0         \n",
      "                                                                 \n",
      " flatten (Flatten)           (None, 331776)            0         \n",
      "                                                                 \n",
      " dense (Dense)               (None, 256)               84934912  \n",
      "                                                                 \n",
      " dense_1 (Dense)             (None, 3)                 771       \n",
      "                                                                 \n",
      "=================================================================\n",
      "Total params: 84,958,979\n",
      "Trainable params: 84,958,979\n",
      "Non-trainable params: 0\n",
      "_________________________________________________________________\n"
     ]
    }
   ],
   "source": [
    "model.summary()"
   ]
  },
  {
   "cell_type": "code",
   "execution_count": 92,
   "id": "bfaf1d79",
   "metadata": {},
   "outputs": [],
   "source": [
    "from tensorflow.keras.callbacks import ModelCheckpoint\n",
    "\n",
    "checkpoint_path = \"my_model/model\"\n",
    "\n",
    "monitor = \"val_accuracy\"\n",
    "\n",
    "mode = \"max\"\n",
    "\n",
    "model_checkpoint = ModelCheckpoint(checkpoint_path, monitor=monitor, verbose=1, save_best_only=True, save_weights_only=True, mode=mode)"
   ]
  },
  {
   "cell_type": "code",
   "execution_count": 93,
   "id": "9dd144b1",
   "metadata": {},
   "outputs": [
    {
     "data": {
      "text/plain": [
       "10"
      ]
     },
     "execution_count": 93,
     "metadata": {},
     "output_type": "execute_result"
    }
   ],
   "source": [
    "batch_size"
   ]
  },
  {
   "cell_type": "code",
   "execution_count": 96,
   "id": "c146338c",
   "metadata": {},
   "outputs": [
    {
     "name": "stdout",
     "output_type": "stream",
     "text": [
      "Epoch 1/5\n",
      "730/730 [==============================] - ETA: 0s - loss: 0.8327 - accuracy: 0.6289\n",
      "Epoch 00001: val_accuracy improved from -inf to 0.67694, saving model to my_model/model\n",
      "730/730 [==============================] - 473s 583ms/step - loss: 0.8327 - accuracy: 0.6289 - val_loss: 0.7612 - val_accuracy: 0.6769\n",
      "Epoch 2/5\n",
      "730/730 [==============================] - ETA: 0s - loss: 0.6636 - accuracy: 0.7297\n",
      "Epoch 00002: val_accuracy improved from 0.67694 to 0.74435, saving model to my_model/model\n",
      "730/730 [==============================] - 374s 511ms/step - loss: 0.6636 - accuracy: 0.7297 - val_loss: 0.6350 - val_accuracy: 0.7443\n",
      "Epoch 3/5\n",
      "730/730 [==============================] - ETA: 0s - loss: 0.5506 - accuracy: 0.7838\n",
      "Epoch 00003: val_accuracy improved from 0.74435 to 0.75956, saving model to my_model/model\n",
      "730/730 [==============================] - 374s 511ms/step - loss: 0.5506 - accuracy: 0.7838 - val_loss: 0.6001 - val_accuracy: 0.7596\n",
      "Epoch 4/5\n",
      "730/730 [==============================] - ETA: 0s - loss: 0.4734 - accuracy: 0.8175\n",
      "Epoch 00004: val_accuracy improved from 0.75956 to 0.79778, saving model to my_model/model\n",
      "730/730 [==============================] - 377s 516ms/step - loss: 0.4734 - accuracy: 0.8175 - val_loss: 0.5167 - val_accuracy: 0.7978\n",
      "Epoch 5/5\n",
      "730/730 [==============================] - ETA: 0s - loss: 0.3942 - accuracy: 0.8492\n",
      "Epoch 00005: val_accuracy improved from 0.79778 to 0.81176, saving model to my_model/model\n",
      "730/730 [==============================] - 374s 512ms/step - loss: 0.3942 - accuracy: 0.8492 - val_loss: 0.4768 - val_accuracy: 0.8118\n"
     ]
    }
   ],
   "source": [
    "epochs = 5\n",
    "\n",
    "history = model.fit(dataset_train, batch_size=batch_size, epochs=epochs, validation_data=dataset_val, callbacks=[model_checkpoint])"
   ]
  },
  {
   "cell_type": "code",
   "execution_count": 97,
   "id": "9b53cffe",
   "metadata": {},
   "outputs": [],
   "source": [
    "import matplotlib.pyplot as plt"
   ]
  },
  {
   "cell_type": "code",
   "execution_count": 98,
   "id": "a9bc3486",
   "metadata": {},
   "outputs": [],
   "source": [
    "def show_results(log):\n",
    "  val_loss = log.history['val_loss']\n",
    "  val_acc = log.history['val_accuracy']\n",
    "      \n",
    "  fig, axes = plt.subplots(1, 2, figsize=(14,4))\n",
    "  ax1, ax2 = axes\n",
    "  ax1.plot(log.history['loss'], label='train')\n",
    "  ax1.plot(val_loss, label='test')\n",
    "  ax1.set_xlabel('epoch'); ax1.set_ylabel('loss')\n",
    "  ax2.plot(log.history['accuracy'], label='train')\n",
    "  ax2.plot(val_acc, label='test')\n",
    "  ax2.set_xlabel('epoch'); ax2.set_ylabel('accuracy')\n",
    "  for ax in axes: ax.legend()"
   ]
  },
  {
   "cell_type": "code",
   "execution_count": 99,
   "id": "4be26803",
   "metadata": {},
   "outputs": [
    {
     "data": {
      "image/png": "[encoded data removed]",
      "text/plain": [
       "<Figure size 1008x288 with 2 Axes>"
      ]
     },
     "metadata": {
      "needs_background": "light"
     },
     "output_type": "display_data"
    }
   ],
   "source": [
    "show_results(history)"
   ]
  },
  {
   "cell_type": "code",
   "execution_count": 100,
   "id": "1ad1956e",
   "metadata": {},
   "outputs": [],
   "source": [
    "model = create_model()\n",
    "\n",
    "model.compile(optimizer=SGD(learning_rate=lr, momentum=momentum), loss='sparse_categorical_crossentropy', metrics=['accuracy'])"
   ]
  },
  {
   "cell_type": "code",
   "execution_count": 101,
   "id": "b86b0435",
   "metadata": {},
   "outputs": [
    {
     "data": {
      "text/plain": [
       "<tensorflow.python.training.tracking.util.CheckpointLoadStatus at 0x7f3d2c41c0a0>"
      ]
     },
     "execution_count": 101,
     "metadata": {},
     "output_type": "execute_result"
    }
   ],
   "source": [
    "model.load_weights(checkpoint_path)"
   ]
  },
  {
   "cell_type": "code",
   "execution_count": 102,
   "id": "50daf5cf",
   "metadata": {},
   "outputs": [],
   "source": [
    "from tensorflow.keras.callbacks import ModelCheckpoint\n",
    "\n",
    "checkpoint_path = \"my_model/model\"\n",
    "\n",
    "monitor = \"val_accuracy\"\n",
    "\n",
    "mode = \"max\"\n",
    "\n",
    "model_checkpoint = ModelCheckpoint(checkpoint_path, monitor=monitor, verbose=1, save_best_only=True, save_weights_only=True, mode=mode)"
   ]
  },
  {
   "cell_type": "code",
   "execution_count": 104,
   "id": "6ab26e66",
   "metadata": {},
   "outputs": [
    {
     "name": "stdout",
     "output_type": "stream",
     "text": [
      "Epoch 1/20\n",
      "730/730 [==============================] - ETA: 0s - loss: 0.3180 - accuracy: 0.8792\n",
      "Epoch 00001: val_accuracy improved from -inf to 0.81587, saving model to my_model/model\n",
      "730/730 [==============================] - 388s 524ms/step - loss: 0.3180 - accuracy: 0.8792 - val_loss: 0.4838 - val_accuracy: 0.8159\n",
      "Epoch 2/20\n",
      "730/730 [==============================] - ETA: 0s - loss: 0.2520 - accuracy: 0.9052\n",
      "Epoch 00002: val_accuracy did not improve from 0.81587\n",
      "730/730 [==============================] - 414s 558ms/step - loss: 0.2520 - accuracy: 0.9052 - val_loss: 0.5711 - val_accuracy: 0.8048\n",
      "Epoch 3/20\n",
      "730/730 [==============================] - ETA: 0s - loss: 0.1862 - accuracy: 0.9293\n",
      "Epoch 00003: val_accuracy did not improve from 0.81587\n",
      "730/730 [==============================] - 408s 510ms/step - loss: 0.1862 - accuracy: 0.9293 - val_loss: 0.5381 - val_accuracy: 0.8113\n",
      "Epoch 4/20\n",
      "730/730 [==============================] - ETA: 0s - loss: 0.1323 - accuracy: 0.9512\n",
      "Epoch 00004: val_accuracy improved from 0.81587 to 0.81710, saving model to my_model/model\n",
      "730/730 [==============================] - 374s 513ms/step - loss: 0.1323 - accuracy: 0.9512 - val_loss: 0.5387 - val_accuracy: 0.8171\n",
      "Epoch 5/20\n",
      "730/730 [==============================] - ETA: 0s - loss: 0.0859 - accuracy: 0.9723\n",
      "Epoch 00005: val_accuracy improved from 0.81710 to 0.83231, saving model to my_model/model\n",
      "730/730 [==============================] - 373s 511ms/step - loss: 0.0859 - accuracy: 0.9723 - val_loss: 0.6226 - val_accuracy: 0.8323\n",
      "Epoch 6/20\n",
      "730/730 [==============================] - ETA: 0s - loss: 0.0564 - accuracy: 0.9847\n",
      "Epoch 00006: val_accuracy did not improve from 0.83231\n",
      "730/730 [==============================] - 2090s 3s/step - loss: 0.0564 - accuracy: 0.9847 - val_loss: 0.7193 - val_accuracy: 0.8233\n",
      "Epoch 7/20\n",
      "730/730 [==============================] - ETA: 0s - loss: 0.0462 - accuracy: 0.9916\n",
      "Epoch 00007: val_accuracy did not improve from 0.83231\n",
      "730/730 [==============================] - 355s 487ms/step - loss: 0.0462 - accuracy: 0.9916 - val_loss: 0.6884 - val_accuracy: 0.8323\n",
      "Epoch 8/20\n",
      "730/730 [==============================] - ETA: 0s - loss: 0.0279 - accuracy: 0.9934\n",
      "Epoch 00008: val_accuracy did not improve from 0.83231\n",
      "730/730 [==============================] - 352s 482ms/step - loss: 0.0279 - accuracy: 0.9934 - val_loss: 0.7358 - val_accuracy: 0.8307\n",
      "Epoch 9/20\n",
      "730/730 [==============================] - ETA: 0s - loss: 0.0180 - accuracy: 0.9971\n",
      "Epoch 00009: val_accuracy improved from 0.83231 to 0.83518, saving model to my_model/model\n",
      "730/730 [==============================] - 370s 507ms/step - loss: 0.0180 - accuracy: 0.9971 - val_loss: 0.7701 - val_accuracy: 0.8352\n",
      "Epoch 10/20\n",
      "730/730 [==============================] - ETA: 0s - loss: 0.0114 - accuracy: 0.9984\n",
      "Epoch 00010: val_accuracy did not improve from 0.83518\n",
      "730/730 [==============================] - 359s 491ms/step - loss: 0.0114 - accuracy: 0.9984 - val_loss: 0.7759 - val_accuracy: 0.8344\n",
      "Epoch 11/20\n",
      "730/730 [==============================] - ETA: 0s - loss: 0.0087 - accuracy: 0.9982\n",
      "Epoch 00011: val_accuracy improved from 0.83518 to 0.83847, saving model to my_model/model\n",
      "730/730 [==============================] - 366s 500ms/step - loss: 0.0087 - accuracy: 0.9982 - val_loss: 0.7918 - val_accuracy: 0.8385\n",
      "Epoch 12/20\n",
      "730/730 [==============================] - ETA: 0s - loss: 0.0085 - accuracy: 0.9988\n",
      "Epoch 00012: val_accuracy did not improve from 0.83847\n",
      "730/730 [==============================] - 362s 495ms/step - loss: 0.0085 - accuracy: 0.9988 - val_loss: 0.8441 - val_accuracy: 0.8315\n",
      "Epoch 13/20\n",
      "730/730 [==============================] - ETA: 0s - loss: 0.0055 - accuracy: 0.9984\n",
      "Epoch 00013: val_accuracy did not improve from 0.83847\n",
      "730/730 [==============================] - 363s 497ms/step - loss: 0.0055 - accuracy: 0.9984 - val_loss: 0.8578 - val_accuracy: 0.8385\n",
      "Epoch 14/20\n",
      "730/730 [==============================] - ETA: 0s - loss: 0.0085 - accuracy: 0.9986\n",
      "Epoch 00014: val_accuracy did not improve from 0.83847\n",
      "730/730 [==============================] - 361s 494ms/step - loss: 0.0085 - accuracy: 0.9986 - val_loss: 0.7763 - val_accuracy: 0.8344\n",
      "Epoch 15/20\n",
      "730/730 [==============================] - ETA: 0s - loss: 0.0033 - accuracy: 0.9990\n",
      "Epoch 00015: val_accuracy did not improve from 0.83847\n",
      "730/730 [==============================] - 364s 499ms/step - loss: 0.0033 - accuracy: 0.9990 - val_loss: 0.9011 - val_accuracy: 0.8376\n",
      "Epoch 16/20\n",
      "730/730 [==============================] - ETA: 0s - loss: 0.0048 - accuracy: 0.9989\n",
      "Epoch 00016: val_accuracy did not improve from 0.83847\n",
      "730/730 [==============================] - 368s 503ms/step - loss: 0.0048 - accuracy: 0.9989 - val_loss: 0.8658 - val_accuracy: 0.8339\n",
      "Epoch 17/20\n",
      "730/730 [==============================] - ETA: 0s - loss: 0.0061 - accuracy: 0.9986\n",
      "Epoch 00017: val_accuracy did not improve from 0.83847\n",
      "730/730 [==============================] - 371s 508ms/step - loss: 0.0061 - accuracy: 0.9986 - val_loss: 0.8140 - val_accuracy: 0.8323\n",
      "Epoch 18/20\n",
      "730/730 [==============================] - ETA: 0s - loss: 0.0040 - accuracy: 0.9986\n",
      "Epoch 00018: val_accuracy did not improve from 0.83847\n",
      "730/730 [==============================] - 370s 506ms/step - loss: 0.0040 - accuracy: 0.9986 - val_loss: 0.8441 - val_accuracy: 0.8335\n",
      "Epoch 19/20\n",
      "730/730 [==============================] - ETA: 0s - loss: 0.0041 - accuracy: 0.9986\n",
      "Epoch 00019: val_accuracy did not improve from 0.83847\n",
      "730/730 [==============================] - 382s 523ms/step - loss: 0.0041 - accuracy: 0.9986 - val_loss: 0.8356 - val_accuracy: 0.8385\n",
      "Epoch 20/20\n",
      "730/730 [==============================] - ETA: 0s - loss: 0.0036 - accuracy: 0.9986\n",
      "Epoch 00020: val_accuracy did not improve from 0.83847\n",
      "730/730 [==============================] - 376s 514ms/step - loss: 0.0036 - accuracy: 0.9986 - val_loss: 0.8697 - val_accuracy: 0.8339\n"
     ]
    }
   ],
   "source": [
    "epochs = 20\n",
    "\n",
    "history = model.fit(dataset_train, batch_size=batch_size, epochs=epochs, validation_data=dataset_val, callbacks=[model_checkpoint])"
   ]
  },
  {
   "cell_type": "code",
   "execution_count": 105,
   "id": "848d7c6a",
   "metadata": {},
   "outputs": [
    {
     "data": {
      "image/png": "[encoded data removed]",
      "text/plain": [
       "<Figure size 1008x288 with 2 Axes>"
      ]
     },
     "metadata": {
      "needs_background": "light"
     },
     "output_type": "display_data"
    }
   ],
   "source": [
    "show_results(history)"
   ]
  },
  {
   "cell_type": "markdown",
   "id": "3668c7f6",
   "metadata": {},
   "source": [
    "## Metrics"
   ]
  },
  {
   "cell_type": "code",
   "execution_count": 106,
   "id": "37fc704f",
   "metadata": {},
   "outputs": [],
   "source": [
    "X_test = np.stack(df_test[\"resized\"])"
   ]
  },
  {
   "cell_type": "code",
   "execution_count": 107,
   "id": "37b337d5",
   "metadata": {},
   "outputs": [],
   "source": [
    "y_test = df_test[\"category\"].map(category_mappings)"
   ]
  },
  {
   "cell_type": "code",
   "execution_count": 108,
   "id": "c89dc88a",
   "metadata": {},
   "outputs": [
    {
     "data": {
      "text/plain": [
       "array([[[ 19,  11,   6, ..., 179, 201, 229],\n",
       "        [ 10,   3,   1, ..., 135, 165, 214],\n",
       "        [  8,   2,   0, ..., 103, 135, 190],\n",
       "        ...,\n",
       "        [  1,   1,   0, ..., 146, 168, 178],\n",
       "        [  4,   4,   3, ..., 148, 170, 179],\n",
       "        [ 10,  10,   9, ..., 150, 172, 179]],\n",
       "\n",
       "       [[141, 131, 121, ..., 232, 233, 217],\n",
       "        [ 58,  45,  35, ..., 219, 221, 206],\n",
       "        [ 13,   8,   5, ..., 205, 210, 195],\n",
       "        ...,\n",
       "        [ 28,  36,  43, ...,  65, 118, 148],\n",
       "        [ 35,  43,  50, ...,  65, 120, 151],\n",
       "        [ 43,  52,  59, ...,  64, 123, 153]],\n",
       "\n",
       "       [[ 98,  95,  95, ..., 175, 171, 155],\n",
       "        [ 99,  97, 100, ..., 173, 170, 160],\n",
       "        [ 97,  98,  99, ..., 172, 168, 159],\n",
       "        ...,\n",
       "        [173, 178, 179, ..., 162, 152, 141],\n",
       "        [179, 183, 181, ..., 163, 155, 141],\n",
       "        [184, 185, 185, ..., 159, 148, 140]],\n",
       "\n",
       "       ...,\n",
       "\n",
       "       [[  0,   0,   0, ...,   0,   0,   0],\n",
       "        [  0,   0,   0, ...,   1,   1,   2],\n",
       "        [  1,   1,   1, ...,   2,   2,   3],\n",
       "        ...,\n",
       "        [212, 212, 212, ..., 152, 139, 124],\n",
       "        [211, 211, 212, ..., 149, 135, 118],\n",
       "        [213, 214, 214, ..., 147, 130, 113]],\n",
       "\n",
       "       [[ 10,   5,   3, ...,   1,   5,   7],\n",
       "        [  8,   5,   2, ...,   1,   5,   7],\n",
       "        [  8,   5,   2, ...,   1,   4,   7],\n",
       "        ...,\n",
       "        [ 35,  26,  19, ..., 196, 136, 121],\n",
       "        [ 43,  34,  28, ..., 111, 107,  98],\n",
       "        [ 35,  27,  25, ...,  93,  99,  70]],\n",
       "\n",
       "       [[  0,   0,   0, ...,  18,  16,  11],\n",
       "        [  0,   0,   0, ...,  17,  14,  11],\n",
       "        [  0,   0,   0, ...,  16,  13,  11],\n",
       "        ...,\n",
       "        [  0,   0,   0, ...,   1,   1,   0],\n",
       "        [  0,   0,   0, ...,   0,   0,   0],\n",
       "        [  0,   0,   0, ...,   0,   0,   0]]], dtype=uint8)"
      ]
     },
     "execution_count": 108,
     "metadata": {},
     "output_type": "execute_result"
    }
   ],
   "source": [
    "X_test"
   ]
  },
  {
   "cell_type": "code",
   "execution_count": 109,
   "id": "43fb1cfb",
   "metadata": {},
   "outputs": [
    {
     "data": {
      "text/plain": [
       "0       0\n",
       "1       1\n",
       "2       2\n",
       "3       2\n",
       "4       2\n",
       "       ..\n",
       "2428    2\n",
       "2429    0\n",
       "2430    2\n",
       "2431    2\n",
       "2432    1\n",
       "Name: category, Length: 2433, dtype: int64"
      ]
     },
     "execution_count": 109,
     "metadata": {},
     "output_type": "execute_result"
    }
   ],
   "source": [
    "y_test"
   ]
  },
  {
   "cell_type": "code",
   "execution_count": 110,
   "id": "546ee7d1",
   "metadata": {},
   "outputs": [],
   "source": [
    "y_pred = model.predict(X_test)"
   ]
  },
  {
   "cell_type": "code",
   "execution_count": 111,
   "id": "f6311026",
   "metadata": {},
   "outputs": [
    {
     "data": {
      "text/plain": [
       "(2433, 3)"
      ]
     },
     "execution_count": 111,
     "metadata": {},
     "output_type": "execute_result"
    }
   ],
   "source": [
    "y_pred.shape"
   ]
  },
  {
   "cell_type": "code",
   "execution_count": 112,
   "id": "bf0d28de",
   "metadata": {},
   "outputs": [],
   "source": [
    "y_pred_classes = np.argmax(y_pred, axis = 1)"
   ]
  },
  {
   "cell_type": "code",
   "execution_count": 113,
   "id": "9be8e1bb",
   "metadata": {},
   "outputs": [
    {
     "data": {
      "text/plain": [
       "array([0, 1, 2, ..., 2, 2, 1])"
      ]
     },
     "execution_count": 113,
     "metadata": {},
     "output_type": "execute_result"
    }
   ],
   "source": [
    "y_pred_classes"
   ]
  },
  {
   "cell_type": "code",
   "execution_count": 114,
   "id": "f4ad529d",
   "metadata": {},
   "outputs": [],
   "source": [
    "from sklearn.metrics import confusion_matrix"
   ]
  },
  {
   "cell_type": "code",
   "execution_count": 115,
   "id": "9130a1ab",
   "metadata": {},
   "outputs": [],
   "source": [
    "matrix = confusion_matrix(y_test, y_pred_classes)"
   ]
  },
  {
   "cell_type": "code",
   "execution_count": 116,
   "id": "d51754eb",
   "metadata": {},
   "outputs": [
    {
     "data": {
      "text/plain": [
       "array([[663,  92,  56],\n",
       "       [104, 637,  70],\n",
       "       [ 31,  37, 743]])"
      ]
     },
     "execution_count": 116,
     "metadata": {},
     "output_type": "execute_result"
    }
   ],
   "source": [
    "matrix"
   ]
  },
  {
   "cell_type": "code",
   "execution_count": 117,
   "id": "41696f63",
   "metadata": {},
   "outputs": [],
   "source": [
    "from sklearn.metrics import accuracy_score, roc_curve, roc_auc_score, confusion_matrix, classification_report"
   ]
  },
  {
   "cell_type": "code",
   "execution_count": 118,
   "id": "b1ea848a",
   "metadata": {},
   "outputs": [],
   "source": [
    "from sklearn.metrics import ConfusionMatrixDisplay\n",
    "import matplotlib.pyplot as plt"
   ]
  },
  {
   "cell_type": "code",
   "execution_count": 119,
   "id": "143857d9",
   "metadata": {},
   "outputs": [
    {
     "data": {
      "text/plain": [
       "<sklearn.metrics._plot.confusion_matrix.ConfusionMatrixDisplay at 0x7f3d2c0f9250>"
      ]
     },
     "execution_count": 119,
     "metadata": {},
     "output_type": "execute_result"
    },
    {
     "data": {
      "image/png": "[encoded data removed]",
      "text/plain": [
       "<Figure size 432x288 with 2 Axes>"
      ]
     },
     "metadata": {
      "needs_background": "light"
     },
     "output_type": "display_data"
    }
   ],
   "source": [
    "#requires scikit-learn 1.0\n",
    "#otherwise use plot_confusion_matrix\n",
    "ConfusionMatrixDisplay.from_predictions(y_test, y_pred_classes, cmap=plt.cm.Blues)"
   ]
  },
  {
   "cell_type": "code",
   "execution_count": 120,
   "id": "ef55753e",
   "metadata": {},
   "outputs": [
    {
     "name": "stdout",
     "output_type": "stream",
     "text": [
      "[[663.  92.  56.]\n",
      " [104. 637.  70.]\n",
      " [ 31.  37. 743.]]\n"
     ]
    },
    {
     "data": {
      "text/plain": [
       "[0.8175092478421702, 0.7854500616522812, 0.9161528976572133]"
      ]
     },
     "execution_count": 120,
     "metadata": {},
     "output_type": "execute_result"
    }
   ],
   "source": [
    "matrix = confusion_matrix(y_test, y_pred_classes)\n",
    "matrix = matrix.astype('float')\n",
    "print(matrix)\n",
    "\n",
    "class_acc = [matrix[i,i]/np.sum(matrix[i,:]) if np.sum(matrix[i,:]) else 0 for i in range(len(matrix))]\n",
    "class_acc"
   ]
  },
  {
   "cell_type": "code",
   "execution_count": null,
   "id": "1d99c54e",
   "metadata": {},
   "outputs": [],
   "source": []
  }
 ],
 "metadata": {
  "kernelspec": {
   "display_name": "Python 3 (ipykernel)",
   "language": "python",
   "name": "python3"
  },
  "language_info": {
   "codemirror_mode": {
    "name": "ipython",
    "version": 3
   },
   "file_extension": ".py",
   "mimetype": "text/x-python",
   "name": "python",
   "nbconvert_exporter": "python",
   "pygments_lexer": "ipython3",
   "version": "3.9.7"
  }
 },
 "nbformat": 4,
 "nbformat_minor": 5
}
