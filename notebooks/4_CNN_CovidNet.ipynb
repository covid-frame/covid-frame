{
 "cells": [
  {
   "cell_type": "code",
   "execution_count": 1,
   "id": "520c1532",
   "metadata": {},
   "outputs": [],
   "source": [
    "%load_ext autoreload\n",
    "%autoreload 2"
   ]
  },
  {
   "cell_type": "code",
   "execution_count": 2,
   "id": "55bc467f",
   "metadata": {},
   "outputs": [],
   "source": [
    "BASE_PATH=\"/home/ubuntu/dataset-xray\""
   ]
  },
  {
   "cell_type": "code",
   "execution_count": 3,
   "id": "ecd8c41e",
   "metadata": {},
   "outputs": [],
   "source": [
    "from pathlib import Path\n",
    "from covidframe.tools.load import load_database_from_hdf"
   ]
  },
  {
   "cell_type": "code",
   "execution_count": 4,
   "id": "e7ae6238",
   "metadata": {},
   "outputs": [],
   "source": [
    "base_dir = Path(BASE_PATH)\n",
    "DEFAULT_DATABASE_NAME_TRAIN = \"database_balanced_train.h5\"\n",
    "DEFAULT_DATABASE_NAME_TEST = \"database_balanced_test.h5\""
   ]
  },
  {
   "cell_type": "code",
   "execution_count": 5,
   "id": "07763d47",
   "metadata": {},
   "outputs": [],
   "source": [
    "df_train = load_database_from_hdf(filename= base_dir / DEFAULT_DATABASE_NAME_TRAIN)\n",
    "df_test = load_database_from_hdf(filename= base_dir / DEFAULT_DATABASE_NAME_TEST)"
   ]
  },
  {
   "cell_type": "code",
   "execution_count": 6,
   "id": "6dc61b32",
   "metadata": {},
   "outputs": [],
   "source": [
    "category_mappings = {\n",
    "    \"normal\":0,\n",
    "    \"pneumonia\":1,\n",
    "    \"covid-19\":2\n",
    "}"
   ]
  },
  {
   "cell_type": "code",
   "execution_count": 7,
   "id": "56afbedf",
   "metadata": {},
   "outputs": [],
   "source": [
    "import numpy as np"
   ]
  },
  {
   "cell_type": "code",
   "execution_count": 8,
   "id": "8ea188c3",
   "metadata": {},
   "outputs": [
    {
     "name": "stdout",
     "output_type": "stream",
     "text": [
      "WARNING:tensorflow:From /home/ubuntu/anaconda3/envs/tensorflow_p37/cpu/lib/python3.7/site-packages/tensorflow_core/__init__.py:1473: The name tf.estimator.inputs is deprecated. Please use tf.compat.v1.estimator.inputs instead.\n",
      "\n"
     ]
    }
   ],
   "source": [
    "import tensorflow as tf"
   ]
  },
  {
   "cell_type": "code",
   "execution_count": 9,
   "id": "d93d2f6d",
   "metadata": {},
   "outputs": [],
   "source": [
    "import tensorflow.compat.v1 as tf1"
   ]
  },
  {
   "cell_type": "code",
   "execution_count": 10,
   "id": "3070c4df",
   "metadata": {},
   "outputs": [],
   "source": [
    "model_dir=Path(\"/home/ubuntu/COVID-Net/models/COVIDNet-CXR4-C\")\n",
    "meta_name=\"model.meta\"\n",
    "ckpt_name=\"model-3090\""
   ]
  },
  {
   "cell_type": "code",
   "execution_count": null,
   "id": "62d98d8b",
   "metadata": {},
   "outputs": [],
   "source": [
    "#tf1.Session().close()\n",
    "#doesn't work eager mode\n",
    "def covidnet_wrapper():\n",
    "  # Any graph-building code is allowed here.\n",
    "  tf1.train.import_meta_graph(model_dir / meta_name)\n",
    "\n",
    "x = import_graph.get_tensor_by_name('input_2:0')\n",
    "y = import_graph.get_tensor_by_name('softmax/Softmax:0')\n",
    "\n",
    "# Creates a tf.function with all the imported elements in the function graph.\n",
    "wrapped_import = tf1.wrap_function(covidnet_wrapper, [])\n",
    "import_graph = wrapped_import.graph\n",
    "\n",
    "# Restore the variable values.\n",
    "tf1.train.Saver(wrapped_import.variables).restore(\n",
    "    sess=None, save_path= str(model_dir / ckpt_name))\n",
    "\n",
    "covid_fn = wrapped_import.prune(feeds=x, fetches=y)"
   ]
  },
  {
   "cell_type": "code",
   "execution_count": 11,
   "id": "a7dd1130",
   "metadata": {},
   "outputs": [],
   "source": [
    "X_test = np.stack(df_test[\"resized\"])"
   ]
  },
  {
   "cell_type": "code",
   "execution_count": 12,
   "id": "e71cafd6",
   "metadata": {},
   "outputs": [],
   "source": [
    "df_test[\"resized_3d\"] = df_test[\"resized\"].apply(lambda x: np.tile(x[...,None],3))"
   ]
  },
  {
   "cell_type": "code",
   "execution_count": 13,
   "id": "f37c6420",
   "metadata": {},
   "outputs": [],
   "source": [
    "from covidframe.tools.image import resize_image"
   ]
  },
  {
   "cell_type": "code",
   "execution_count": 14,
   "id": "755267ea",
   "metadata": {},
   "outputs": [],
   "source": [
    "df_test[\"resized_covidnet\"] = df_test[\"resized_3d\"].apply(lambda x: resize_image(x,(480,480)))"
   ]
  },
  {
   "cell_type": "code",
   "execution_count": 15,
   "id": "bd8c6b99",
   "metadata": {},
   "outputs": [],
   "source": [
    "X_test_cov = np.stack(df_test[\"resized_covidnet\"])"
   ]
  },
  {
   "cell_type": "code",
   "execution_count": 16,
   "id": "20bd6ff3",
   "metadata": {},
   "outputs": [
    {
     "data": {
      "text/plain": [
       "(2433, 480, 480, 3)"
      ]
     },
     "execution_count": 16,
     "metadata": {},
     "output_type": "execute_result"
    }
   ],
   "source": [
    "X_test_cov.shape"
   ]
  },
  {
   "cell_type": "code",
   "execution_count": 39,
   "id": "2004e346",
   "metadata": {},
   "outputs": [],
   "source": [
    "## For covid net requires medusa backbone image input\n",
    "df_test[\"resized_covidnet_medusa\"] = df_test[\"resized\"].apply(lambda x: resize_image(x,(256,256)))\n",
    "df_test[\"resized_covidnet_medusa\"] = df_test[\"resized_covidnet_medusa\"].apply(lambda x: x.astype(\"float64\"))\n",
    "df_test[\"resized_covidnet_medusa\"] = df_test[\"resized_covidnet_medusa\"].apply(lambda x: x- x.mean())\n",
    "df_test[\"resized_covidnet_medusa\"] = df_test[\"resized_covidnet_medusa\"].apply(lambda x: x / x.std())\n",
    "df_test[\"resized_covidnet_medusa\"] = df_test[\"resized_covidnet_medusa\"].apply(lambda x: np.expand_dims(x,-1))"
   ]
  },
  {
   "cell_type": "code",
   "execution_count": 40,
   "id": "42be2469",
   "metadata": {},
   "outputs": [],
   "source": [
    "X_test_cov_medusa = np.stack(df_test[\"resized_covidnet_medusa\"])"
   ]
  },
  {
   "cell_type": "code",
   "execution_count": 42,
   "id": "62f38f04",
   "metadata": {},
   "outputs": [
    {
     "data": {
      "text/plain": [
       "(5, 256, 256, 1)"
      ]
     },
     "execution_count": 42,
     "metadata": {},
     "output_type": "execute_result"
    }
   ],
   "source": [
    "X_test_cov_medusa[:5].shape"
   ]
  },
  {
   "cell_type": "code",
   "execution_count": 45,
   "id": "91802cb8",
   "metadata": {},
   "outputs": [
    {
     "data": {
      "text/plain": [
       "(5, 480, 480, 3)"
      ]
     },
     "execution_count": 45,
     "metadata": {},
     "output_type": "execute_result"
    }
   ],
   "source": [
    "X_test_cov[:5].shape"
   ]
  },
  {
   "cell_type": "code",
   "execution_count": 17,
   "id": "joined-prime",
   "metadata": {},
   "outputs": [],
   "source": [
    "import matplotlib.pyplot as plt"
   ]
  },
  {
   "cell_type": "code",
   "execution_count": 18,
   "id": "august-prompt",
   "metadata": {},
   "outputs": [
    {
     "data": {
      "text/plain": [
       "<matplotlib.image.AxesImage at 0x7efe0b17e290>"
      ]
     },
     "execution_count": 18,
     "metadata": {},
     "output_type": "execute_result"
    },
    {
     "data": {
      "image/png": "[encoded data removed]",
      "text/plain": [
       "<Figure size 432x288 with 1 Axes>"
      ]
     },
     "metadata": {
      "needs_background": "light"
     },
     "output_type": "display_data"
    }
   ],
   "source": [
    "plt.imshow(X_test_cov[0])"
   ]
  },
  {
   "cell_type": "code",
   "execution_count": 19,
   "id": "tired-rocket",
   "metadata": {},
   "outputs": [
    {
     "data": {
      "text/plain": [
       "array([[[0.0745098 , 0.0745098 , 0.0745098 ],\n",
       "        [0.05882353, 0.05882353, 0.05882353],\n",
       "        [0.04313725, 0.04313725, 0.04313725],\n",
       "        ...,\n",
       "        [0.78431373, 0.78431373, 0.78431373],\n",
       "        [0.85098039, 0.85098039, 0.85098039],\n",
       "        [0.89803922, 0.89803922, 0.89803922]],\n",
       "\n",
       "       [[0.05882353, 0.05882353, 0.05882353],\n",
       "        [0.04705882, 0.04705882, 0.04705882],\n",
       "        [0.02745098, 0.02745098, 0.02745098],\n",
       "        ...,\n",
       "        [0.72156863, 0.72156863, 0.72156863],\n",
       "        [0.80784314, 0.80784314, 0.80784314],\n",
       "        [0.87058824, 0.87058824, 0.87058824]],\n",
       "\n",
       "       [[0.03921569, 0.03921569, 0.03921569],\n",
       "        [0.02745098, 0.02745098, 0.02745098],\n",
       "        [0.01176471, 0.01176471, 0.01176471],\n",
       "        ...,\n",
       "        [0.63137255, 0.63137255, 0.63137255],\n",
       "        [0.74901961, 0.74901961, 0.74901961],\n",
       "        [0.83529412, 0.83529412, 0.83529412]],\n",
       "\n",
       "       ...,\n",
       "\n",
       "       [[0.01568627, 0.01568627, 0.01568627],\n",
       "        [0.01568627, 0.01568627, 0.01568627],\n",
       "        [0.01568627, 0.01568627, 0.01568627],\n",
       "        ...,\n",
       "        [0.6627451 , 0.6627451 , 0.6627451 ],\n",
       "        [0.68627451, 0.68627451, 0.68627451],\n",
       "        [0.70196078, 0.70196078, 0.70196078]],\n",
       "\n",
       "       [[0.02745098, 0.02745098, 0.02745098],\n",
       "        [0.02745098, 0.02745098, 0.02745098],\n",
       "        [0.02745098, 0.02745098, 0.02745098],\n",
       "        ...,\n",
       "        [0.66666667, 0.66666667, 0.66666667],\n",
       "        [0.68627451, 0.68627451, 0.68627451],\n",
       "        [0.70196078, 0.70196078, 0.70196078]],\n",
       "\n",
       "       [[0.03921569, 0.03921569, 0.03921569],\n",
       "        [0.03921569, 0.03921569, 0.03921569],\n",
       "        [0.03921569, 0.03921569, 0.03921569],\n",
       "        ...,\n",
       "        [0.67058824, 0.67058824, 0.67058824],\n",
       "        [0.69019608, 0.69019608, 0.69019608],\n",
       "        [0.70196078, 0.70196078, 0.70196078]]])"
      ]
     },
     "execution_count": 19,
     "metadata": {},
     "output_type": "execute_result"
    }
   ],
   "source": [
    "X_test_cov[0]/255"
   ]
  },
  {
   "cell_type": "code",
   "execution_count": 20,
   "id": "bd0c8fca",
   "metadata": {},
   "outputs": [
    {
     "name": "stdout",
     "output_type": "stream",
     "text": [
      "INFO:tensorflow:Restoring parameters from /home/ubuntu/COVID-Net/models/COVIDNet-CXR4-C/model-3090\n"
     ]
    }
   ],
   "source": [
    "pred = []\n",
    "with tf.Graph().as_default() as g:\n",
    "    meta = tf1.train.import_meta_graph(str(model_dir / meta_name))\n",
    "    x = g.get_tensor_by_name('input_1:0')\n",
    "    y = g.get_tensor_by_name('norm_dense_1/Softmax:0')\n",
    "    with tf1.Session() as sess:\n",
    "        meta.restore(sess, str(model_dir / ckpt_name))\n",
    "        for x_element in X_test_cov:\n",
    "            pred.append(np.array(sess.run(y, feed_dict={x: np.expand_dims(x_element.astype('float32')/255, axis=0)})).argmax(axis=1))"
   ]
  },
  {
   "cell_type": "code",
   "execution_count": 24,
   "id": "incredible-coordinator",
   "metadata": {},
   "outputs": [
    {
     "data": {
      "text/plain": [
       "array([[0],\n",
       "       [1],\n",
       "       [2],\n",
       "       ...,\n",
       "       [2],\n",
       "       [1],\n",
       "       [2]])"
      ]
     },
     "execution_count": 24,
     "metadata": {},
     "output_type": "execute_result"
    }
   ],
   "source": [
    "pred = np.array(pred)\n",
    "pred"
   ]
  },
  {
   "cell_type": "code",
   "execution_count": 25,
   "id": "subject-interpretation",
   "metadata": {},
   "outputs": [],
   "source": [
    "y_test = df_test[\"category\"].map(category_mappings)"
   ]
  },
  {
   "cell_type": "code",
   "execution_count": 26,
   "id": "decent-sampling",
   "metadata": {},
   "outputs": [],
   "source": [
    "from sklearn.metrics import accuracy_score, roc_curve, roc_auc_score, confusion_matrix, classification_report"
   ]
  },
  {
   "cell_type": "code",
   "execution_count": 46,
   "id": "coastal-concord",
   "metadata": {},
   "outputs": [
    {
     "name": "stdout",
     "output_type": "stream",
     "text": [
      "[[674  23 114]\n",
      " [ 67 598 146]\n",
      " [206 269 336]]\n"
     ]
    }
   ],
   "source": [
    "matrix = confusion_matrix(y_test, pred.ravel())\n",
    "matrix = matrix.astype('int')\n",
    "print(matrix)"
   ]
  },
  {
   "cell_type": "code",
   "execution_count": 47,
   "id": "generous-correspondence",
   "metadata": {},
   "outputs": [],
   "source": [
    "import seaborn as sns"
   ]
  },
  {
   "cell_type": "code",
   "execution_count": 48,
   "id": "wrong-tongue",
   "metadata": {},
   "outputs": [
    {
     "data": {
      "text/plain": [
       "[Text(33.0, 0.5, 'True-label'), Text(0.5, 15.0, 'Predicted-label')]"
      ]
     },
     "execution_count": 48,
     "metadata": {},
     "output_type": "execute_result"
    },
    {
     "data": {
      "image/png": "[encoded data removed]",
      "text/plain": [
       "<Figure size 432x288 with 2 Axes>"
      ]
     },
     "metadata": {
      "needs_background": "light"
     },
     "output_type": "display_data"
    }
   ],
   "source": [
    "f = sns.heatmap(matrix, annot=True, fmt='d', cmap=\"Blues\")\n",
    "f.set(xlabel='Predicted-label', ylabel='True-label')"
   ]
  },
  {
   "cell_type": "code",
   "execution_count": 34,
   "id": "moved-subcommittee",
   "metadata": {},
   "outputs": [
    {
     "data": {
      "text/plain": [
       "0       [[[19, 19, 19], [15, 15, 15], [11, 11, 11], [7...\n",
       "1       [[[141, 141, 141], [137, 137, 137], [130, 130,...\n",
       "2       [[[98, 98, 98], [96, 96, 96], [95, 95, 95], [9...\n",
       "3       [[[15, 15, 15], [14, 14, 14], [14, 14, 14], [1...\n",
       "4       [[[110, 110, 110], [106, 106, 106], [101, 101,...\n",
       "                              ...                        \n",
       "2428    [[[179, 179, 179], [182, 182, 182], [186, 186,...\n",
       "2429    [[[206, 206, 206], [204, 204, 204], [201, 201,...\n",
       "2430    [[[0, 0, 0], [0, 0, 0], [0, 0, 0], [0, 0, 0], ...\n",
       "2431    [[[10, 10, 10], [8, 8, 8], [5, 5, 5], [3, 3, 3...\n",
       "2432    [[[0, 0, 0], [0, 0, 0], [0, 0, 0], [0, 0, 0], ...\n",
       "Name: resized_covidnet, Length: 2433, dtype: object"
      ]
     },
     "execution_count": 34,
     "metadata": {},
     "output_type": "execute_result"
    }
   ],
   "source": [
    "df_test[\"resized_covidnet\"]"
   ]
  },
  {
   "cell_type": "code",
   "execution_count": 35,
   "id": "official-employee",
   "metadata": {},
   "outputs": [],
   "source": [
    "from covidframe.preprocess.equalization import apply_equalization"
   ]
  },
  {
   "cell_type": "code",
   "execution_count": 37,
   "id": "casual-outside",
   "metadata": {},
   "outputs": [],
   "source": [
    "X_eq_simple = df_test[\"resized\"].apply(lambda x: apply_equalization(x,\"simple\"))"
   ]
  },
  {
   "cell_type": "code",
   "execution_count": 38,
   "id": "difficult-activation",
   "metadata": {},
   "outputs": [],
   "source": [
    "X_eq_simple = X_eq_simple.apply(lambda x: np.tile(x[...,None],3)).apply(lambda x: resize_image(x,(480,480)))"
   ]
  },
  {
   "cell_type": "code",
   "execution_count": 39,
   "id": "handmade-membership",
   "metadata": {},
   "outputs": [
    {
     "data": {
      "text/plain": [
       "(2433,)"
      ]
     },
     "execution_count": 39,
     "metadata": {},
     "output_type": "execute_result"
    }
   ],
   "source": [
    "X_eq_simple.shape"
   ]
  },
  {
   "cell_type": "code",
   "execution_count": 40,
   "id": "identified-community",
   "metadata": {},
   "outputs": [],
   "source": [
    "X_eq_simple = np.stack(X_eq_simple)"
   ]
  },
  {
   "cell_type": "code",
   "execution_count": 41,
   "id": "opened-rubber",
   "metadata": {},
   "outputs": [
    {
     "data": {
      "text/plain": [
       "(2433, 480, 480, 3)"
      ]
     },
     "execution_count": 41,
     "metadata": {},
     "output_type": "execute_result"
    }
   ],
   "source": [
    "X_eq_simple.shape"
   ]
  },
  {
   "cell_type": "code",
   "execution_count": 42,
   "id": "framed-custody",
   "metadata": {},
   "outputs": [
    {
     "name": "stdout",
     "output_type": "stream",
     "text": [
      "INFO:tensorflow:Restoring parameters from /home/ubuntu/COVID-Net/models/COVIDNet-CXR4-C/model-3090\n"
     ]
    }
   ],
   "source": [
    "pred_2 = []\n",
    "with tf.Graph().as_default() as g:\n",
    "    meta = tf1.train.import_meta_graph(str(model_dir / meta_name))\n",
    "    x = g.get_tensor_by_name('input_1:0')\n",
    "    y = g.get_tensor_by_name('norm_dense_1/Softmax:0')\n",
    "    with tf1.Session() as sess:\n",
    "        meta.restore(sess, str(model_dir / ckpt_name))\n",
    "        for x_element in X_eq_simple:\n",
    "            pred_2.append(np.array(sess.run(y, feed_dict={x: np.expand_dims(x_element.astype('float32')/255, axis=0)})).argmax(axis=1))"
   ]
  },
  {
   "cell_type": "code",
   "execution_count": 49,
   "id": "rotary-harbor",
   "metadata": {},
   "outputs": [
    {
     "name": "stdout",
     "output_type": "stream",
     "text": [
      "[[674  23 114]\n",
      " [ 67 598 146]\n",
      " [206 269 336]]\n"
     ]
    }
   ],
   "source": [
    "matrix2 = confusion_matrix(y_test, np.array(pred_2).ravel())\n",
    "matrix2 = matrix2.astype('int')\n",
    "print(matrix)"
   ]
  },
  {
   "cell_type": "code",
   "execution_count": 50,
   "id": "scientific-period",
   "metadata": {},
   "outputs": [
    {
     "data": {
      "text/plain": [
       "[Text(33.0, 0.5, 'True-label'), Text(0.5, 15.0, 'Predicted-label')]"
      ]
     },
     "execution_count": 50,
     "metadata": {},
     "output_type": "execute_result"
    },
    {
     "data": {
      "image/png": "[encoded data removed]",
      "text/plain": [
       "<Figure size 432x288 with 2 Axes>"
      ]
     },
     "metadata": {
      "needs_background": "light"
     },
     "output_type": "display_data"
    }
   ],
   "source": [
    "f = sns.heatmap(matrix2, annot=True, fmt='d', cmap=\"Blues\")\n",
    "f.set(xlabel='Predicted-label', ylabel='True-label')"
   ]
  },
  {
   "cell_type": "code",
   "execution_count": 51,
   "id": "approved-reminder",
   "metadata": {},
   "outputs": [],
   "source": [
    "X_eq_clahe = df_test[\"resized\"].apply(lambda x: apply_equalization(x))"
   ]
  },
  {
   "cell_type": "code",
   "execution_count": 52,
   "id": "raising-genius",
   "metadata": {},
   "outputs": [],
   "source": [
    "X_eq_clahe = X_eq_clahe.apply(lambda x: np.tile(x[...,None],3)).apply(lambda x: resize_image(x,(480,480)))"
   ]
  },
  {
   "cell_type": "code",
   "execution_count": 53,
   "id": "weird-sussex",
   "metadata": {},
   "outputs": [],
   "source": [
    "X_eq_clahe = np.stack(X_eq_clahe)"
   ]
  },
  {
   "cell_type": "code",
   "execution_count": 54,
   "id": "obvious-tobago",
   "metadata": {},
   "outputs": [
    {
     "name": "stdout",
     "output_type": "stream",
     "text": [
      "INFO:tensorflow:Restoring parameters from /home/ubuntu/COVID-Net/models/COVIDNet-CXR4-C/model-3090\n"
     ]
    }
   ],
   "source": [
    "pred_3 = []\n",
    "with tf.Graph().as_default() as g:\n",
    "    meta = tf1.train.import_meta_graph(str(model_dir / meta_name))\n",
    "    x = g.get_tensor_by_name('input_1:0')\n",
    "    y = g.get_tensor_by_name('norm_dense_1/Softmax:0')\n",
    "    with tf1.Session() as sess:\n",
    "        meta.restore(sess, str(model_dir / ckpt_name))\n",
    "        for x_element in X_eq_clahe:\n",
    "            pred_3.append(np.array(sess.run(y, feed_dict={x: np.expand_dims(x_element.astype('float32')/255, axis=0)})).argmax(axis=1))"
   ]
  },
  {
   "cell_type": "code",
   "execution_count": 55,
   "id": "flush-citation",
   "metadata": {},
   "outputs": [
    {
     "name": "stdout",
     "output_type": "stream",
     "text": [
      "[[674  23 114]\n",
      " [ 67 598 146]\n",
      " [206 269 336]]\n"
     ]
    }
   ],
   "source": [
    "matrix3 = confusion_matrix(y_test, np.array(pred_3).ravel())\n",
    "matrix3 = matrix3.astype('int')\n",
    "print(matrix)"
   ]
  },
  {
   "cell_type": "code",
   "execution_count": 56,
   "id": "cultural-acrylic",
   "metadata": {},
   "outputs": [
    {
     "data": {
      "text/plain": [
       "[Text(33.0, 0.5, 'True-label'), Text(0.5, 15.0, 'Predicted-label')]"
      ]
     },
     "execution_count": 56,
     "metadata": {},
     "output_type": "execute_result"
    },
    {
     "data": {
      "image/png": "[encoded data removed]",
      "text/plain": [
       "<Figure size 432x288 with 2 Axes>"
      ]
     },
     "metadata": {
      "needs_background": "light"
     },
     "output_type": "display_data"
    }
   ],
   "source": [
    "f = sns.heatmap(matrix3, annot=True, fmt='d', cmap=\"Blues\")\n",
    "f.set(xlabel='Predicted-label', ylabel='True-label')"
   ]
  },
  {
   "cell_type": "markdown",
   "id": "90180d51",
   "metadata": {},
   "source": [
    "## Training"
   ]
  },
  {
   "cell_type": "code",
   "execution_count": 11,
   "id": "dense-feedback",
   "metadata": {},
   "outputs": [],
   "source": [
    "image_paths = df_train[\"image_path\"]"
   ]
  },
  {
   "cell_type": "code",
   "execution_count": 12,
   "id": "abroad-uganda",
   "metadata": {},
   "outputs": [
    {
     "data": {
      "text/plain": [
       "'/mnt/Archivos/dataset-xray/database_clean/COVID-19_Radiography_Dataset_COVID-2966.png'"
      ]
     },
     "execution_count": 12,
     "metadata": {},
     "output_type": "execute_result"
    }
   ],
   "source": [
    "image_paths[0]"
   ]
  },
  {
   "cell_type": "code",
   "execution_count": 13,
   "id": "identified-testimony",
   "metadata": {},
   "outputs": [],
   "source": [
    "ORIGINAL_BASE_PATH=\"/mnt/Archivos/dataset-xray\""
   ]
  },
  {
   "cell_type": "code",
   "execution_count": 14,
   "id": "according-active",
   "metadata": {},
   "outputs": [],
   "source": [
    "df_train[\"new_path\"] =  df_train[\"image_path\"].apply(lambda x: str(base_dir / Path(x).relative_to(ORIGINAL_BASE_PATH)))"
   ]
  },
  {
   "cell_type": "code",
   "execution_count": 15,
   "id": "empty-montana",
   "metadata": {},
   "outputs": [],
   "source": [
    "image_paths = df_train[\"new_path\"]"
   ]
  },
  {
   "cell_type": "code",
   "execution_count": 16,
   "id": "eleven-multimedia",
   "metadata": {},
   "outputs": [
    {
     "data": {
      "text/plain": [
       "'/home/ubuntu/dataset-xray/database_clean/COVID-19_Radiography_Dataset_COVID-2966.png'"
      ]
     },
     "execution_count": 16,
     "metadata": {},
     "output_type": "execute_result"
    }
   ],
   "source": [
    "image_paths[0]"
   ]
  },
  {
   "cell_type": "code",
   "execution_count": 22,
   "id": "funny-variation",
   "metadata": {},
   "outputs": [],
   "source": [
    "from covidframe.tools.image import to_equal_aspect_ratio, resize_image, load_image\n",
    "import numpy as np"
   ]
  },
  {
   "cell_type": "code",
   "execution_count": 23,
   "id": "rocky-webmaster",
   "metadata": {},
   "outputs": [],
   "source": [
    "def process_image_file(image_path,size=(480,480)):\n",
    "    img = load_image(str(image_path))\n",
    "    img = to_equal_aspect_ratio(img)\n",
    "    img = resize_image(img, size)\n",
    "    return np.tile(img[...,None],3)"
   ]
  },
  {
   "cell_type": "code",
   "execution_count": 24,
   "id": "incomplete-liability",
   "metadata": {},
   "outputs": [],
   "source": [
    "img = process_image_file(image_paths[0])"
   ]
  },
  {
   "cell_type": "code",
   "execution_count": 25,
   "id": "taken-master",
   "metadata": {},
   "outputs": [
    {
     "data": {
      "text/plain": [
       "(480, 480, 3)"
      ]
     },
     "execution_count": 25,
     "metadata": {},
     "output_type": "execute_result"
    }
   ],
   "source": [
    "img.shape"
   ]
  },
  {
   "cell_type": "code",
   "execution_count": 26,
   "id": "whole-projector",
   "metadata": {},
   "outputs": [],
   "source": [
    "y = df_train[\"category\"].map(category_mappings)"
   ]
  },
  {
   "cell_type": "code",
   "execution_count": 27,
   "id": "baking-alfred",
   "metadata": {},
   "outputs": [
    {
     "data": {
      "text/plain": [
       "0       2\n",
       "1       1\n",
       "2       1\n",
       "3       2\n",
       "4       2\n",
       "       ..\n",
       "9727    1\n",
       "9728    2\n",
       "9729    2\n",
       "9730    0\n",
       "9731    0\n",
       "Name: category, Length: 9732, dtype: int64"
      ]
     },
     "execution_count": 27,
     "metadata": {},
     "output_type": "execute_result"
    }
   ],
   "source": [
    "y"
   ]
  },
  {
   "cell_type": "code",
   "execution_count": 29,
   "id": "corrected-pizza",
   "metadata": {},
   "outputs": [],
   "source": [
    "import matplotlib.pyplot as plt"
   ]
  },
  {
   "cell_type": "code",
   "execution_count": 30,
   "id": "solved-lover",
   "metadata": {},
   "outputs": [
    {
     "data": {
      "text/plain": [
       "<matplotlib.image.AxesImage at 0x7f588f6e8490>"
      ]
     },
     "execution_count": 30,
     "metadata": {},
     "output_type": "execute_result"
    },
    {
     "data": {
      "image/png": "[encoded data removed]",
      "text/plain": [
       "<Figure size 432x288 with 1 Axes>"
      ]
     },
     "metadata": {
      "needs_background": "light"
     },
     "output_type": "display_data"
    }
   ],
   "source": [
    "plt.imshow(img)"
   ]
  },
  {
   "cell_type": "code",
   "execution_count": null,
   "id": "de07552f",
   "metadata": {},
   "outputs": [],
   "source": [
    "#https://cs230.stanford.edu/blog/createtrainmodel/"
   ]
  },
  {
   "cell_type": "code",
   "execution_count": 31,
   "id": "modified-cooperative",
   "metadata": {},
   "outputs": [],
   "source": [
    "class CovidDatasetSequence(tf.keras.utils.Sequence):\n",
    "    'Generates data for Keras'\n",
    "\n",
    "    def __init__(\n",
    "            self,\n",
    "            X_path,\n",
    "            y,\n",
    "            is_training=True,\n",
    "            batch_size=8,\n",
    "            medusa_input_shape=(256, 256),\n",
    "            input_shape=(480, 480),\n",
    "            n_classes=3,\n",
    "            num_channels=3,\n",
    "            mapping={\n",
    "                'negative': 0,\n",
    "                'positive': 1,\n",
    "            },\n",
    "            shuffle=True,\n",
    "            #augmentation=apply_augmentation,\n",
    "            covid_percent=0.5,\n",
    "            class_weights=[1., 1.],\n",
    "            top_percent=0.08,\n",
    "            is_severity_model=False,\n",
    "            is_medusa_backbone=False,\n",
    "    ):\n",
    "        'Initialization'\n",
    "        self.dataset = X_path\n",
    "        self.y = y\n",
    "        self.is_training = is_training\n",
    "        self.batch_size = batch_size\n",
    "        self.N = len(self.dataset)\n",
    "        self.medusa_input_shape = medusa_input_shape\n",
    "        self.input_shape = input_shape\n",
    "        self.n_classes = n_classes\n",
    "        self.num_channels = num_channels\n",
    "        self.mapping = mapping\n",
    "        self.shuffle = shuffle\n",
    "        self.covid_percent = covid_percent\n",
    "        self.class_weights = class_weights\n",
    "        self.n = 0\n",
    "        #self.augmentation = augmentation\n",
    "        self.top_percent = top_percent\n",
    "        self.is_severity_model = is_severity_model\n",
    "        self.is_medusa_backbone = is_medusa_backbone\n",
    "\n",
    "        # If using MEDUSA backbone load images without crop\n",
    "        if self.is_medusa_backbone:\n",
    "            self.load_image = partial(process_image_file, top_percent=0, crop=False)\n",
    "        else:\n",
    "            self.load_image = process_image_file\n",
    "\n",
    "        datasets = {}\n",
    "        self.keys = list(set(self.y))\n",
    "        for key in self.keys:\n",
    "            datasets[key] = []\n",
    "        \n",
    "        for path, y in zip(self.dataset, self.y):\n",
    "            datasets[y].append(path)\n",
    "        \n",
    "        self.datasets = datasets\n",
    "\n",
    "        #for l in self.dataset:\n",
    "        #    datasets[l.split()[2]].append(l)\n",
    "        \n",
    "        #if self.is_severity_model:\n",
    "        #    self.datasets = [\n",
    "        #        datasets['level2'], datasets['level1']\n",
    "        #    ]\n",
    "        #elif self.n_classes == 2:\n",
    "        #    self.datasets = [\n",
    "        #        datasets['negative'], datasets['positive']\n",
    "        #    ]\n",
    "        #elif self.n_classes == 3:\n",
    "        #    self.datasets = [\n",
    "        #        datasets['normal'] + datasets['pneumonia'],\n",
    "        #        datasets['COVID-19'],\n",
    "        #    ]\n",
    "        #else:\n",
    "        #    raise Exception('Only binary or 3 class classification currently supported.')\n",
    "        #print(len(self.datasets[0]), len(self.datasets[1]))\n",
    "\n",
    "        self.on_epoch_end()\n",
    "\n",
    "    def __next__(self):\n",
    "        # Get one batch of data\n",
    "        model_inputs = self.__getitem__(self.n)\n",
    "        # Batch index\n",
    "        self.n += 1\n",
    "\n",
    "        # If we have processed the entire dataset then\n",
    "        if self.n >= self.__len__():\n",
    "            self.on_epoch_end()\n",
    "            self.n = 0\n",
    "\n",
    "        return model_inputs\n",
    "\n",
    "    def __len__(self):\n",
    "        return int(np.ceil(len(self.dataset) / float(self.batch_size)))\n",
    "\n",
    "    def on_epoch_end(self):\n",
    "        'Updates indexes after each epoch'\n",
    "        if self.shuffle == True:\n",
    "            for key in self.datasets:\n",
    "                np.random.shuffle(self.datasets[key])\n",
    "\n",
    "    def __getitem__(self, idx):\n",
    "        batch_x = np.zeros((self.batch_size, *self.input_shape, self.num_channels))\n",
    "        batch_y = np.zeros(self.batch_size)\n",
    "\n",
    "        if self.is_medusa_backbone:\n",
    "            batch_sem_x = np.zeros((self.batch_size, *self.medusa_input_shape, 1))\n",
    "\n",
    "\n",
    "        acc = 0\n",
    "        batch_files = []\n",
    "        y= []\n",
    "        for i, key in enumerate(self.keys[:-1]):\n",
    "            n_size = int(self.batch_size/len(self.keys))\n",
    "            batch_files += self.datasets[key][idx * n_size:(idx + 1) * n_size]\n",
    "            y += [key]*n_size\n",
    "            acc += n_size\n",
    "        \n",
    "        n_size = self.batch_size -acc\n",
    "        batch_files += self.datasets[self.keys[-1]][idx * n_size:(idx + 1) * n_size]\n",
    "        y += [self.keys[-1]]*n_size\n",
    "\n",
    "        # upsample covid cases\n",
    "        #covid_size = max(int(len(batch_files) * self.covid_percent), 1)\n",
    "        #covid_inds = np.random.choice(np.arange(len(batch_files)),\n",
    "        #                              size=covid_size,\n",
    "        #                              replace=False)\n",
    "        #covid_files = np.random.choice(self.datasets[1],\n",
    "        #                               size=covid_size,\n",
    "        #                               replace=False)\n",
    "        #for i in range(covid_size):\n",
    "        #    batch_files[covid_inds[i]] = covid_files[i]\n",
    "\n",
    "        for i in range(len(batch_files)):\n",
    "            #sample = batch_files[i].split()\n",
    "\n",
    "            #if self.is_training:\n",
    "            #    folder = 'train'\n",
    "            #else:\n",
    "            #    folder = 'test'\n",
    "\n",
    "            image_file = str(batch_files[i])\n",
    "            x = self.load_image(\n",
    "                image_file,\n",
    "                self.input_shape\n",
    "            )\n",
    "\n",
    "            #f self.is_training and hasattr(self, 'augmentation'):\n",
    "            #   x = self.augmentation(x)\n",
    "\n",
    "            x = x.astype('float32') / 255.0\n",
    "\n",
    "            if self.is_medusa_backbone:\n",
    "                sem_x = process_image_file_medusa(image_file, self.medusa_input_shape[0])\n",
    "                batch_sem_x[i] = sem_x\n",
    "            \n",
    "            #y = self.mapping[sample[2]]\n",
    "\n",
    "            batch_x[i] = x\n",
    "            batch_y[i] = y[i]\n",
    "\n",
    "        class_weights = self.class_weights\n",
    "        weights = np.take(class_weights, batch_y.astype('int64'))\n",
    "        batch_y = tf.keras.utils.to_categorical(batch_y, num_classes=self.n_classes)\n",
    "\n",
    "        if self.is_medusa_backbone:\n",
    "            return batch_sem_x, batch_x, batch_y, weights, self.is_training\n",
    "        else:\n",
    "            return batch_x, batch_y, weights, self.is_training"
   ]
  },
  {
   "cell_type": "code",
   "execution_count": 32,
   "id": "unlikely-darwin",
   "metadata": {},
   "outputs": [],
   "source": [
    "generator = CovidDatasetSequence(\n",
    "            image_paths,\n",
    "            y,\n",
    "            is_training=True,\n",
    "            batch_size=18,\n",
    "            medusa_input_shape=(256, 256),\n",
    "            input_shape=(480, 480),\n",
    "            n_classes=3,\n",
    "            num_channels=3,\n",
    "            mapping={\n",
    "                'negative': 0,\n",
    "                'positive': 1,\n",
    "            },\n",
    "            shuffle=True,\n",
    "            #augmentation=apply_augmentation,\n",
    "            #covid_percent=0.5,\n",
    "            class_weights=[1., 1.,1.],\n",
    "            #top_percent=0.08,\n",
    "            is_severity_model=False,\n",
    "            is_medusa_backbone=False)"
   ]
  },
  {
   "cell_type": "code",
   "execution_count": 33,
   "id": "documented-county",
   "metadata": {},
   "outputs": [
    {
     "data": {
      "text/plain": [
       "541"
      ]
     },
     "execution_count": 33,
     "metadata": {},
     "output_type": "execute_result"
    }
   ],
   "source": [
    "len(generator)"
   ]
  },
  {
   "cell_type": "code",
   "execution_count": 34,
   "id": "personal-concord",
   "metadata": {},
   "outputs": [
    {
     "data": {
      "text/plain": [
       "9732"
      ]
     },
     "execution_count": 34,
     "metadata": {},
     "output_type": "execute_result"
    }
   ],
   "source": [
    "len(image_paths)"
   ]
  },
  {
   "cell_type": "code",
   "execution_count": 35,
   "id": "wired-support",
   "metadata": {},
   "outputs": [],
   "source": [
    "batch_x, batch_y, weights, is_training = next(generator)"
   ]
  },
  {
   "cell_type": "code",
   "execution_count": 36,
   "id": "compliant-spiritual",
   "metadata": {},
   "outputs": [
    {
     "data": {
      "text/plain": [
       "(18, 480, 480, 3)"
      ]
     },
     "execution_count": 36,
     "metadata": {},
     "output_type": "execute_result"
    }
   ],
   "source": [
    "batch_x.shape"
   ]
  },
  {
   "cell_type": "code",
   "execution_count": 37,
   "id": "monthly-bathroom",
   "metadata": {},
   "outputs": [
    {
     "data": {
      "text/plain": [
       "array([[1., 0., 0.],\n",
       "       [1., 0., 0.],\n",
       "       [1., 0., 0.],\n",
       "       [1., 0., 0.],\n",
       "       [1., 0., 0.],\n",
       "       [1., 0., 0.],\n",
       "       [0., 1., 0.],\n",
       "       [0., 1., 0.],\n",
       "       [0., 1., 0.],\n",
       "       [0., 1., 0.],\n",
       "       [0., 1., 0.],\n",
       "       [0., 1., 0.],\n",
       "       [0., 0., 1.],\n",
       "       [0., 0., 1.],\n",
       "       [0., 0., 1.],\n",
       "       [0., 0., 1.],\n",
       "       [0., 0., 1.],\n",
       "       [0., 0., 1.]], dtype=float32)"
      ]
     },
     "execution_count": 37,
     "metadata": {},
     "output_type": "execute_result"
    }
   ],
   "source": [
    "batch_y"
   ]
  },
  {
   "cell_type": "code",
   "execution_count": 38,
   "id": "db6da79d",
   "metadata": {},
   "outputs": [],
   "source": [
    "learning_rate=0.1"
   ]
  },
  {
   "cell_type": "code",
   "execution_count": 46,
   "id": "faced-squad",
   "metadata": {},
   "outputs": [
    {
     "data": {
      "text/plain": [
       "(2433, 480, 480, 3)"
      ]
     },
     "execution_count": 46,
     "metadata": {},
     "output_type": "execute_result"
    }
   ],
   "source": [
    "X_test_cov.shape"
   ]
  },
  {
   "cell_type": "code",
   "execution_count": 47,
   "id": "urban-clerk",
   "metadata": {},
   "outputs": [],
   "source": [
    "N_EPOCHS=50\n",
    "DISPLAY_STEP=1"
   ]
  },
  {
   "cell_type": "code",
   "execution_count": 49,
   "id": "innovative-breeding",
   "metadata": {},
   "outputs": [],
   "source": [
    "from sklearn.metrics import accuracy_score, roc_curve, roc_auc_score, confusion_matrix, classification_report"
   ]
  },
  {
   "cell_type": "code",
   "execution_count": 56,
   "id": "05bb50bc",
   "metadata": {},
   "outputs": [
    {
     "name": "stdout",
     "output_type": "stream",
     "text": [
      "[[ 0. 30.  0.]\n",
      " [ 0. 37.  0.]\n",
      " [ 0. 33.  0.]]\n",
      "Training started\n",
      "541/541 [==============================] - 13772s 25s/step\n",
      "Epoch: 0001 Minibatch loss= nan\n",
      "[[30.  0.  0.]\n",
      " [37.  0.  0.]\n",
      " [33.  0.  0.]]\n",
      "Saving checkpoint at epoch 1\n",
      " 11/541 [..............................] - ETA: 189:37:53"
     ]
    },
    {
     "ename": "KeyboardInterrupt",
     "evalue": "",
     "output_type": "error",
     "traceback": [
      "\u001b[0;31m---------------------------------------------------------------------------\u001b[0m",
      "\u001b[0;31mKeyboardInterrupt\u001b[0m                         Traceback (most recent call last)",
      "\u001b[0;32m<ipython-input-56-2b6f5ad2e194>\u001b[0m in \u001b[0;36m<module>\u001b[0;34m\u001b[0m\n\u001b[1;32m     37\u001b[0m                                               \u001b[0mlabels_tensor\u001b[0m\u001b[0;34m:\u001b[0m \u001b[0mbatch_y\u001b[0m\u001b[0;34m,\u001b[0m\u001b[0;34m\u001b[0m\u001b[0;34m\u001b[0m\u001b[0m\n\u001b[1;32m     38\u001b[0m                                               \u001b[0msample_weights\u001b[0m\u001b[0;34m:\u001b[0m \u001b[0mweights\u001b[0m\u001b[0;34m,\u001b[0m\u001b[0;34m\u001b[0m\u001b[0;34m\u001b[0m\u001b[0m\n\u001b[0;32m---> 39\u001b[0;31m                                               training_tensor: is_training})\n\u001b[0m\u001b[1;32m     40\u001b[0m                 \u001b[0mprogbar\u001b[0m\u001b[0;34m.\u001b[0m\u001b[0mupdate\u001b[0m\u001b[0;34m(\u001b[0m\u001b[0mi\u001b[0m\u001b[0;34m+\u001b[0m\u001b[0;36m1\u001b[0m\u001b[0;34m)\u001b[0m\u001b[0;34m\u001b[0m\u001b[0;34m\u001b[0m\u001b[0m\n\u001b[1;32m     41\u001b[0m \u001b[0;34m\u001b[0m\u001b[0m\n",
      "\u001b[0;32m~/anaconda3/envs/tensorflow_p37/cpu/lib/python3.7/site-packages/tensorflow_core/python/client/session.py\u001b[0m in \u001b[0;36mrun\u001b[0;34m(self, fetches, feed_dict, options, run_metadata)\u001b[0m\n\u001b[1;32m    954\u001b[0m     \u001b[0;32mtry\u001b[0m\u001b[0;34m:\u001b[0m\u001b[0;34m\u001b[0m\u001b[0;34m\u001b[0m\u001b[0m\n\u001b[1;32m    955\u001b[0m       result = self._run(None, fetches, feed_dict, options_ptr,\n\u001b[0;32m--> 956\u001b[0;31m                          run_metadata_ptr)\n\u001b[0m\u001b[1;32m    957\u001b[0m       \u001b[0;32mif\u001b[0m \u001b[0mrun_metadata\u001b[0m\u001b[0;34m:\u001b[0m\u001b[0;34m\u001b[0m\u001b[0;34m\u001b[0m\u001b[0m\n\u001b[1;32m    958\u001b[0m         \u001b[0mproto_data\u001b[0m \u001b[0;34m=\u001b[0m \u001b[0mtf_session\u001b[0m\u001b[0;34m.\u001b[0m\u001b[0mTF_GetBuffer\u001b[0m\u001b[0;34m(\u001b[0m\u001b[0mrun_metadata_ptr\u001b[0m\u001b[0;34m)\u001b[0m\u001b[0;34m\u001b[0m\u001b[0;34m\u001b[0m\u001b[0m\n",
      "\u001b[0;32m~/anaconda3/envs/tensorflow_p37/cpu/lib/python3.7/site-packages/tensorflow_core/python/client/session.py\u001b[0m in \u001b[0;36m_run\u001b[0;34m(self, handle, fetches, feed_dict, options, run_metadata)\u001b[0m\n\u001b[1;32m   1178\u001b[0m     \u001b[0;32mif\u001b[0m \u001b[0mfinal_fetches\u001b[0m \u001b[0;32mor\u001b[0m \u001b[0mfinal_targets\u001b[0m \u001b[0;32mor\u001b[0m \u001b[0;34m(\u001b[0m\u001b[0mhandle\u001b[0m \u001b[0;32mand\u001b[0m \u001b[0mfeed_dict_tensor\u001b[0m\u001b[0;34m)\u001b[0m\u001b[0;34m:\u001b[0m\u001b[0;34m\u001b[0m\u001b[0;34m\u001b[0m\u001b[0m\n\u001b[1;32m   1179\u001b[0m       results = self._do_run(handle, final_targets, final_fetches,\n\u001b[0;32m-> 1180\u001b[0;31m                              feed_dict_tensor, options, run_metadata)\n\u001b[0m\u001b[1;32m   1181\u001b[0m     \u001b[0;32melse\u001b[0m\u001b[0;34m:\u001b[0m\u001b[0;34m\u001b[0m\u001b[0;34m\u001b[0m\u001b[0m\n\u001b[1;32m   1182\u001b[0m       \u001b[0mresults\u001b[0m \u001b[0;34m=\u001b[0m \u001b[0;34m[\u001b[0m\u001b[0;34m]\u001b[0m\u001b[0;34m\u001b[0m\u001b[0;34m\u001b[0m\u001b[0m\n",
      "\u001b[0;32m~/anaconda3/envs/tensorflow_p37/cpu/lib/python3.7/site-packages/tensorflow_core/python/client/session.py\u001b[0m in \u001b[0;36m_do_run\u001b[0;34m(self, handle, target_list, fetch_list, feed_dict, options, run_metadata)\u001b[0m\n\u001b[1;32m   1357\u001b[0m     \u001b[0;32mif\u001b[0m \u001b[0mhandle\u001b[0m \u001b[0;32mis\u001b[0m \u001b[0;32mNone\u001b[0m\u001b[0;34m:\u001b[0m\u001b[0;34m\u001b[0m\u001b[0;34m\u001b[0m\u001b[0m\n\u001b[1;32m   1358\u001b[0m       return self._do_call(_run_fn, feeds, fetches, targets, options,\n\u001b[0;32m-> 1359\u001b[0;31m                            run_metadata)\n\u001b[0m\u001b[1;32m   1360\u001b[0m     \u001b[0;32melse\u001b[0m\u001b[0;34m:\u001b[0m\u001b[0;34m\u001b[0m\u001b[0;34m\u001b[0m\u001b[0m\n\u001b[1;32m   1361\u001b[0m       \u001b[0;32mreturn\u001b[0m \u001b[0mself\u001b[0m\u001b[0;34m.\u001b[0m\u001b[0m_do_call\u001b[0m\u001b[0;34m(\u001b[0m\u001b[0m_prun_fn\u001b[0m\u001b[0;34m,\u001b[0m \u001b[0mhandle\u001b[0m\u001b[0;34m,\u001b[0m \u001b[0mfeeds\u001b[0m\u001b[0;34m,\u001b[0m \u001b[0mfetches\u001b[0m\u001b[0;34m)\u001b[0m\u001b[0;34m\u001b[0m\u001b[0;34m\u001b[0m\u001b[0m\n",
      "\u001b[0;32m~/anaconda3/envs/tensorflow_p37/cpu/lib/python3.7/site-packages/tensorflow_core/python/client/session.py\u001b[0m in \u001b[0;36m_do_call\u001b[0;34m(self, fn, *args)\u001b[0m\n\u001b[1;32m   1363\u001b[0m   \u001b[0;32mdef\u001b[0m \u001b[0m_do_call\u001b[0m\u001b[0;34m(\u001b[0m\u001b[0mself\u001b[0m\u001b[0;34m,\u001b[0m \u001b[0mfn\u001b[0m\u001b[0;34m,\u001b[0m \u001b[0;34m*\u001b[0m\u001b[0margs\u001b[0m\u001b[0;34m)\u001b[0m\u001b[0;34m:\u001b[0m\u001b[0;34m\u001b[0m\u001b[0;34m\u001b[0m\u001b[0m\n\u001b[1;32m   1364\u001b[0m     \u001b[0;32mtry\u001b[0m\u001b[0;34m:\u001b[0m\u001b[0;34m\u001b[0m\u001b[0;34m\u001b[0m\u001b[0m\n\u001b[0;32m-> 1365\u001b[0;31m       \u001b[0;32mreturn\u001b[0m \u001b[0mfn\u001b[0m\u001b[0;34m(\u001b[0m\u001b[0;34m*\u001b[0m\u001b[0margs\u001b[0m\u001b[0;34m)\u001b[0m\u001b[0;34m\u001b[0m\u001b[0;34m\u001b[0m\u001b[0m\n\u001b[0m\u001b[1;32m   1366\u001b[0m     \u001b[0;32mexcept\u001b[0m \u001b[0merrors\u001b[0m\u001b[0;34m.\u001b[0m\u001b[0mOpError\u001b[0m \u001b[0;32mas\u001b[0m \u001b[0me\u001b[0m\u001b[0;34m:\u001b[0m\u001b[0;34m\u001b[0m\u001b[0;34m\u001b[0m\u001b[0m\n\u001b[1;32m   1367\u001b[0m       \u001b[0mmessage\u001b[0m \u001b[0;34m=\u001b[0m \u001b[0mcompat\u001b[0m\u001b[0;34m.\u001b[0m\u001b[0mas_text\u001b[0m\u001b[0;34m(\u001b[0m\u001b[0me\u001b[0m\u001b[0;34m.\u001b[0m\u001b[0mmessage\u001b[0m\u001b[0;34m)\u001b[0m\u001b[0;34m\u001b[0m\u001b[0;34m\u001b[0m\u001b[0m\n",
      "\u001b[0;32m~/anaconda3/envs/tensorflow_p37/cpu/lib/python3.7/site-packages/tensorflow_core/python/client/session.py\u001b[0m in \u001b[0;36m_run_fn\u001b[0;34m(feed_dict, fetch_list, target_list, options, run_metadata)\u001b[0m\n\u001b[1;32m   1348\u001b[0m       \u001b[0mself\u001b[0m\u001b[0;34m.\u001b[0m\u001b[0m_extend_graph\u001b[0m\u001b[0;34m(\u001b[0m\u001b[0;34m)\u001b[0m\u001b[0;34m\u001b[0m\u001b[0;34m\u001b[0m\u001b[0m\n\u001b[1;32m   1349\u001b[0m       return self._call_tf_sessionrun(options, feed_dict, fetch_list,\n\u001b[0;32m-> 1350\u001b[0;31m                                       target_list, run_metadata)\n\u001b[0m\u001b[1;32m   1351\u001b[0m \u001b[0;34m\u001b[0m\u001b[0m\n\u001b[1;32m   1352\u001b[0m     \u001b[0;32mdef\u001b[0m \u001b[0m_prun_fn\u001b[0m\u001b[0;34m(\u001b[0m\u001b[0mhandle\u001b[0m\u001b[0;34m,\u001b[0m \u001b[0mfeed_dict\u001b[0m\u001b[0;34m,\u001b[0m \u001b[0mfetch_list\u001b[0m\u001b[0;34m)\u001b[0m\u001b[0;34m:\u001b[0m\u001b[0;34m\u001b[0m\u001b[0;34m\u001b[0m\u001b[0m\n",
      "\u001b[0;32m~/anaconda3/envs/tensorflow_p37/cpu/lib/python3.7/site-packages/tensorflow_core/python/client/session.py\u001b[0m in \u001b[0;36m_call_tf_sessionrun\u001b[0;34m(self, options, feed_dict, fetch_list, target_list, run_metadata)\u001b[0m\n\u001b[1;32m   1441\u001b[0m     return tf_session.TF_SessionRun_wrapper(self._session, options, feed_dict,\n\u001b[1;32m   1442\u001b[0m                                             \u001b[0mfetch_list\u001b[0m\u001b[0;34m,\u001b[0m \u001b[0mtarget_list\u001b[0m\u001b[0;34m,\u001b[0m\u001b[0;34m\u001b[0m\u001b[0;34m\u001b[0m\u001b[0m\n\u001b[0;32m-> 1443\u001b[0;31m                                             run_metadata)\n\u001b[0m\u001b[1;32m   1444\u001b[0m \u001b[0;34m\u001b[0m\u001b[0m\n\u001b[1;32m   1445\u001b[0m   \u001b[0;32mdef\u001b[0m \u001b[0m_call_tf_sessionprun\u001b[0m\u001b[0;34m(\u001b[0m\u001b[0mself\u001b[0m\u001b[0;34m,\u001b[0m \u001b[0mhandle\u001b[0m\u001b[0;34m,\u001b[0m \u001b[0mfeed_dict\u001b[0m\u001b[0;34m,\u001b[0m \u001b[0mfetch_list\u001b[0m\u001b[0;34m)\u001b[0m\u001b[0;34m:\u001b[0m\u001b[0;34m\u001b[0m\u001b[0;34m\u001b[0m\u001b[0m\n",
      "\u001b[0;31mKeyboardInterrupt\u001b[0m: "
     ]
    }
   ],
   "source": [
    "with tf.Graph().as_default() as g:\n",
    "    meta = tf1.train.import_meta_graph(str(model_dir / meta_name))\n",
    "    x = g.get_tensor_by_name('input_1:0')\n",
    "    y = g.get_tensor_by_name('norm_dense_1/Softmax:0')\n",
    "    image_tensor = g.get_tensor_by_name('input_1:0')\n",
    "    labels_tensor = g.get_tensor_by_name('norm_dense_1_target:0')\n",
    "    sample_weights = g.get_tensor_by_name('norm_dense_1_sample_weights:0')\n",
    "    pred_tensor = g.get_tensor_by_name('norm_dense_1/MatMul:0')\n",
    "    training_tensor = g.get_tensor_by_name('keras_learning_phase:0')\n",
    "    \n",
    "    #Optimizer\n",
    "    loss_op = tf.reduce_mean(tf1.nn.softmax_cross_entropy_with_logits_v2(\n",
    "                                logits=pred_tensor, labels=labels_tensor)*sample_weights)\n",
    "    optimizer = tf1.train.AdamOptimizer(learning_rate=learning_rate)\n",
    "    train_op = optimizer.minimize(loss_op)\n",
    "    \n",
    "    with tf1.Session() as sess:\n",
    "        #meta.restore(sess, str(model_dir / ckpt_name))\n",
    "        sess.run(tf1.global_variables_initializer())\n",
    "        #print(sess.run(y, feed_dict={x: X_test_cov[:5]}))\n",
    "        # Training cycle\n",
    "        pred = []\n",
    "        for x_element in X_test_cov[:100]:\n",
    "            pred.append(np.array(sess.run(y, feed_dict={x: np.expand_dims(x_element.astype('float32')/255, axis=0)})).argmax(axis=1))\n",
    "        matrix = confusion_matrix(y_test[:100], pred)\n",
    "        matrix = matrix.astype('float')\n",
    "        print(matrix)\n",
    "        \n",
    "        print('Training started')\n",
    "        total_batch = len(generator)\n",
    "        progbar = tf.keras.utils.Progbar(total_batch)\n",
    "        for epoch in range(N_EPOCHS):\n",
    "            for i in range(total_batch):\n",
    "                # Run optimization\n",
    "                batch_x, batch_y, weights, is_training = next(generator)\n",
    "                sess.run(train_op, feed_dict={image_tensor: batch_x,\n",
    "                                              labels_tensor: batch_y,\n",
    "                                              sample_weights: weights,\n",
    "                                              training_tensor: is_training})\n",
    "                progbar.update(i+1)\n",
    "\n",
    "            if epoch % DISPLAY_STEP == 0:\n",
    "                pred = sess.run(pred_tensor, feed_dict={image_tensor:batch_x})\n",
    "                loss = sess.run(loss_op, feed_dict={pred_tensor: pred,\n",
    "                                                    labels_tensor: batch_y,\n",
    "                                                    sample_weights: weights})\n",
    "                print(\"Epoch:\", '%04d' % (epoch + 1), \"Minibatch loss=\", \"{:.9f}\".format(loss))\n",
    "                \n",
    "                new_pred = []\n",
    "                for x_element in X_test_cov[:100]:\n",
    "                    new_pred.append(np.array(sess.run(y, feed_dict={x: np.expand_dims(x_element.astype('float32')/255, axis=0)})).argmax(axis=1))\n",
    "                matrix = confusion_matrix(y_test[:100], new_pred)\n",
    "                matrix = matrix.astype('float')\n",
    "                print(matrix)\n",
    "                \n",
    "                meta.save(sess, str(model_dir / 'my-model'), global_step=epoch+1, write_meta_graph=False)\n",
    "                print('Saving checkpoint at epoch {}'.format(epoch + 1))"
   ]
  },
  {
   "cell_type": "code",
   "execution_count": null,
   "id": "0ddb0052",
   "metadata": {},
   "outputs": [],
   "source": []
  }
 ],
 "metadata": {
  "kernelspec": {
   "display_name": "Python 3 (ipykernel)",
   "language": "python",
   "name": "python3"
  },
  "language_info": {
   "codemirror_mode": {
    "name": "ipython",
    "version": 3
   },
   "file_extension": ".py",
   "mimetype": "text/x-python",
   "name": "python",
   "nbconvert_exporter": "python",
   "pygments_lexer": "ipython3",
   "version": "3.9.7"
  }
 },
 "nbformat": 4,
 "nbformat_minor": 5
}
