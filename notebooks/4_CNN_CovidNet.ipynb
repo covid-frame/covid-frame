{
 "cells": [
  {
   "cell_type": "code",
   "execution_count": 2,
   "id": "520c1532",
   "metadata": {},
   "outputs": [],
   "source": [
    "%load_ext autoreload\n",
    "%autoreload 2"
   ]
  },
  {
   "cell_type": "code",
   "execution_count": 3,
   "id": "55bc467f",
   "metadata": {},
   "outputs": [],
   "source": [
    "BASE_PATH=\"/mnt/Archivos/dataset-xray\""
   ]
  },
  {
   "cell_type": "code",
   "execution_count": 4,
   "id": "ecd8c41e",
   "metadata": {},
   "outputs": [],
   "source": [
    "from pathlib import Path\n",
    "from covidframe.tools.load import load_database_from_hdf"
   ]
  },
  {
   "cell_type": "code",
   "execution_count": 5,
   "id": "e7ae6238",
   "metadata": {},
   "outputs": [],
   "source": [
    "base_dir = Path(BASE_PATH)\n",
    "DEFAULT_DATABASE_NAME_TRAIN = \"database_balanced_train.h5\"\n",
    "DEFAULT_DATABASE_NAME_TEST = \"database_balanced_test.h5\""
   ]
  },
  {
   "cell_type": "code",
   "execution_count": 6,
   "id": "07763d47",
   "metadata": {},
   "outputs": [],
   "source": [
    "df_train = load_database_from_hdf(filename= base_dir / DEFAULT_DATABASE_NAME_TRAIN)\n",
    "df_test = load_database_from_hdf(filename= base_dir / DEFAULT_DATABASE_NAME_TEST)"
   ]
  },
  {
   "cell_type": "code",
   "execution_count": 7,
   "id": "6dc61b32",
   "metadata": {},
   "outputs": [],
   "source": [
    "category_mappings = {\n",
    "    \"normal\":0,\n",
    "    \"pneumonia\":1,\n",
    "    \"covid-19\":2\n",
    "}"
   ]
  },
  {
   "cell_type": "code",
   "execution_count": 9,
   "id": "56afbedf",
   "metadata": {},
   "outputs": [],
   "source": [
    "import numpy as np"
   ]
  },
  {
   "cell_type": "code",
   "execution_count": 9,
   "id": "923464db",
   "metadata": {},
   "outputs": [],
   "source": [
    "X = np.stack(df_train[\"resized\"])"
   ]
  },
  {
   "cell_type": "code",
   "execution_count": 10,
   "id": "adf19199",
   "metadata": {},
   "outputs": [],
   "source": [
    "y = df_train[\"category\"].map(category_mappings)"
   ]
  },
  {
   "cell_type": "code",
   "execution_count": 11,
   "id": "70377cb6",
   "metadata": {},
   "outputs": [],
   "source": [
    "from sklearn.model_selection import train_test_split"
   ]
  },
  {
   "cell_type": "code",
   "execution_count": 12,
   "id": "ba7c9640",
   "metadata": {},
   "outputs": [],
   "source": [
    "X_train, X_val, y_train, y_val = train_test_split(X, y, test_size=0.25, random_state=100)"
   ]
  },
  {
   "cell_type": "code",
   "execution_count": 13,
   "id": "b86d7478",
   "metadata": {},
   "outputs": [],
   "source": [
    "X_train = X_train.reshape((-1, 299, 299, 1))\n",
    "X_val = X_val.reshape((-1, 299, 299, 1))"
   ]
  },
  {
   "cell_type": "code",
   "execution_count": 8,
   "id": "8ea188c3",
   "metadata": {},
   "outputs": [],
   "source": [
    "import tensorflow as tf"
   ]
  },
  {
   "cell_type": "code",
   "execution_count": 9,
   "id": "d93d2f6d",
   "metadata": {},
   "outputs": [],
   "source": [
    "import tensorflow.compat.v1 as tf1"
   ]
  },
  {
   "cell_type": "code",
   "execution_count": 49,
   "id": "3070c4df",
   "metadata": {},
   "outputs": [],
   "source": [
    "model_dir=Path(\"/home/luighi/COVID-Net/models/COVIDNet-CXR4-C\")\n",
    "meta_name=\"model.meta\"\n",
    "ckpt_name=\"model-3090\""
   ]
  },
  {
   "cell_type": "code",
   "execution_count": null,
   "id": "62d98d8b",
   "metadata": {},
   "outputs": [],
   "source": [
    "#tf1.Session().close()\n",
    "#doesn't work eager mode\n",
    "def covidnet_wrapper():\n",
    "  # Any graph-building code is allowed here.\n",
    "  tf1.train.import_meta_graph(model_dir / meta_name)\n",
    "\n",
    "x = import_graph.get_tensor_by_name('input_2:0')\n",
    "y = import_graph.get_tensor_by_name('softmax/Softmax:0')\n",
    "\n",
    "# Creates a tf.function with all the imported elements in the function graph.\n",
    "wrapped_import = tf1.wrap_function(covidnet_wrapper, [])\n",
    "import_graph = wrapped_import.graph\n",
    "\n",
    "# Restore the variable values.\n",
    "tf1.train.Saver(wrapped_import.variables).restore(\n",
    "    sess=None, save_path= str(model_dir / ckpt_name))\n",
    "\n",
    "covid_fn = wrapped_import.prune(feeds=x, fetches=y)"
   ]
  },
  {
   "cell_type": "code",
   "execution_count": 11,
   "id": "a7dd1130",
   "metadata": {},
   "outputs": [],
   "source": [
    "X_test = np.stack(df_test[\"resized\"])"
   ]
  },
  {
   "cell_type": "code",
   "execution_count": 29,
   "id": "e71cafd6",
   "metadata": {},
   "outputs": [],
   "source": [
    "df_test[\"resized_3d\"] = df_test[\"resized\"].apply(lambda x: np.tile(x[...,None],3))"
   ]
  },
  {
   "cell_type": "code",
   "execution_count": 13,
   "id": "f37c6420",
   "metadata": {},
   "outputs": [],
   "source": [
    "from covidframe.tools.image import resize_image"
   ]
  },
  {
   "cell_type": "code",
   "execution_count": 30,
   "id": "755267ea",
   "metadata": {},
   "outputs": [],
   "source": [
    "df_test[\"resized_covidnet\"] = df_test[\"resized_3d\"].apply(lambda x: resize_image(x,(480,480)))"
   ]
  },
  {
   "cell_type": "code",
   "execution_count": 31,
   "id": "bd8c6b99",
   "metadata": {},
   "outputs": [],
   "source": [
    "X_test_cov = np.stack(df_test[\"resized_covidnet\"])"
   ]
  },
  {
   "cell_type": "code",
   "execution_count": 32,
   "id": "20bd6ff3",
   "metadata": {},
   "outputs": [
    {
     "data": {
      "text/plain": [
       "(2433, 480, 480, 3)"
      ]
     },
     "execution_count": 32,
     "metadata": {},
     "output_type": "execute_result"
    }
   ],
   "source": [
    "X_test_cov.shape"
   ]
  },
  {
   "cell_type": "code",
   "execution_count": 39,
   "id": "2004e346",
   "metadata": {},
   "outputs": [],
   "source": [
    "## For covid net requires medusa backbone image input\n",
    "df_test[\"resized_covidnet_medusa\"] = df_test[\"resized\"].apply(lambda x: resize_image(x,(256,256)))\n",
    "df_test[\"resized_covidnet_medusa\"] = df_test[\"resized_covidnet_medusa\"].apply(lambda x: x.astype(\"float64\"))\n",
    "df_test[\"resized_covidnet_medusa\"] = df_test[\"resized_covidnet_medusa\"].apply(lambda x: x- x.mean())\n",
    "df_test[\"resized_covidnet_medusa\"] = df_test[\"resized_covidnet_medusa\"].apply(lambda x: x / x.std())\n",
    "df_test[\"resized_covidnet_medusa\"] = df_test[\"resized_covidnet_medusa\"].apply(lambda x: np.expand_dims(x,-1))"
   ]
  },
  {
   "cell_type": "code",
   "execution_count": 40,
   "id": "42be2469",
   "metadata": {},
   "outputs": [],
   "source": [
    "X_test_cov_medusa = np.stack(df_test[\"resized_covidnet_medusa\"])"
   ]
  },
  {
   "cell_type": "code",
   "execution_count": 42,
   "id": "62f38f04",
   "metadata": {},
   "outputs": [
    {
     "data": {
      "text/plain": [
       "(5, 256, 256, 1)"
      ]
     },
     "execution_count": 42,
     "metadata": {},
     "output_type": "execute_result"
    }
   ],
   "source": [
    "X_test_cov_medusa[:5].shape"
   ]
  },
  {
   "cell_type": "code",
   "execution_count": 27,
   "id": "91802cb8",
   "metadata": {},
   "outputs": [
    {
     "data": {
      "text/plain": [
       "(5, 256, 256, 1)"
      ]
     },
     "execution_count": 27,
     "metadata": {},
     "output_type": "execute_result"
    }
   ],
   "source": [
    "X_test_cov[:5].shape"
   ]
  },
  {
   "cell_type": "code",
   "execution_count": 50,
   "id": "bd0c8fca",
   "metadata": {},
   "outputs": [
    {
     "name": "stdout",
     "output_type": "stream",
     "text": [
      "INFO:tensorflow:Restoring parameters from /home/luighi/COVID-Net/models/COVIDNet-CXR4-C/model-3090\n",
      "[[0. 0. 1.]\n",
      " [0. 0. 1.]\n",
      " [0. 0. 1.]\n",
      " [0. 0. 1.]\n",
      " [0. 0. 1.]]\n"
     ]
    }
   ],
   "source": [
    "with tf.Graph().as_default() as g:\n",
    "    meta = tf1.train.import_meta_graph(model_dir / meta_name)\n",
    "    x = g.get_tensor_by_name('input_1:0')\n",
    "    y = g.get_tensor_by_name('norm_dense_1/Softmax:0')\n",
    "    with tf1.Session() as sess:\n",
    "        meta.restore(sess, str(model_dir / ckpt_name))\n",
    "        print(sess.run(y, feed_dict={x: X_test_cov[:5]}))"
   ]
  },
  {
   "cell_type": "markdown",
   "id": "90180d51",
   "metadata": {},
   "source": [
    "## Training"
   ]
  },
  {
   "cell_type": "code",
   "execution_count": 10,
   "id": "3fc6c5de",
   "metadata": {},
   "outputs": [],
   "source": [
    "df_train[\"resized_3d\"] = df_train[\"resized\"].apply(lambda x: np.tile(x[...,None],3))"
   ]
  },
  {
   "cell_type": "code",
   "execution_count": 11,
   "id": "d282b338",
   "metadata": {},
   "outputs": [],
   "source": [
    "del df_test"
   ]
  },
  {
   "cell_type": "code",
   "execution_count": 14,
   "id": "8b4f0cb5",
   "metadata": {},
   "outputs": [],
   "source": [
    "df_train[\"resized_covidnet\"] = df_train[\"resized_3d\"].apply(lambda x: resize_image(x,(480,480)))"
   ]
  },
  {
   "cell_type": "code",
   "execution_count": null,
   "id": "de07552f",
   "metadata": {},
   "outputs": [],
   "source": [
    "#https://cs230.stanford.edu/blog/createtrainmodel/"
   ]
  },
  {
   "cell_type": "code",
   "execution_count": null,
   "id": "7865941b",
   "metadata": {},
   "outputs": [],
   "source": [
    "X_train = np.stack(df_train[\"resized_covidnet\"])"
   ]
  },
  {
   "cell_type": "code",
   "execution_count": null,
   "id": "9eb518e6",
   "metadata": {},
   "outputs": [],
   "source": [
    "y_train = df_train[\"category\"].map(category_mappings)"
   ]
  },
  {
   "cell_type": "code",
   "execution_count": 56,
   "id": "db6da79d",
   "metadata": {},
   "outputs": [],
   "source": [
    "learning_rate=0.1"
   ]
  },
  {
   "cell_type": "code",
   "execution_count": null,
   "id": "562c0b4d",
   "metadata": {},
   "outputs": [],
   "source": [
    "dataset_train = tf.data.Dataset.from_tensor_slices((X_train, y_train))"
   ]
  },
  {
   "cell_type": "code",
   "execution_count": 61,
   "id": "05bb50bc",
   "metadata": {},
   "outputs": [],
   "source": [
    "with tf.Graph().as_default() as g:\n",
    "    meta = tf1.train.import_meta_graph(model_dir / meta_name)\n",
    "    x = g.get_tensor_by_name('input_1:0')\n",
    "    y = g.get_tensor_by_name('norm_dense_1/Softmax:0')\n",
    "    image_tensor = g.get_tensor_by_name('input_1:0')\n",
    "    labels_tensor = g.get_tensor_by_name('norm_dense_1_target:0')\n",
    "    sample_weights = g.get_tensor_by_name('norm_dense_1_sample_weights:0')\n",
    "    pred_tensor = g.get_tensor_by_name('norm_dense_1/MatMul:0')\n",
    "    training_tensor = g.get_tensor_by_name('keras_learning_phase:0')\n",
    "    \n",
    "    #Optimizer\n",
    "    loss_op = tf.reduce_mean(tf1.nn.softmax_cross_entropy_with_logits_v2(\n",
    "                                logits=pred_tensor, labels=labels_tensor)*sample_weights)\n",
    "    optimizer = tf1.train.AdamOptimizer(learning_rate=learning_rate)\n",
    "    train_op = optimizer.minimize(loss_op)\n",
    "    \n",
    "    with tf1.Session() as sess:\n",
    "        #meta.restore(sess, str(model_dir / ckpt_name))\n",
    "        sess.run(tf1.global_variables_initializer())\n",
    "        #print(sess.run(y, feed_dict={x: X_test_cov[:5]}))"
   ]
  },
  {
   "cell_type": "code",
   "execution_count": null,
   "id": "0ddb0052",
   "metadata": {},
   "outputs": [],
   "source": []
  }
 ],
 "metadata": {
  "kernelspec": {
   "display_name": "Python 3 (ipykernel)",
   "language": "python",
   "name": "python3"
  },
  "language_info": {
   "codemirror_mode": {
    "name": "ipython",
    "version": 3
   },
   "file_extension": ".py",
   "mimetype": "text/x-python",
   "name": "python",
   "nbconvert_exporter": "python",
   "pygments_lexer": "ipython3",
   "version": "3.9.7"
  }
 },
 "nbformat": 4,
 "nbformat_minor": 5
}
